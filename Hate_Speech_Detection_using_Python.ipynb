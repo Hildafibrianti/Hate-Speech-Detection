{
  "nbformat": 4,
  "nbformat_minor": 0,
  "metadata": {
    "colab": {
      "name": "Hate Speech Detection using Python.ipynb",
      "provenance": [],
      "collapsed_sections": [],
      "authorship_tag": "ABX9TyOq8mOWa0Da/f8nNCfAWuxS",
      "include_colab_link": true
    },
    "kernelspec": {
      "name": "python3",
      "display_name": "Python 3"
    }
  },
  "cells": [
    {
      "cell_type": "markdown",
      "metadata": {
        "id": "view-in-github",
        "colab_type": "text"
      },
      "source": [
        "<a href=\"https://colab.research.google.com/github/Hildafibrianti/Hate-Speech-Detection/blob/master/Hate_Speech_Detection_using_Python.ipynb\" target=\"_parent\"><img src=\"https://colab.research.google.com/assets/colab-badge.svg\" alt=\"Open In Colab\"/></a>"
      ]
    },
    {
      "cell_type": "markdown",
      "metadata": {
        "id": "FN2FJFLLXffj"
      },
      "source": [
        "# **Text Mining**\n",
        "\n",
        "Text mining is the process of exploring and analyzing large amounts of unstructured text data aided by software that can identify concepts, patterns, topics, keywords, and other attributes in the data.\n",
        "\n",
        "Before we start, we will load some libraries that we will be use."
      ]
    },
    {
      "cell_type": "code",
      "metadata": {
        "colab": {
          "base_uri": "https://localhost:8080/"
        },
        "id": "3wvM9xWYF_gj",
        "outputId": "f5f35b41-5e5b-4f66-eb4b-4f8ce9fe9624"
      },
      "source": [
        "import pandas as pd\n",
        "from nltk.corpus import stopwords\n",
        "import string\n",
        "import nltk\n",
        "from sklearn.feature_extraction.text import CountVectorizer\n",
        "from sklearn.feature_extraction.text import TfidfVectorizer\n",
        "from sklearn.metrics import confusion_matrix\n",
        "import seaborn\n",
        "!pip install textstat\n",
        "from sklearn.linear_model import LogisticRegression\n",
        "from sklearn.model_selection import train_test_split\n",
        "from sklearn.metrics import f1_score\n",
        "from sklearn.feature_selection import SelectFromModel\n",
        "from sklearn.metrics import classification_report\n",
        "from sklearn.metrics import accuracy_score\n",
        "from sklearn.svm import LinearSVC\n",
        "from sklearn.ensemble import RandomForestClassifier\n",
        "from sklearn.naive_bayes import GaussianNB\n",
        "import numpy as np\n",
        "%matplotlib inline"
      ],
      "execution_count": 117,
      "outputs": [
        {
          "output_type": "stream",
          "text": [
            "Requirement already satisfied: textstat in /usr/local/lib/python3.6/dist-packages (0.7.0)\n",
            "Requirement already satisfied: pyphen in /usr/local/lib/python3.6/dist-packages (from textstat) (0.10.0)\n"
          ],
          "name": "stdout"
        }
      ]
    },
    {
      "cell_type": "markdown",
      "metadata": {
        "id": "IaUG0QkXY-HF"
      },
      "source": [
        "**Import Raw Data**\n",
        "\n",
        "The data that i use IDHSD_RIO_unbalanced_713_2017.txt from (https://github.com/ialfina/id-hatespeech-detection). Here the data from local file upload into Google Colaboratory."
      ]
    },
    {
      "cell_type": "code",
      "metadata": {
        "colab": {
          "resources": {
            "http://localhost:8080/nbextensions/google.colab/files.js": {
              "data": "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",
              "ok": true,
              "headers": [
                [
                  "content-type",
                  "application/javascript"
                ]
              ],
              "status": 200,
              "status_text": ""
            }
          },
          "base_uri": "https://localhost:8080/",
          "height": 111
        },
        "id": "nB1xtk77GHiZ",
        "outputId": "d7c6696e-a6a3-4820-8537-5149f9424766"
      },
      "source": [
        "from google.colab import files\n",
        "files.upload()"
      ],
      "execution_count": 118,
      "outputs": [
        {
          "output_type": "display_data",
          "data": {
            "text/html": [
              "\n",
              "     <input type=\"file\" id=\"files-5764177e-6a2d-4458-9779-c8290e56409b\" name=\"files[]\" multiple disabled\n",
              "        style=\"border:none\" />\n",
              "     <output id=\"result-5764177e-6a2d-4458-9779-c8290e56409b\">\n",
              "      Upload widget is only available when the cell has been executed in the\n",
              "      current browser session. Please rerun this cell to enable.\n",
              "      </output>\n",
              "      <script src=\"/nbextensions/google.colab/files.js\"></script> "
            ],
            "text/plain": [
              "<IPython.core.display.HTML object>"
            ]
          },
          "metadata": {
            "tags": []
          }
        },
        {
          "output_type": "stream",
          "text": [
            "Saving IDHSD_RIO_unbalanced_713_2017.txt to IDHSD_RIO_unbalanced_713_2017 (3).txt\n"
          ],
          "name": "stdout"
        },
        {
          "output_type": "execute_result",
          "data": {
            "text/plain": [
              "{'IDHSD_RIO_unbalanced_713_2017.txt': b'Label\\tTweet\\rNon_HS\\tRT @spardaxyz: Fadli Zon Minta Mendagri Segera Menonaktifkan Ahok Jadi Gubernur DKI https:\\\\/\\\\/t.co\\\\/KH5vIRwPdO\\rNon_HS\\tRT @baguscondromowo: Mereka terus melukai aksi dalam rangka memenjarakan Ahok atau Ahok gagal dalam Pilkada.\\rNon_HS\\tSylvi: bagaimana gurbernur melakukan kekerasan perempuan? Buktinya banyak ibu2 mau foto bareng #DebatFinalPilkadaJKT\\rNon_HS\\t\"Ahmad Dhani Tak Puas Debat Pilkada, Masalah Jalan di Bekasi Belum Sempat Terungkap https:\\\\/\\\\/t.co\\\\/m3HopPLUID\\\\u2026\"\\rNon_HS\\tRT @lisdaulay28: Waspada KTP palsu.....kawal PILKADA https:\\\\/\\\\/t.co\\\\/OOoERQV4SM\\rNon_HS\\t\"@felixsiauw masih bnyak hal agamis yg bisa dibahas, kenapa ke pilkada terus, apa tingkat keimanan anda cuma sebatas pilkada????\"\\rNon_HS\\t@saidaqil apa maksud pernyataan. Anda? Apa anda mengaminkan kriminalisasi Ahok?? Hati2 jg dg mulutmu pak! https:\\\\/\\\\/t.co\\\\/H4ODVaY0Md\\rNon_HS\\tAhok Akan Integrasikan Transportasi Publik dengan Sistem Single Ticketing\\\\u2026 https:\\\\/\\\\/t.co\\\\/42PH7pqV0b #infoTribun\\rNon_HS\\t\"Ahok mampu melawan korupsi di ibukota, bangun infrastruktur, mencoba memperbaiki dengan berbagai trobosan dan works well.\"\\rNon_HS\\t\"Awasi Kecurangan Pilkada, Agus - Sylvi Pakai Aplikasi Ini https:\\\\/\\\\/t.co\\\\/xWZW4nUFIU\"\\rNon_HS\\t\"Bisa gak kita seperti Jokowi dan Ahok? Aku kalem, kamu tegas saling melengkapi. :\\')\"\\rNon_HS\\t\"Bos mau makan di istana ga, Di undang noh makan di istana Gebang tapinya https:\\\\/\\\\/t.co\\\\/ns6cUYCpUj\"\\rNon_HS\\tCuti Habis Ahok Jadi Gubernur DKI Lagi? Pengamat: Jangan Mengada-ada | Republika Online https:\\\\/\\\\/t.co\\\\/T3kzvq9E4e\\rNon_HS\\tDebat terakhir Pilkada DKI Jakarta digelar Jumat malam. https:\\\\/\\\\/t.co\\\\/e9ixz6Jllr\\rNon_HS\\tDemonstran FPD Malteng Desak Bawaslu Hentikan Sementara Tahapan Pilkada Maluku Tengah\\rNon_HS\\t\"Dulu Didesak Berhentikan Ahok Ngeles Usai Masa Cuti Pilkada, Sekarang Kampanye Mau Habis Kemendagri Ragu-ragu https:\\\\/\\\\/t.co\\\\/92ss4trDcX\"\\rNon_HS\\t\"Gila gara2 pilkada, beberapa tokoh menampakkan watak aslinya.\"\\rNon_HS\\tGontor Izinkan Santrinya Pulang Kampung Nyoblos Pilkada DKI | Republika Online https:\\\\/\\\\/t.co\\\\/JhNOT8ecNz\\rNon_HS\\t\"Gubernur non-aktif DKI Jakarta, Basuki Tjahaja Purnama atau Ahok, berencana merombak struktur jabatan pegawai... https:\\\\/\\\\/t.co\\\\/cdKEZxF9xO\"\\rNon_HS\\tHEBAT .. !!! Imam Besar Masjid Istiqlal : Kalimat Ahok 100% Tidak Ada Penistaan AGAMA .. !! SEBARKAN\\rNon_HS\\t\"Ibu2 aja, kalo beli telor pake milih2 sblm ditimbang. Pdh telor kan mirip2. Ibu2 itu tahu, telor ada yg busuk\"\\rNon_HS\\tIni Jawaban Ahok Saat Ditanya Terkait Persiapan Debat Pilgub Terakhir Besok https:\\\\/\\\\/t.co\\\\/S6rlsAR7Y9\\rNon_HS\\tIni Pesan Ahok di Hari Pers Nasional #KitaPastiPernah https:\\\\/\\\\/t.co\\\\/h0L6mrjM3R\\rNon_HS\\tIstighotsah Bersama Ahok Catut Logo NU https:\\\\/\\\\/t.co\\\\/U2rPY3C25R\\rNon_HS\\tItu yang ngomong jangan pilih Ahok Djarot pernah ngerasain banjir ga sih? :(\\rNon_HS\\tIya aja deh dripada hoax...\\rNon_HS\\tJadi teringat para pelacur.belia yg dijual orang tuanya.sendiri di pantura.demi sesuap nasi https:\\\\/\\\\/t.co\\\\/X5DdR7m693\\rNon_HS\\tjadi yg nyebar hoax ketahuan dong ada akun twitter nya lho\\rNon_HS\\tMpok @sylviana_murni-nya tolong Mas @AgusYudhoyono\\rNon_HS\\tKe Bidara beli mangga. Pulang nye liwat Slipi. Jangan lupa ingetin tetangga. Untuk milih Agus sylvi. #7HariLagiMilihAHY #AgusBersamaUlama\\rNon_HS\\tSerius tapi ada selipan hiburannya \\\\ud83d\\\\ude06\\\\ud83d\\\\ude06\\\\ud83d\\\\ude06 #pilkadadki2017 #DebatFinalPilkadaJKT\\rNon_HS\\tSylvie sukses blunder bikin paslon 1 drop elektabilitasnya dengan fitnah dan spin salah pilih kader #DebatFinalPilkadaJKT\\rNon_HS\\tAhok: mari berlomba program #DebatFinalPilkadaJKT\\rNon_HS\\t#DebatFinalPilkadaJKT aduh... Kecewa pertanyaan paslon 1....\\rNon_HS\\tRT @agusdansylvi: #DebatFinalPilkadaJKT Saya pilih nomor 1. Sektor informal akan dimajukan mas Agus dan Mpok Sylvi.\\rNon_HS\\tRT @JTmor: Ahok pilihan terbaik untuk Jakarta\\rNon_HS\\tRT @augustfrankto: #DebatFinalPilkadaJKT Bu Silvy curhat karena pernah dimarahi sama Pak Ahok...hehe..\\rNon_HS\\tMantap pak AHOK #DebatFinalPilkadaJKT\\rNon_HS\\tAhok gagah kaya gatot kaca! #DebatFinalPilkadaJKT\\rNon_HS\\tTelaaaakkk nomer satuuuu. Nghahahaha #DebatFinalPilkadaJKT\\rNon_HS\\tLomba adu program #DebatFinalPilkadaJKT #SkakSilvi\\rNon_HS\\t#DebatFinalPilkadaJKT Denger banyak program dan janji dan sering tau pas jadi ga dijalankan rasanya males aja sih.\\rNon_HS\\tDEBAT CAGUB DKI ke 3 - 10 Februari 2017 - Segmen 3 Mantap Ahok SKAK Sylviana Murni\\\\n\\\\n#DebatFinalPilkadaJKT\\rNon_HS\\tPertanyaan Ibu Silvy rada maksa.. #DebatFinalPilkadaJKT\\rNon_HS\\t\"Tanggal 15, pas pilkada nanti sy gak akan milih siapa-siapa ah!\"\\rNon_HS\\t\"Saya pribadi bakal prefer kok muslim dengan kapabilitas, tetapi lihat kondisinya Ahok menjadi pilihan plg realistis buat kemajuan DKI\"\\rNon_HS\\t\"Yang mendukung Mas Anies bukan berarti anti Pak Ahok, begitu Pula sebaliknya\"\\rNon_HS\\tSpanduk Tolak Salatkan Pembela Penista Agama juga Muncul di Kalibata https:\\\\/\\\\/t.co\\\\/Sr1PbYtigN\\rNon_HS\\t#DebatFinalPilkadaJKT Telak banget anjir ngakak!\\rNon_HS\\tAyo berlomba program jangan fitnah2 #DebatFinalPilkadaJKT\\rNon_HS\\tRT @deelestari: Akhirnya nggak ngantuk lagi! Yeay! #DebatFinalPilkadaJKT\\rNon_HS\\tDuh dibilang ga punya program paslon 1... kesian kesian kesian ... #debatfinalpilkadajkt\\rNon_HS\\t\"Tuntut Keadilan Bagi Penista Agama, Puluhan Jawara Betawi Ikuti Aksi 212 Jilid II https:\\\\/\\\\/t.co\\\\/HWVuoZyYov\"\\rNon_HS\\tKeras nih ahok #DebatFinalPilkadaJKT\\rNon_HS\\tPaslon 3 Anies Sandiaga Uno 15 Feb 2017 Utk Jakarta Indonesia Raya OK OCE\\rNon_HS\\tSesuai namanya: RONDE FINAL\\\\n\\\\n#DebatFinalPilkadaJKT\\rNon_HS\\t\"Mendagri Tambah Pusing, Ketika MA Emoh Keluarkan Fatwa Status Gubernur Penista Agama https:\\\\/\\\\/t.co\\\\/J34aMQiMNi\"\\rNon_HS\\tTolong adu program\\rNon_HS\\tGenderang perang makin kencang #DebatFinalPilkadaJKT\\rNon_HS\\tMpok sylvi udah mulai emosi \\\\ud83d\\\\ude02\\\\n #DebatFinalPilkadaJKT\\rNon_HS\\tSome people gabisa bedain kasar sama tegas. #DebatFinalPilkadaJKT\\rNon_HS\\tBeliau para pemimpin hebat Indonesia! Kita bangga https:\\\\/\\\\/t.co\\\\/NAWbps9Xpt https:\\\\/\\\\/t.co\\\\/5cC2U9AIEv\\rNon_HS\\t@InformasiDKI mungkin bu silvy jg pengen foto sama pak ahok hihihi #DebatFinalPilkadaJKT\\rNon_HS\\t#DebatFinalPilkadaJKT Mulai saling serang deh\\rNon_HS\\tRT @InaKinoy: baca ini dulu lah biar mendinginkan suasana #DebatFinalPilkadaJKT https:\\\\/\\\\/t.co\\\\/Em9GCKc4qe\\rNon_HS\\tayo berlomba program jgn pitnah doank.. #DebatFinalPilkadaJKT #BadjaPastimenang\\rNon_HS\\tRT @qronoz: Pokoknya kalo Ahok udah ngomong: Aduuuuuuh KELAR. #DebatFinalPilkadaJKT\\rNon_HS\\tSenjata makan tuan #DebatFinalPilkadaJKT #DebatFinalDKI\\rNon_HS\\tAhok kekerasan verbal? Masa koruptor dielus2 #DebatFinalPilkadaJKT\\rNon_HS\\tRT @qronoz: Gak ada program yang mau diserang yang diserang karakternya. AHaY! \\\\ud83d\\\\ude02 #DebatFinalPilkadaJKT\\rNon_HS\\tTerkait Jakarta tak Ramah anak apa tanggapan Pak @aniesbaswedan https:\\\\/\\\\/t.co\\\\/ufA55UWBcI\\rNon_HS\\temang OK OCE anies dan sandi dalam mengatasi urbanisasi dan lapangan kerja #DebatFinalPilkadaJKT https:\\\\/\\\\/t.co\\\\/BrCeCZSkux\\rNon_HS\\tSuporternya mulai kampungan paslon masih ngomong jg ...... #DebatFinalPilkadaJKT\\rNon_HS\\tMulai seru ni #DebatFinalPilkadaJKT\\rNon_HS\\t#DebatFinalPilkadaJKT nangis nangis ketonjok lagi\\rNon_HS\\tRT @Kafyonaa: JADI DEBAT TERAKHIR NANTI MALAM PILIHANMU JATUH KE PASLON YANG MANA? #DebatFinalPilkadaJKT #Debat3PilkadaDKI\\rNon_HS\\tRT @magendajuang: Wkwkwk udah dah pilih Anies Sandi aja :) #DebatFinalPilkadaJKT https:\\\\/\\\\/t.co\\\\/hMXhjyHBnJ\\rNon_HS\\tfitnah lebih kejam loh dari pembunuhan #DebatFinalPilkadaJKT\\rNon_HS\\tmari #debatsehat. jangan coba pakai #datasesat. #DebatFinalPilkadaJKT #DebatFinalDiKompasTV\\rNon_HS\\t\"RT @prastow: Apapun itu, keberanian Ahok membongkar mafia anggaran menjadi tonggak penting menuju APBD yg kredibel dan akuntabel.\"\\rNon_HS\\tRT @SydSalesman: inilah wujud nasional-is-me dagangannya @pandji ... hebat! https:\\\\/\\\\/t.co\\\\/0fYIG6c2xl\\rNon_HS\\tPak dosen makin keliatan aslinya :(\\rNon_HS\\tRT @gabriellaanDini: Dulu di awal kampanye bukannya uda deklarasi anti SARA??? Tadinya gw pikir no.3 lebih mending dari no.1\\rNon_HS\\t#DebatFinalPilkadaJKT mateng mpok Silvy di bombardir Pak Ahok... jawaban cerdas Pak Ahok..\\rNon_HS\\t#DebatFinalPilkadaJKT mohon tenang\\rNon_HS\\tYg no.1 nih ngomongin hal yg di luar program mulu ya. Ngga ada bhan ya bwt serang lawan.. Cape dehh! #DebatFinalDKI #DebatFinalPilkadaJKT\\rNon_HS\\tCinta pak Ahok pokoknya #DebatFinalPilkadaJKT\\rNon_HS\\t#DebatFinalPilkadaJKT nggak cuma ibu2 yang pengen foto sama Ahok bapak2 juga lho\\rNon_HS\\tMas Agus saya akui malam ini....rambut kamu bagus! #DebatFinalPilkadaJKT\\rNon_HS\\tRT @republikaonline: Ahok Janji Berani Tutup Tempat Hiburan Malam yang Jual Narkoba\\rNon_HS\\tAgus-Sylvi sisipkan bahasa jawa saat debat https:\\\\/\\\\/t.co\\\\/fGTfXgaINx\\rNon_HS\\t\"RT @hariadhi: Ahok udah perhatikan penyandang disabilitas, jauuuh sebelum kandidat lain berjanji #NobarAhokDjarot #BadjaPastiJuara\"\\rNon_HS\\tAhok keren!!! #DebatFinalPilkadaJKT\\rNon_HS\\tGimana ya Tim Ahok kok makin disudutkan(?) Mungkin karena ini final kali y\\rNon_HS\\tNih fakta buat yg asbun. #BadjaPastimenang #DebatFinalPilkadaJKT\\rNon_HS\\tSiap-siap meme CCTV. #DebatFinalPilkadaJKT #Debat3PilkadaDKI #DebatFinalDKI\\rNon_HS\\tNyinyir tingkat nasional #DebatFinalPilkadaJKT\\rNon_HS\\tDrama bgt itu :(( #DebatFinalPilkadaJKT\\rNon_HS\\tIni judulnya Debat atau nyerang paslon 2 ?????? #DebatFinalPilkadaJKT\\rNon_HS\\tLha kok menyerang gitu ya #DebatFinalPilkadaJKT\\rNon_HS\\tDebat sama berantem beda tipis #DebatFinalPilkadaJKT\\rNon_HS\\tOrang tegas dibilang maki-maki orang -_- #DebatFinalPilkadaJKT\\rNon_HS\\t1 atau 2 perempuan berbeda dengan kaum perempuan #DebatFinalPilkadaJK\\rNon_HS\\tmantap OK OCE anies sandi dalam mengatasi urbanisasi dan lapangan kerja\\rNon_HS\\tRT @WisnuDewobroto: Ga seru nih. selalu mengungkit masa lalu :). kekerasan Verbal semua pernah lakukan manusia biasa. #DebatFinalPilkadaJKT\\rNon_HS\\tsatu perempuan bukan semua perempuan #DebatFinalPilkadaJKT\\rNon_HS\\t#DebatFinalPilkadaJKT Pertanyaan paslon 1 dpt dikategorikan sbg kekerasan dalam debat.\\rNon_HS\\t@jokowi pak maafkan saya. Biarkan malam ini saja saya memposting ujaran kebencian. Hanya malam ini saja pak xoxo #DebatFinalPilkadaJKT\\rNon_HS\\tSemoga Allah memenangkan pak Anies-sandi https:\\\\/\\\\/t.co\\\\/sns0rXRw3f\\rNon_HS\\t#DebatFinalPilkadaJKT non muslim coblos Ahok muslim coblos Djarot. Bagaimana?\\rNon_HS\\t#DebatFinalPilkadaJKT *pemimpin harus dapat ciptakan suasana damai tentram dan bukan adu domba atau hasutan\\rNon_HS\\tSaya bertanya kepada Bapak Presiden dan Kapolri OK OCE tuh apaan? #DebatFinalPilkadaJKT\\rNon_HS\\tKeliatan banget keberpihakan media #DebatFinalPilkadaJKT\\rNon_HS\\tRT @di_HatiKecil: Bagus nih ilustrasinya #DebatFinalPilkadaJKT https:\\\\/\\\\/t.co\\\\/zAQLqrBiUF\\rNon_HS\\tRT @rezaoktovian: Ahok terlalu keren :\\')\\rNon_HS\\tisinya timeline twitter cm pilkada.. membosankan sekali..\\rNon_HS\\tMohon tenang mohon tenang #DebatFinalPilkadaJKT\\rNon_HS\\tah diulang. Jawabannya bisa beda kan? #DebatFinalPilkadaJKT\\rNon_HS\\tPerasaan bukan pertanyaan itu deh yg td dijawab om @aniesbaswedan audionya ga keluar atau ia ya? #DebatFinalPilkadaJKT\\rNon_HS\\tBoleh tinggal di pinggir kali meski bukan tanahnya boleh jualan di pinggir jalan\\rNon_HS\\tRT @rigenz123: Sehatkan Warga DKI Melalui #JakartaBerlari Barulah Pembangunan Dapat Sejahterakan Warganya. #DebatFinalPilkadaJKT\\rNon_HS\\tkalau kamu diputuskan pacar tanpa sebab mungkin program OKE OCE bisa jadi solusi nya #DebatFinalPilkadaJKT\\rNon_HS\\tMelibatkan yang paham pada bidangnya untuk duduk bersama memecahkan solusi. Cara kepemimpinan yg cerdas ! #DebatFinalPilkadaJKT\\rNon_HS\\tJustru laki-laki lah yang sering mengalami kekerasan verbal. Berapa kali dirimu dimarahi istrimu..? Ayo ngaku.\\rNon_HS\\tRT @TirtoID: Soal gerakan-gerakan ala @aniesbaswedan #PeriksaData #DebatFinalPilkadaJKT\\rNon_HS\\tMayoritas warga Jakarta ingin dipimpin Gubernur baru. Emang iya? #DebatFinalPilkadaJKT\\rNon_HS\\tPaslon 1 selalu nyerang paslon 2 ni #DebatFinalPilkadaJKT\\rNon_HS\\tRT @JktMajuBersama: Upaya Anies-Sandi untuk mendukung perempuan menjadi pelaku UKM :) #DebatFinalPilkadaJKT\\rNon_HS\\tSalah satu indikator meningkatnya kualitas hidup warga Jkt adl terus bisa tersenyum seperti Pak Djarot malam ini\\rNon_HS\\tTontonan yg wajib ditunggu sehabis #DebatFinalPilkadaJKT\\rNon_HS\\t\"RT @ainouun: Pak Ahok : penyandang disabilitas bukan hanya mereka, suatu saat kita juga bisa jadi. #DebatFinalPilkadaJKT\"\\rNon_HS\\t\"RT @tribunjateng: Saat Jeda, Ahok dan Djarot Sapa Ganjar Pranowo dari Atas Panggung\"\\rNon_HS\\t@Boojaee sayang hyung cuma pencitraan :* wkwk\\rNon_HS\\t\"@kurawa Msh inget sm ibu penjual kue di balaikota, cm Pak Ahok yg tau klo si ibu sakit, ibu itu langsung diurus ke rs. Ini bukan pencitraan.\"\\rNon_HS\\tBiar jajan naik sejuta https://t.co/veZ5PXxDfr\\rNon_HS\\tbio gw belum diganti astagfirullah rusak pencitraan cewe cantik\\rNon_HS\\t#MataNajwaDebatJakarta Ya ampun udh closing statement msh aja commentnya ky gitu ya\\rNon_HS\\tHah uda closing statement?? Cepet bener?? #DebatFinalPilkadaJKT\\rNon_HS\\tRT @digembok: #DebatFinalPilkadaJKT kali ini keren.Biasanya ada sesi tanya-jawab Kali ini ada SESI CURHAT\\rNon_HS\\tKetiga paslon gagal menjawab pertanyaan yang jawabannya harus memuji kebaikan paslon lain\\rNon_HS\\tMari berjuang bersama SBYudhoyono utk memenangkan #SaduddinDhani di #PilkadaKabBekasi2017 #BekasiSAH #BekasiBerjaya\\rNon_HS\\t\"Jikapun aparatur bisa dibeli, kyai dan santri oplosan dibeli. Masih ada yng ASLI, siap MELAWAN KETIDAKADILAN https://t.co/riloAH9gAd\"\\rNon_HS\\tPasangan mana yang unggul dalam debat kandidat Gubernur-Wagub DKI Jakarta Malam Ini?\\rNon_HS\\t\"Keberagaman itu datang dr hati terdalam, bukan dr pencitraan #Tetap3 #JKTBeragam\"\\rNon_HS\\t\"Membangun bangsa dan negara ini engga cukup dengan metoda pencitraan saja ,tanpa teruji lewat rekam jejak dan integritas tokohnya\"\\rNon_HS\\t\"RT @adelladellaide: Bersikap baik dan menjaga prilaku di depan umum bukan berarti pencitraan, bukan pula \"\"menjadi orang lain\"\".\"\\rNon_HS\\t\"RT @FiersaBesari: Saat jujur, ada yg curiga. Saat berbuat baik, ada yg menuduh pencitraan. Saat bahagia, ada yg iri. Abaikan.\"\\rNon_HS\\t\"Umat Islam yg peduli agama mrk, tentu tdk akan tergoda dg trik2 konyol seperti ini, InshaAllah umat Islam sdh sadar https://t.co/PFH1MPsKFO\"\\rNon_HS\\t\"#AniesIntoleran \\\\nAnies Baswedan, tak lagi memiliki integritas dan kredibilitas sebagai seorang pemimpin. https://t.co/rv053Gt4j8\"\\rNon_HS\\t@agusriyadi12345 Apakah perlu semua berita ahok harus menggunakan penista agama. Misalnya Penista agama sedang kampanye di Jakarta pusat.\\rNon_HS\\t\"@agusriyadi12345 Apakah tidak sadis, jika semua berita tentang ahok, judulnya diawali degan Terdakwa penista agama bukan menggunakan nama?\"\\rNon_HS\\t\"@Altefalken kemarin kan ada berita tentang penyakit mengingitis dari Babi, mksd gw apa nyambungnya sama ahok?\"\\rNon_HS\\t@ISejunnie @AHMADDHANIPRAST artis korea bisa world tour ahmad dhani bisa ?\\rNon_HS\\t\"@HaqueMarissa ,, ahok di jakarta , daging babi di bali apa hubungan nya ya??\"\\rNon_HS\\t\"Ahmad Dhani Bangkrut Ditagih Utang Melalui Video, Mantan Istrinya Jadi Janda Kaya Raya: Hampir setahun berlalu, https://t.co/22InRwRR26\"\\rNon_HS\\t\"Ahmad Dhani Sentil AHOK, eh Sandiaga Uno cengar cengir.!: https://t.co/vhDAAa3ShI melalui @YouTube\"\\rNon_HS\\tHehhee.. Makanya jangan mengagumi sesorng berlebihan.. Kecuali kepada Rasulullah.. https://t.co/ZXVB2DiRMg\\rNon_HS\\t#MataNajwaDebatJakarta acara uda abis menurut kalian debat sapa yang betul-betul memaparkan prog dan solusi?\\rNon_HS\\tMereka (koruptor) meletakkan kitab suci ditempat paling rendah...tapi masih sok jadi pemilik kapling surga... https://t.co/oj5YN3WBeI\\rNon_HS\\tRT @99Ohhani: Woww dukungan Rakyat Palestina ke Ahok yg dituduhSbg penista Agama ?? mrk Mengelu2kan Ahok !!!Ahok is The Best https://t.co/\\rNon_HS\\tPencitraan di socmed itu boleh-boleh aja. Tapi harus bisa tanggung jawab sama citra yang udh dibikin. Jangan sampe jadi malu-maluin. Kasian.\\rNon_HS\\tRT @kompascom: Kasus Kicauan Ahmad Dhani Dilimpahkan ke Polres Metro Jakarta Selatan. https://t.co/uJ0m7JernN\\rNon_HS\\tRT @kv_kahfi: Komplit bgt yaaaa..... Heran nya msh aja yg percaya dan idolain dia https://t.co/PNTYRAnaJO\\rNon_HS\\tRT @m0th3rb04rd__: bagaimana keadilan bisa tercipta jika si penista agama belum di vonis penjara\\\\n #BerjamaahTolakReklamasi\\rNon_HS\\t\"RT @TeddyGusnaidi: Bro.. Kalau yg dimaksud Fatwa Penista agama, MUI gak pernah mengeluarkan Fatwa. https://t.co/x9uXhqJKCa\"\\rNon_HS\\tRT @TeddyGusnaidi: Sidang hari ini makin menguatkan bahwa Ahok bukan penista agama.. Ada yang bisa bantah?? \\\\nhttps://t.co/2Ksj4snR1t\\rNon_HS\\t\"Sebut Ahok Bukan Akademisi, Ahmad Dhani: Secara Intelektual, Lebih Intelek Bang Anies https://t.co/YrzfmMV1LG\"\\rNon_HS\\t\"Yg melakukan Penista Agama sesungguhnya, agama yg suci digunakan alat untuk mengejar jabatan (kekuasaan) https://t.co/hKvZIpm8ZS\"\\rNon_HS\\t\"Kalah di Pilkada Bekasi, Ahmad Dhani Jadi Juru Kampanye Pasangan Anies-Sandi https://t.co/oIZpN8hYnd #NenengYes https://t.co/FGOhKhXWxt\"\\rNon_HS\\t#MataNajwaDebatJakarta Bravo closing statement Anies malam ini.kalau nggak ada debat saya nggak mungkin nonton mata najwa sdh lama tdk suka.\\rNon_HS\\t\"#MataNajwaDebatJakarta jawaban terakhir Anis jadi bikin ingat jawaban dia pas debat kemarin, \"\"jawaban anda menarik tapi tidak nyambung\"\"\"\\rNon_HS\\t\"#MataNajwaDebatJakarta buzzer ahok lagi kerja keras nih,.ayo kerja2 tar gajian ga turun\"\\rNon_HS\\t#MataNajwaDebatJakarta kerendahan hati dan lawan kerendahan hati kelihatan banget..\\rNon_HS\\t#MataNajwaDebatJakarta kok gaya pak @aniesbaswedan kayak SBY ya?\\rNon_HS\\t\"#MataNajwaDebatJakarta kenyataannya si anis nyaman bgt dgn isu sara kok , kan nguntungin anis , pura2 sok bijak pdhl menikmati isu sara ,\"\\rNon_HS\\t#MataNajwaDebatJakarta nyesel liat debat tidak bermutu cuma bisa mencela..\\rNon_HS\\t#MataNajwaDebatJakarta.kesimpulan: Saya tdk rela punya Gub seorg Anies dan sy percaya Ahok akan menang. Salam 2 jari.\\rNon_HS\\t@ibnusungeb ahoker panas dingin ahok kalah debat Sama Anis. #MataNajwaDebatJakarta\\rNon_HS\\tAda yg tahu ga backsound penutup mata najwa ini siapa musisinya dan apa judulnya? #MataNajwaDebatJakarta\\rNon_HS\\t\"#MataNajwaDebatJakarta p ahok apapun hanya Utk rakyat, p anies tkt dicurangi... Ngerti bedanya..\"\\rNon_HS\\t\"@MataNajwa mantapppp Mata Najwa diskusi lebih hidup dan mendidik,,, jauh berkualitas di banding debat yg selenggarakan KPU\"\\rNon_HS\\t\"@MataNajwa mbak najwa..ayo \"\"ketengah\"\" lagi sedikit..jgn terlihat ke kiri, dgn meminta terus pak anies cpt2 menyelesaikan kalimat2nya..\"\\rNon_HS\\t\"Dan soal soal ribut-ribut pribumi vs non pribumi yang ramai di beranda saya itu, sebenarnya maksudnya apa? ikut...\"\\rNon_HS\\t\"Sedih liat pak anies saat ini, tokoh yang dulu saya kagumi kenapa jadi seperti ini ;\\') #MataNajwaDebatJakarta\"\\rNon_HS\\tAwal sp akhir @aniesbaswedan bisanya cm serang pribadi @basuki_btp gak ada program yg perlu dibanggakan #MataNajwaDebatJakarta\\rNon_HS\\tGimana nih om @pandji pasti ikut gedeg juga kan dengerin retorika ga ada wawasan. Tapi gimana udah terlanjur ya. #matanajwadebatjakarta\\rNon_HS\\tHaduhhhh Pak Anies.. Terus pendukung anda yang didatengin ke Jakarta itu dari mana pak? Dari luar jakarta kan #MataNajwaDebatJakarta\\rNon_HS\\tHaha anies pendemo2 dr jawa barat kok ga ngomen. Takut kalah ya haha #MataNajwaDebatJakarta\\rNon_HS\\t#MataNajwaDebatJakarta pak uno habis 62M istrinya ga marah ya pak? Saya mo beli sepatu 300rb aja istri saya marah2 pak\\rNon_HS\\t\"#MataNajwaDebatJakarta jangan suka menyerang, ini bukan perang,. mengapa ingin ibadah harus menyerang orang..\"\\rNon_HS\\t\"#MataNajwaDebatJakarta Paslon 3 serang terus dengan membawa2 hal2 yg biasa menyerang, tp Paslon 2 tenang menjawabnya\"\\rNon_HS\\t\"Aahhh akuh sedih, akuh org depok ternyata ngga boleh ke jakarta pak mANIES jahattttt #MataNajwaDebatJakarta\"\\rNon_HS\\t\"#MataNajwaDebatJakarta saludd utk mata najwa, berbobot sekali perdebatan malam ini..\"\\rNon_HS\\tJadilah orang yang bertanggung jawab atas segala tindakan anda. dengan demikian anda akan menuai hal yang positif. #SidangAhok\\rNon_HS\\t\"Menurut Anda, apakah #SidangAhok Dugaan Penistaan Agama dgn Terdakwa @basuki_btp murni isyu Pilkada DKI Jakarta atau murni demi Islam???\"\\rNon_HS\\tSemua kejujuran akan mendapatkan pahala dari surga. Sabar ya Pak Basuki #FreeAhok https://t.co/NlgbEcj4Jc\\rNon_HS\\tJadilah orang yang bertanggung jawab atas segala tindakan anda. dengan demikian anda akan menuai hal yang positif. #SidangAhok\\rNon_HS\\t\"#MataNajwaDebatJakarta terima kasih telah memberikan pendidikan demokrasi pada rakyat Indonesia, khususnya Jakarta.\"\\rNon_HS\\t\"Keberagaman itu datang dr hati terdalam, bukan dr pencitraan #Tetap3 #JKTBeragam\"\\rNon_HS\\t\"Membangun bangsa dan negara ini engga cukup dengan metoda pencitraan saja ,tanpa teruji lewat rekam jejak dan integritas tokohnya\"\\rNon_HS\\tjangan ada keberpihakan dalam badan hukum karena itu akan merusak demokrasi #important #MataNajwaDebatJakarta\\rNon_HS\\t\"Jika lo bisa menceritakan kembali kalimat2 yg dilontarkan Anies di @MataNajwa dgn bahasa lo sendiri, lo luar biasa. #MataNajwaDebatJakarta\"\\rNon_HS\\t\"kalau liat sosmed, Pak Ahok menang telak. Namun sayang, hanya kata-kata manis lah yg diserap bbrp warga kecil. #matanajwadebatjakarta\"\\rNon_HS\\tSeharusnya mah basuki sudah bebas ya kan? #FreeAhok https://t.co/Mw3k0vYweF\\rNon_HS\\t\"Kenapa debat @MataNajwa ini, Ahok makin keliatan diatas angin ya. Kliatan dia sangat menguasai problem solusi tata kelola Jakarta.\"\\rNon_HS\\tKalau lihat Ahok itu kayak lihat power rangers merah\\rNon_HS\\tKesimpulan. Ahok spt biasa fokus detail ke program. Anies terlalu fokus menjatuhkan lawan #MataNajwaDebatJakarta\\rNon_HS\\t\"pertunjukan yang sangat membuat saya serius dan gak mau diganggu, selamat untuk pak @aniesbaswedan buat gagasan nya #MataNajwaDebatJakarta\"\\rNon_HS\\tJangan berpihak...melayani rakyat dengan sepenuh hati..Tuhan yang memberi kekuasaan.. Tuhan yang mengambil..-ahok#MataNajwaDebatJakarta\\rNon_HS\\tPak Ahok jangan blunder dong Pak..dari tadi udah bagus. Pertanyaannya komitmen menerima hasil kontestasi. #MataNajwaDebatJakarta\\rNon_HS\\tjangan ada keberpihakan dalam badan hukum karena itu akan merusak demokrasi #important #MataNajwaDebatJakarta\\rNon_HS\\t\"Jika lo bisa menceritakan kembali kalimat2 yg dilontarkan Anies di @MataNajwa dgn bahasa lo sendiri, lo luar biasa. #MataNajwaDebatJakarta\"\\rNon_HS\\t\"Kenapa debat @MataNajwa ini, Ahok makin keliatan diatas angin ya. Kliatan dia sangat menguasai problem solusi tata kelola Jakarta.\"\\rNon_HS\\tKiranya Jakarta semakin baik. Selamat berjuang buat Pak Ahok dan Pak Anies ! #MataNajwaDebatJakarta\\rNon_HS\\tMasihkah Ahoker debat soal program? Jlebb.. KO kena uppercut Anies soal KJP. Pergubnya blm di rubah.. @roemahdjoeang @NetizenTofa @cepot234\\rNon_HS\\tRT @alysap_: Semua penganut agama harus dapet hak yang sama - Ahok #MataNajwaDebatJakarta\\rNon_HS\\t\"Aku heran kenapa ilklan kampanye #AhokDjarot yg terbaru itu begitu, ini aku loh yang bingung bkn akuang,asiang, atau aming #IklanAhokJahat\"\\rNon_HS\\tAbis nyoblos streaming video perkembangan Pilkada 2017 pake #SisaKuotaGakHangus dari @IM3Ooredoo kuota ga habis deh\\rNon_HS\\tmuslim sedang diuji di negara yg mayoritas Islam..semoga kita smua bisa bersabar dan menahan utk tidak berbicara kasar sbg balasan\\rNon_HS\\tKiranya Jakarta semakin baik. Selamat berjuang buat Pak Ahok dan Pak Anies ! #MataNajwaDebatJakarta\\rNon_HS\\t\"RT @grcllafrn: Pak Anies, inget, apa yg kau tabur itu yang akan kau tuai nanti... jadi takut sendiri :\"\") #MataNajwaDebatJakarta\"\\rNon_HS\\tRT @kompascom: Bagaimana metode penarikan sampel hitung cepat yg dilakukan Litbang Kompas dlm Pilkada DKI Jakarta 2017? Simak disini\\rNon_HS\\t\"mnding diem aja pak @basuki_btp semua pergerakanmu pasti disalahkan, klo wktunya menang ntar jga menang.... #IklanAhokJahat\"\\rNon_HS\\tRT @netmediatama: Perbincangan menarik di Quick Count Pilkada 2017 bersama @irakoesno. #NETPilkada https:\\\\/\\\\/t.co\\\\/odbVw4uWMr\\rNon_HS\\tBersyukur menutup kampanye hari ini dengan berdoa agar PILKADA DKI Jakarta pada 15 Februari 2017 berjalan dengan lancar\\rNon_HS\\tJulia Perez Kecewa Gagal Nyoblos Pilkada DKI 2017 di TPS 15 RSCM https:\\\\/\\\\/t.co\\\\/vajPLioiek\\rNon_HS\\tDisediakan Ambulans untuk Pasien Mencoblos pada Pilkada DKI 2017\\rNon_HS\\tRT @miekarinayam: Saya bertanya apakah saya memang tak boleh ikut Pilkada 2017? Apakah saya kehilangan hak saya yg dijamin konstitusi?\\rNon_HS\\tYa Allah! Anis dan Sandi bakal jadi Gubernur DKI Jakarta terpilih di tahun ini\\rNon_HS\\tDomisili gue di Jakpus bela-belain ke TPS yg berlokasi di Jakbar dgn bermodal e-KTP buat ikutan Pilkada 2017.\\rNon_HS\\tRT @netmediatama: Presiden @jokowi menggunakan hak suaranya untuk Pilkada DKI Jakarta 2017 di TPS 4 Gambir Jakarta Pusat. #NETPilkada\\rNon_HS\\t\"RT @boelatboelat: agree pak @basuki_btp kekuasaan itu Tuhan yang kasih, walau dijatuhkan, Tuhan akan menaikkan :) #MataNajwaDebatJakarta\"\\rNon_HS\\t\"RT @AzzamBarbarossa: Akibat Nila Setitik Rusak Susu Sebelangga, Akibat Mulut Oknum Tak terdidik Rusak Juga Persatuan Bangsa. #IklanAhokJahat\"\\rNon_HS\\t\"Mudah-mudahan Novel baswedan tidak alami kebutaan pada matanya. Kalau sampai buta, saya siap mendonorkan mata saya untuk dia.\"\\rNon_HS\\t\"Mengapa mereka melakukan ini, apakah bisa merubah keadaan bagi para pemilih nanti ? #IklanAhokJahat\"\\rNon_HS\\tRT @hariadhi: Siapa yg salah? Ahok? Iklannya? Bukan.. yang perlu diprotes adalah orang yg benar2 pake spanduk itu #IklanAhokJahat https://t\\rNon_HS\\tSampe sekarang gue blm ngerti dp rumah 0% itu gmn skemanya. Trs emg ada ya perbankan yg mau ngasih kredit rumah gak pakai dp? #debatfinalpilkadadki\\rNon_HS\\t\"#debatfinalpilkadadki Bagi Anies gubernur adalah pemimpin, bukan administratur / pelayan masyarkt. Padahal melayani mencerminkan integritas.\"\\rNon_HS\\t\"Kalimat Penutup Anies Ambisius, Ahok Minta Maaf, Karakter Tidak Bisa Bohong. #DebatPilkadaDKI #DebatFinalPilkadaDKI\"\\rNon_HS\\t\"pertunjukan yang sangat membuat saya serius dan gak mau diganggu, selamat untuk pak @aniesbaswedan buat gagasan nya #MataNajwaDebatJakarta\"\\rNon_HS\\t\"RT @BelaQuran: Kami tdk akan terprovokasi dgn sentimen dan jualan SARA mu itu, karena kami cinta Indonesia #IklanAhokJahat\"\\rNon_HS\\tSemakin umat di suguhkan #IklanAhokJahat maka akan semakin terlihat siapa yang menebar kebencian terhadap kerukunan antar umat beragama\\rNon_HS\\tHampir semua polling Anies - Sandi yang menang. Semoga hari H nya juga demikian. #AniesSandi\\rNon_HS\\tRT @anjisudirman: @fahiraidris Yg iklankan kampanye ahox adalah yg sama sebarin spanduk syariah dan brosur black campaign. #IklanAhokJahat\\rNon_HS\\t\"Oke Oce akan menjadi brand dimana, semuanya menjadi OKe Oce, bahkan nanti ada kampung Oke Oce #debatfinalpilkadadki\"\\rNon_HS\\t\"RT @BelaQuran: Sungguh sgt mengherankan, mengkampanyekan kebhinekaan tp dengan menyebarkan Islamophobia, kebhinekaan yg mana yg dimaksud?\"\\rNon_HS\\t\"Debat Final Pilkada DKI Jakarta, Siapa yang Gagap, dan Siapa yang Tepat Menjawab - Adjat Sudradjat\"\\rNon_HS\\t\"Jika persoalan pemimpin hanya dikaitkan dengan lisan, maka apa bedanya gubernur dengan anak-anak? #MataNajwaDebatJakarta\"\\rNon_HS\\tCerita Djarot ini diharapkan membuat para pendukung tetap berdamai. #debatfinalpilkadadki #temanahok #AniesSandi\\rNon_HS\\t\"Cuman mau bilang sama yang serius banget ngetweet pakai hastag #IklanAhokJahat \"\"Gitu aja baper\"\".\"\\rNon_HS\\tIra Koesno Didekati Anies-Sandi Lalu Marahi Pendukung Paslon Saat Debat Pilkada DKI\\rNon_HS\\t\"Alhamdulillah ya Allah SWT Semoga jakarta punya gubernur baru yg lebih bersahaja, bersahabat utk semuanya #AniesSandi\"\\rNon_HS\\tJelang larut semalam. Diskusi dengan aktifis Golkar tingkat kelurahan. Siap bergabung dalam pemenangan #AniesSandi\\rNon_HS\\tRT @alayyubichoir: Sosok Anies Sandi harus diakui sgt mengayomi. Sangat kompeten utk membangun kerukukan & kebhinekaan di Jakarta\\rNon_HS\\tRT @nielchen99: Ngomong manis memang gampang giliran kerja bingung #MataNajwaDebatJakarta\\rNon_HS\\t19 April adalah saat yang penting bagi warga Jakarta untuk menentukan masa depan Ibukota\\rNon_HS\\t\"RT @maharanisinta70: terimakasih Pak Anies pemaparantentang DP 0 ,memberi solusi bagi warga jakarta yang ingin punya rumah dan tidak nyewa terus.\"\\rNon_HS\\t\"Yang aku perhatikan, Tim Mas @aniesbaswedan sibuk ngoceh tentang @basuki_btp dan programnya. Kenapa gak ngurus diri sendiri?\"\\rNon_HS\\t\"kalo pilih gubernur yg jujur, kerja nyata,anti korupsi,tegas,pinter,mlyani rakyat iklas & peduli pilih ahok djarot,..\"\\rNon_HS\\tRT @anies_sandi: Bisa merangkul dan menegakkan hukum. Kepemimpinan itu hadir dengan memberikan contoh & perbuatan - @aniesbaswedan\\rNon_HS\\t\"Hasil kerja Ahok Djarot sungai di Jakarta kembali normal, bersih dan enak dipandang\"\\rNon_HS\\t\"Ahok & Anies sama baiknya kok, sama bagusnya, sama okenya. Siapa yg kepilih yg menang tetap rakyat jakarta\"\\rNon_HS\\t\"Semoga pak basuki bisa jadi presiden,agar Indonesia lebih maju.\"\\rNon_HS\\t\"Allah SWT tdk butuh anda. Tapi Anda yang butuh Allah,Rezeki, hidup matimu. Allah yg tentukan. Mau khianati Allah? yakin gak nyesel? #SidangAhok\"\\rNon_HS\\t#SidangAhok dilanjutkan dengan rekaman yang memuat kampanye Ahok di DPP Nasdem dan juga Pulau Seribu. | @adrieedu https://t.co/8P5P4DUcFG\\rNon_HS\\tRT @JanurOmank2626: Ahok harus bebas demi hukum demi keadilan demi kelanjutan perbaikan DKI. Semoga hakim mmpunyai sense of justice\\rNon_HS\\tPembangkit Listrik Tenaga Panas Bumi Terbesar Dunia.. #CitiPeka #SidangAhok #Tebak2anHajiDjarot https://t.co/KtXdXZsh8H\\rNon_HS\\t\"RT @findririn: Dan toleransi itu, ketika muslim bisa menjalankan perintah agamanya, dan non muslim juga bisa menjalankan agamanya.\"\\rNon_HS\\t\"RT @findririn: Walaupun artinya teman setia, seharusnya lebih dihindari kalau jd pemimpin\"\\rNon_HS\\tSemua kejujuran akan mendapatkan pahala dr surga #FreeAhok\\rNon_HS\\tSeharusnya mah basuki sudah bebas ya kan? #FreeAhok https://t.co/Mw3k0vYweF\\rNon_HS\\t\"RT @RuridaJihandari: Itu sidang apa drama korea sampe 20kali, lagi menunggu sidang ahok season 2 nih... Kayaknya goblin mah kalah pamornya\"\\rNon_HS\\t\"Menurut Anda, Transportasi Online manakah dikatakan \"\"tarif murah, aman & nyaman\"\" melayani ???\"\\rNon_HS\\tNelayan Jakarta Sudah Disiapin Pulau Khusus oleh Pemda DKI #LunchBreak #SidangAhok\\rNon_HS\\tAdakah Potensi Radikalisme di Pilgub DKI Jakarta? #LunchBreak #SidangAhok\\rNon_HS\\t\"RT @NovenStjK: Siaran ulang #AhokDjarotDiRosi malam ini, saksikan yuk di @KompasTV #AhokDjarot #Temanahok\"\\rNon_HS\\t\"cuma org\"\" yg salah saja yg takut dgn doa itu,anda salah?? kenapa takut??? bertobatlah sebelum doa itu dinyatakan,\"\\rNon_HS\\tSelamat Pagi met aktifitas happy weekend Semoga kita jadi orang jujur biar hidup slalu mujur Aamiin #FreeAhok\\rNon_HS\\t\"Ahok dituntut 1 tahun penjara. Kemungkinan akan divonis bebas. Masalahnya, warga DKI terlanjur kehilangan pemimpin terbaik. #FreeAhok\"\\rNon_HS\\tAlhamdulillah tuntutan jaksa hanya 1 tahun masa percobaan 2 tahun yg artinya sbnrnya jaksa mengakui kalo Ahok itu tak bersalah #FreeAhok\\rNon_HS\\tKalah atau menang #tetapahok. Terimakasih krn banyak ngasih pelajaran bagaimana kerja keras utk rakyat dgn bersih.\\rNon_HS\\t\"Pilkada Serentak, Megawati Hanya Minta Jangan ada Intimidasi dan Politik Uang https:\\\\/\\\\/t.co\\\\/zHhvJ4qrrY\"\\rNon_HS\\t#thw911 Saat Anies-Sandiaga Minta Doa Ustaz untuk Debat Pilkada https:\\\\/\\\\/t.co\\\\/2odlrYteU1\\rNon_HS\\tJangan pernah lelah mengabdi untuk Indonesia Pak @basuki_btp. #TetapAhok!\\rNon_HS\\t\"@LaitsSaja Jika Menang, Anies Siap Rangkul Paslon Lain Jika menang dalam kontestasi Pilkada https:\\\\/\\\\/t.co\\\\/KG40YTelWX\"\\rNon_HS\\t@LaitsSaja TNI-Polri Bersinergi Jaga Keamanan Jelang Pilkada DKI TNI dan Polri terus bersin https:\\\\/\\\\/t.co\\\\/HP77I9lffG\\rNon_HS\\t@novie_wednes72r Bismillah Inshaa ALLAH Agus Sylvi menang Pilkada DKI 1putaran dan jadi pemimpin yg amanah dan mencintai rakyat jakarta.\\rNon_HS\\tTrima kasih pak uda bikin jakarta lebih baik selama bapak menjabat....\\rNon_HS\\t@nu_online sikap yang jelas dan tegas demi ketertiban dan keamanan ibu kota negara menjelang pilkada dki jakarta\\rNon_HS\\tRencana Tuhan lebih baik dari rencana manusia. Mungkin Ahok bs bekerja kebih baik di posisi lain\\rNon_HS\\twalau kalah tp aku tetap merasa terhormat mendukung BADJA #TerimakasihAhok\\rNon_HS\\tBasuki TP Ahok Wawancara informal dengan wartawan Balaikota: https:\\\\/\\\\/t.co\\\\/g7iB5H5RUL\\rNon_HS\\t\"Terimakasih Pak Ahok @basuki_btp #tetapahok karena kita memang siap kalah, dan selamat buat Gubernur baru\"\\rNon_HS\\tLUCU !! Yuk Melihat AHOK Promosikan Musik Dangdut Kepada Tamu Mancanegara\\rNon_HS\\t\"Minggu Tenang Pilkada, Ahok Fokus Kerja di Balai Kota: Peresmian-peresmian RPTRA CSR ditunda.\"\\rNon_HS\\tMANTAB !! AHOK dan Pemprov DKI Jakarta Terjunkan Alat Berat Untuk Keruk Sampah di Waduk Pluit\\rNon_HS\\tPagi Ini Polrestro Bekasi Gelar Pasukan Pilkada https:\\\\/\\\\/t.co\\\\/ypRv5nNjSb\\rNon_HS\\tPak @basuki_btp saya hanya bantu menyampaikan. Sbg orang2 di sekitar Pak Ahok bisa menyampaikan ke beliau. @kurawa. #BlusukanAhok #Gue2\\rNon_HS\\t\"pak ahok kalau anda jadi gubernur jangan lupa anda harus bangun provinsi Jambi buat lahan petani semua, dan jln kreta api jambi, riau, lampung\"\\rNon_HS\\tPartai Nasdem Optimis Menang di Pilkada Serentak 2017 https:\\\\/\\\\/t.co\\\\/EOAzcxai94\\rNon_HS\\t\"biar kalah, tetap bangga. Sabar n iklas menerima nya. Masih bnyak jabatan lain untuk pak ahok. #TetapAhok\"\\rNon_HS\\tSabar n iklas ya pak. Apa pun hasil nya. Kita tetap dukung. Di mna pun/jabatn apa pun yg bpk emban nanti. #TetapAhok\\rNon_HS\\t\"Wlaupun kita tak kenal,saya yakini slama ini kamu tlah bkerja kras tuk sebuah nilai yg diperjuangkan.\"\\rNon_HS\\t\"RT @ahokdijegal: Kita mgk bs mendukung dia dlm hal kejujuran dan niat baik utk melayani warga, tapi gantiin dia dlm hal pekerjaan\"\\rNon_HS\\t\"Puluhan Personel Brimob Nunukan Diberangkatkan, Amankan Pilkada di Dua Provinsi\"\\rNon_HS\\t@basuki_btp sing sabar pak.. Simpen energi bapak untuk bagian lain Indonesia... Gusti Allah mboten sare pak...\\rNon_HS\\t\"Karena saya memilih dengan sehat maka saya kompensasikan dengan sarapan pagi yang, uhm, secara umum gak sehat. IMPAS\"\\rNon_HS\\t\"RT @Aktualco: Mahfud MD Heran, UU Pemda Sangat Jelas Tapi Mendagri Keukeuh Pertahankan Ahok\"\\rNon_HS\\t\"RT @AlissaWahid: Tuips, Ibu Sinta Nuriyah tidak pernah mengeluarkan pernyataan terkait pilkada DKI\"\\rNon_HS\\tRT @AmaliaAmelCute2: Lebih tambah jatuh hati deh jadinya Tak bisa berpaling ke pilihan yg lain Tetap ke pak ahok -Djarotlah yg terbaik\\rNon_HS\\t\"RT @AnakBaranusa: Yoi... Yang Jelas Pemenagnya itu hanya satu pasang calon, buka dua apa lagi tiga. 1, 2 dan 3 memiliki Peluang yg sama\"\\rNon_HS\\t\"RT @AT_AbdillahToha: Aksi 112 tampaknya akan diubah jadi zikir pilkada. Sejauh yg saya tahu, zikir adalah ibadah dekatkan diri ke Allah.\"\\rNon_HS\\t\"RT @blogdokter: Janganlah karena pilkada dan kepentingan politik sesaat, persahabatan dan persaudaraan kita terputus | Kita adalah saudara.\"\\rNon_HS\\tRT @Brani2000: Pilkada di Beltim di kampung sendiri ahok hanya 33% suara. Di Babel kalah telak. Pilkada di DKI? paling cuma 3% suara\\rNon_HS\\tRT @digembok: Ya allah... Beneran... Pak ahok akhirnya samperin si emak...\\rNon_HS\\t\"Terimakasih Pak @basukibtp untuk 5 tahunnya, 3 tahun sbg wakil gubernur & 2 tahun sbg gubernur!\"\\rNon_HS\\t\"RT @eliya_mkom: kesimpulannya tuips, mari kita menangkan Agus Sylvi SATU Putaran, gak perlu pakai 2 putaran segala, cuma habiskan waktu\"\\rNon_HS\\tDan selamat atas kemenangannya untuk bapak Anies & Sandi. Semoga Jakarta bisa bersatu lagi\\rNon_HS\\tBangga masih memiliki putra bangsa seperti pak Basuki dan pak Jarot.\\rNon_HS\\t\"Temen-temen, apapun pilihannya, masih ada kehidupan setelah pilkada. Mari saling merangkul & saatnya Jakarta maju dan bahagia bersama.\"\\rNon_HS\\t\"Selamat atas status barunya pak #Aniessandi, semangat ya pak, semoga semua sesuai dengan janjinya\"\\rNon_HS\\t\"Pak ahok @basukibtp tetep semangat yaaa, saya akan selalu menghargai kerja keras bapak dan saya ucapkan selamat atas kemenangan paslon nomor 3 yaitu #AniesSandi!\"\\rNon_HS\\tTerima kasih pak ahok pak djarot kami bangga perna di pimpin sama bapak berdua...tetap semangat...sukses terus pak\\rNon_HS\\tTerima kasih Pak Ahok-Djarot telah bersama kami beberapa tahun ini\\rNon_HS\\tRT @FerpuAdvocates: Sumarsono: Gaya Pak Ahok yg Kerja Keras Patut Dicontoh dan itu Bagus!!!\\rNon_HS\\t\"RT @Franstone888: Klo semua mau jujur dan pake hati nurani, Ahok adlh yg terbaik buat Jakarta. Gubernur yg jujur dan benar2 perhatian pd warga\"\\rNon_HS\\tPak Ahok the best aku salut sama pak orang nya sabar dengan cobaan dari tuhan Pak Ahok is the best\\rNon_HS\\t\"RT @hariadhi: Makasih Pak Ahok, sudah ajarkan kami makna peduli sama rakyat. Andai di masa depan saya dpt kesempatan\"\\rNon_HS\\tRT @IpungLombok: Hadeuuuh.. Kenapa jadi gaduh gini Pilkada DKI ya... Padahal Pilkada serentak 2015 lalu aman aman saja?\\rNon_HS\\t\"RT @MbakNevi: Masyarakat Transportasi Jakarta dukung Ahok-Djarot, https:\\\\/\\\\/t.co\\\\/7fdwk8XvCB\"\\rNon_HS\\t\"Saya sudah tidak tertarik melihat Debat Pilkada DKI, namun ada yang menarik. Salah satu Cagub sering mengepalkan tangan pada saat menjelas\"\\rNon_HS\\tSemangat terus. Maju terus di dalam TUHAN. God Bless you more and forever bpk ahok dan family\\rNon_HS\\t\"Selamat bertugas pak Anis, semoga Jakarta menjadi lebih baik lagi!\"\\rNon_HS\\t\"@aniesbaswedan @sandiuno selamat ya pak, kami tunggu program terealisasi. Jangan kecewakan Jakarta\"\\rNon_HS\\tSaya selalu mendoakan yg terbaik untk bapak dan bapak juga mendapatkan banyak ucapan dari saudara di gaza palestina\\rNon_HS\\tSelamat untk bpk @aniesbaswedan & @sandiagauno atas kemenangannya. Semoga allah memberkahi disetiap langkah yg bapak ambil aminnn salam3jari\\rNon_HS\\tRT @netmediatama: Mereka telah siap berikan yang terbaik di ajang debat terbuka!\\rNon_HS\\tPak anies dan pak @sandiuno selamat ya sudah terpilih jd gubernur dan wagub Jakarta.\\rNon_HS\\tRT @PartaiSocmed: Kejahatan perbankan yg di spin oleh tim AHY untuk kepentingan pilkada\\rNon_HS\\tRT @swamediumcom: Agus-Sylvi Diprediksi Maju di Putaran Kedua Pilkada DKI versi Survey GRP\\rNon_HS\\tRT @temanAhok: Alhamdulillah sambutan antusias warga di tiap blusukan pak Ahok selalu real. Ngga ada settingan.\\rNon_HS\\tSampai detik ini pak ahok masih harapan terbesar saya #prayforjakarta\\rNon_HS\\tTuhan punya rencana yg indah buat Pak Ahok dan Pak Djarot\\rNon_HS\\tSelamat dan terima kasih banyak untuk pak Ahok dan pak Djarot yg sudah menunjukan bahwa negara ini masih punya orang2 baik\\rNon_HS\\tTerima kasih pak atas segala kebaikan untuk jakarta yang sudah kalian tancapkan di hati warga jakarta\\rNon_HS\\tPasti bapak anies sandi kemungkinan besar menang\\rNon_HS\\t\"Terima kasih. Kepada pendukung kami, percayalah... Tuhan tahu yang terbaik. #JakartaPunyaSemua\"\\rNon_HS\\tGubernur dan wakil gubernur terbaik yang pernah jakarta miliki.\\rNon_HS\\t\"RT @triwul82: Jelang Akhir Masa Tugas, Plt Gubernur DKI Akui Kinerja Ahok https:\\\\/\\\\/t.co\\\\/04ihgI5cwZ\"\\rNon_HS\\tRT @Wolfcrime: Pendukung yang Telah Dibaiat tapi Tak Pilih Agus-Sylvi Akan Terima Risikonya\\rNon_HS\\tMutiara tetap mutiara Pak Ahok Djarot. Tuhan pny rencana yg lebih dahsyat utk Bapak ber2 utk Indonesia. Maju terus.\\rNon_HS\\tTuhan percayakan hal yang lebih Besar lagi kepada Pak Ahok selain hanya menjadi Gubernur Dki jakarta.\\rNon_HS\\tI LOVE YOU PAK AHOK.AKU HANYA BISA BERDOA SEMOGA TUHAN MEMBERKATI. SALAM 2 JARI UNTUK PA AHOK I LOVE YOU\\rNon_HS\\tSurvei Terbaru: Anies-Sandi Melejit Jauh Tinggalkan Ahok-Djarot https:\\\\/\\\\/t.co\\\\/2IHhuzPsbF\\rNon_HS\\tAku akui pak ahok itu tangguh sekali dan apa adanya\\rNon_HS\\tsaya selalu mendukung dan berdoa untukmu ahokdjarot terimakasih\\rNon_HS\\tMeski Badj\\xcb\\x86 tak lagi menjadi pelayan rakyat...kami selalu berdoa terbaik buat Badja. Kami bangga pernah memiliki kalian.\\rNon_HS\\tMudah2han pak ahok jadi nomor satu di Indonesia\\rNon_HS\\tTPS Paslon Pilkada DKI Akan Dijaga Ketat\\rNon_HS\\tsaya bukan penduduk jakarta. tapi saya kagum pada sosok ahok dan jarot.allah memang punya rencana lain.selamat pada beliau\\rNon_HS\\tPak anies tolong bongkar lagi masjid yg di bangun pak ahok di daan mogot\\rNon_HS\\tYang blm pada move on mending bsk piknik aja mumpung long weekend hehehe\\rNon_HS\\tSemoga bapak bisa meneladani sosok bang yos gubernur jakarta yang sangat cinta @persijajkt\\rNon_HS\\t\"Pemimpin yg baik pemimpin yg mengerti akan jiwa pemuda, lanjutkan pak @aniesbaswedan\"\\rNon_HS\\tkami disini mendulungmu untuk jakarta yg maju bukan hanya ekonomi nya tapi juga prestasi sepakbola nya\\rNon_HS\\t\"Negara kita negara BHINEKA TUNGGAL IKA. jadi ga liat pemimpin dengan agama ,ras ,budaya\"\\rNon_HS\\tpak @aniesbaswedan kami disini mendulungmu untuk jakarta yg maju bukan hanya ekonomi nya tapi juga prestasi sepakbola nya\\rNon_HS\\tGw yakin suatu saat pasti Pak @basuki_btp akan ada patungnya sebagai tanda jasa entah itu di indo atau di madame tussaud.\\rNon_HS\\t\"Doa itu sebaiknya yg baik2. Karena Tuhan juga baik. Klo doa jelek jahat, akan berbalik ke diri yg mendoakan loh\"\\rNon_HS\\t\"#badja Jakarta tidak butuh kalian lagi, tapi Indonesia menunggu untuk pengabdian kalian.\"\\rNon_HS\\t\"Artikel saya untuk Mas @pandji. Dari reklamasi, penggusuran, DP 0 Rupiah, OKE OCE, hingga \"\"figur pemersatu\"\".\"\\rNon_HS\\t\"#BesokGueAhok Karena Terbukti Dan Teruji Dari Segi Kerjanya,Ahok Untuk DKI Jakarta Lebih Baik Kemudian #TetapAhok\"\\rNon_HS\\t\"ga tinggal di Jakarta sih, tp 1 rumah ngotot banget dukung Pak @basuki_btp!\"\\rNon_HS\\tSemangat Pilkada! Untukmu pilihanmu dan untukku pilihanku #tetapahok\\rNon_HS\\t\"Tapi perbedaan vital di reklamasi sama perumahan, justru gak bisa berkutik sama sekali.\"\\rNon_HS\\t\"Sabar dulu jgn tergesa2 nagih, beliau belum dilantik baru bulan Oktober nanti.\"\\rNon_HS\\tPak @aniesbaswedan knpa ngga mampir dulu ke tempat saya. Orangtua saya ngefans bgt\\rNon_HS\\tSemoga @persijajkt lebih maju dengan adanya gubernur era baru.\\rNon_HS\\tTetap di masyarakat jakarta dan selalu membuat jakarta lebih baik.Dan hasilnya pun sudah terbukti\\rNon_HS\\tsaya sebagai masyarakat jakarta salut terhadap kepemimpinan pak ahok.\\rNon_HS\\tSemua sayang ahok. Saya berharap ahok bisa jadi presiden selanjutnya bersama pak jokowi.\\rNon_HS\\tBukan lagi milik jakarta lagi ahok tapi milik kita untuk membangun jakarta lebih baik\\rNon_HS\\t\"Pak Ahok, jadi cagub di Bekasi aja ya pak... Bekasi mau dipimpin orang seperti bapak, biar ada perubahan lebih baik @basukibtp\"\\rNon_HS\\tKekalahan Ahok adalah kemunduran peradaban di Indonesia. Selamat datang radikalisme. Akal sehat sudah tidak ada dinegara ini.\\rNon_HS\\t\"Semangat pak ahok , bapak sudah berjuang sekuat tenaga dan sudah berusaha melakukan yang terbaik, terima kasih pak\"\\rNon_HS\\tTerima Kasih pak sudah mengabdi dijakarta dengan segudang permintaan warga.\\rNon_HS\\t\"Mungkin ada kata kata yang menyakitkan ya pak, tapi semoga itu menjadi semangat untuk bapak kedepannya.\"\\rNon_HS\\tWalaupun bapak tidak menang. Tapi saya menikmati kerja keras bapak selama menjabat. Terima kasih untuk bapak ahok.\\rNon_HS\\tmiris ya pak ahok...sukses slalu buat my idola pak ahok\\rNon_HS\\t\"Gue lebih suka Ahok bantuin Jokowi ngurusin Indonesia agar lebih cepet maju, bukan hanya Jakarta.\"\\rNon_HS\\t\"Pak kok saya pngn peluk bapak sambil bilang \"\" pak tetap semangat ya, saya selalu mendoakan yg terbaik untuk bapak\"\"\"\\rNon_HS\\taya bukan warga jakarta tp saya sering ke jakarta.....saya bangga jakarta pernah di pegang bapak. Jadi rapih pak sekarang.....\\rNon_HS\\tMaka seyogyanya pilihanku #TetapAhok karna terlihat pencerahan pd sistem birokrasi.\\rNon_HS\\tPak ahok tetap menjadi gubenur dihatiku ....\\rNon_HS\\tDari lahir di Jakarta sampe detik ini baru gue liat kali & pintu air Manggarai bersih dari sampah ya pas jaman Jokowi sampe Ahok. #TetapAhok\\rNon_HS\\tGpp kalah. mungkin belom rejekinya ya pak. Bagi kami bapak tetap pemimpin yang jujur. Tetap berkarya nyata\\rNon_HS\\t\"Selama 20 tahun tinggal di Jakarta, baru 5 tahun terakhir benar-benar terasa perubahan dan sadar kalau itu akitbat gubernurnya.\"\\rNon_HS\\tAku cinta Pak Ahok. Terimakasih ya Pak atas jasa-jasa dan kerja nyatanya selama 5 tahun terakhir.\\rNon_HS\\tTetap semangat pak ahok.... terimakasih atas semua yg anda berikan untuk jakarta. sukses selalu buat pak ahok.\\rNon_HS\\tPak ahok kita tetap mendukung apapun yang terjadi\\rNon_HS\\tTerima kasih banyak buat kinerja keras dari Pak Ahok dan team selama memimpin DKI Jakarta. Tetap semangat selalu Pak. God Bless Bapak & Family.\\rNon_HS\\t\"Bapak ahok sosok yang saya banggakan, terimakasih pak sudah merubah jakarta.\"\\rNon_HS\\t\"semoga pak ahok selalu dlm lindungan tuhan, saya sayang sama pak ahok, pak ahok orang baik.\"\\rNon_HS\\tTerima kasih pak Basuki. Sampai kapan pun sejarah akan mencatat bapak membawa perubahan bagi kami warga jakarta\\rNon_HS\\t\"Lanjutkan perjuangan Pak, Bapak orang baik pasti ditempatkan di tempat yg lebih baik juga.\"\\rNon_HS\\tKau lah yang terhebat.. Karna kau lah kami mendapat inspirasi dan pengalaman yang sangat berharga.\\rNon_HS\\tBuat Pak Ahok tetap berkarya pak. Masih ada kesempatan lebih baik di 2019\\rNon_HS\\tPak saya setuju kalo pak jadi gubenur karena kerja pak sangat bagus kerena kerja pak basuki tegas keluarga kami mendukung pak basuki\\rNon_HS\\tBapak tetap yg terbaik untuk jakarta..terima kasih pak untuk semua yg bapak kerjakan selama ini semoga Allah selalu meridhoi bapak dalam setiap langkah bapak..\\rNon_HS\\tjabatan bukan hal penting yg terpenting bapak tetap orang terhebat di jakarta tentang kerja keras Pak Ahok..sekali lagi terima kasih Pak Ahok\\rNon_HS\\tPak Ahok....walau saya bukan warga DKI....saya sangat sedih bapak tidak terpilih lg jd Gubenur DKI.....\\rNon_HS\\tHanya bpk lah gubernur satu satunya yg bisa membawa perubahan di Jakarta...semangat pak...\\rNon_HS\\t\"Pak ahok, saya mempunyai ibu, ibu saya selalu mendoakan pak ahok setiap waktu dan setiap pagi jam 3 ibu saya sebenarnya kecewa dengan hasil pilkada\"\\rNon_HS\\t\"tapi kalah menang itu biasa. kekuasaan ada di tangan tuhan, asal bapak ahok tidak menjual iman pak ahok dengan jabatan\"\\rNon_HS\\tTerimakasih banyak pak ahok dan djarot untuk kerja tulus dan kerasnya untuk Jakarta..\\rNon_HS\\tMedia Asing Menyorot Hasil Pilkada Jakarta\\rNon_HS\\tAhok Banyak Belajar di Pilkada DKI\\rNon_HS\\tIni Pelajaran yang Dipetik Ahok dari Pilkada DKI\\rNon_HS\\tAhok: Lupakan Semua Masalah Kampanye dan Pilkada\\rNon_HS\\tPresiden Percaya Pilkada DKI Hasilkan Pemimpin Terbaik\\rNon_HS\\tKapolri Pastikan Pilkada DKI Berjalan Lancar dan Sejuk\\rNon_HS\\tPengamat: Pilkada DKI Panas Karena Parpol Sulit Disiplinkan Massa\\rNon_HS\\tParpol Pendukung Ahok-Djarot Komitmen Jaga Pilkada Damai\\rNon_HS\\t\"Amankan Pilkada DKI, Polisi Terapkan Dua Sistem Pengamanan\"\\rNon_HS\\tTiga Instansi Keluarkan Maklumat Larangan Mobilisasi Massa di Pilkada DKI\\rNon_HS\\tTERNYATA BAJU YANG DIPAKAI AHOK DI DEBAT PILKADA YG SAYA TONTON MELALUI METRO TV SAMA DENGAN YANG DI TV ONE. BARUSAN SAYA CEK\\rNon_HS\\t\"Sebagai warga negara yang baik, lo wajib ikut mensukseskan Pilkada Jakarta 2017. Temukan performa berbeda Debat Pilkada pukul 7\"\\rNon_HS\\tDebat Terakhir Menentukan Elektabilitas di Pilkada DKI Putaran Kedua\\rNon_HS\\tTerima kasih bapak ahok dengan jasa2 bapak selalu membangun jakarta lebih baik lagi\\rNon_HS\\tSalut banget sm pak ahok.. benar2 berjiwa kesatria.. langsung mengucapkan selamat ke pasangan anis dan sandi..\\rNon_HS\\tkeluarga sudah ke menggunakan hak pilihnya pagi ini. Jangan lupa bagi warga Jakarta untuk datang ke TPS sebelum jam 1 siang!\\rNon_HS\\tTerima kasih telah membuat Jakarta menjadi lebih baik pak... Tetap semangat!\\rNon_HS\\t\"Pada akhirnya, orang jahat akan jatuh, dan orang baik, akan dibangkitkan!\"\\rNon_HS\\t\"Meski dijatuhkan berkali2, Tuhan akan selalu mengangkat yg benar\"\\rNon_HS\\tRencana Bapak yang di surga itu lebih indah yangg kita inginkan bapak ahok tetap semangat ya pak\\rNon_HS\\tPak Basuki dan Pak Djarot tetap kuat didalam iman dan pengharapan...\\rNon_HS\\tYakin bahwa ini bukan jalan yang terbaik untuk anda dari hanya sekedar Gubernur dan Wakil gubernur DKI..\\rNon_HS\\tMasyarakat Indonesia khusus DKI melihat pemimpin itu bukan dilihat hasil kerjanya\\rNon_HS\\tKami sebagai rakyat indonesia yang bukan berasal dari DKI turut mendoakan semoga pak Basuki dan pak Djarot tidak pernah lelah melayani kami dan tetap terus semangat\\rNon_HS\\t\"jangan padam untuk kemanusiaan ya pak, saya mengenang semua hal manis yg telah bapak perjuangkan\"\\rNon_HS\\tSaya doakan pak ahok dan tamengnya tidak kejang2\\rNon_HS\\tTetap semangat pak. Ahok.. Aku selalu dukung pak ahok djarot.\\rNon_HS\\tPemenang Debat Pilkada DKI malam ini adalah...... IRA KOESNO!!!\\rNon_HS\\t\"Selamat buat pasangan no 3, Anies-Sandi pemenang versi Quick Count... Terima kasih buat Ahok-Djarot atas kerja luar biasa untuk Jakarta...\"\\rNon_HS\\tSemangat pak ahok walaupun saya warga bandung tapi saya yakin pak ahok yg jadi juara...\\rNon_HS\\t\"yg jelas, kerja keras, pasti, dan jujur tetap pak ahok.\"\\rNon_HS\\t\"Maaf pak saya tidak bisa ikutan nyoblos, KTP saya jakarta, tapi saya skrg tinggal bandung, saya hanya bisa berdoa\"\\rNon_HS\\t\"semoga ahokdjarot bisa terus melanjutkan visi misi nya untuk membangun kota Jakarta, agar lebih rapih bersih dan nyaman\"\\rNon_HS\\tDalam nama Tuhan Untuk jakarta yg lebih baik\\rNon_HS\\tsemagat buat pak Anies semoga selalu dalam rahmat tuhan YME\\rNon_HS\\tsemua warga DKI gunakan hak pilihmu....jangan takut kita smua warga yg punya hak dan sehat lahir batin\\rNon_HS\\tsemoga Tuhan memberikan seluruh masyarakat DKI jakarta keadilan sesuai pemimpin yg benar2 demi rakyat Amin.\\rNon_HS\\tEks Pendukung Agus-Sylvi di Jakarta Timur Deklarasikan Dukungan Untuk Ahok-Djarot\\rHS\\t\"Ini pasti salah Jokowi, Ahok dan kafir-kafir ateis. https:\\\\/\\\\/t.co\\\\/v2GRcUeStI\"\\rHS\\t@fahmiabuazzam1 biar aja biar tai nya kena bapak lo itu ya. Loh tuh kan gak suka sm ahok jadi biar loh sm bpk loh sm ibu loh kena tai nya.\\rHS\\tRT @BungWinar: Angin memporakporandakan basis pemenangan Si Penista Agama...Cililitan.\\\\nYa Alloh Ampuni Kami\\\\n#JakartaBanjir\\rHS\\t\"RT @Lupuz0503: Prestasi Ahok, \\\\nSelain mjadi mafia koruptor n penista agama, dirinya bhasil tenggelamkan JKT MELALUI congoran CEBON\"\\rHS\\tUlama Kompak Nyatakan #HaramPemimpinKafir Pilih Ahok = Murtad!\\rHS\\tKAU PENDIKAN TINGGI TAPI BODOH....GK ADA LARANG BAWA AGAMA..BIAR ORANG ISLAM YG DI BAYAR AHOK SADAR GK JADI MILIH AHOK GLA\\rHS\\t@indopoints di tanah abang cina udah mulai resah dan stres gara2 si penista agama dan pilkada pasar jd sepi. Sepi sampai 2 minggu lg ha. ha\\rHS\\t@investigator_RI betul dan semua pihak yg menentang si cina kafir ahok akan di kriminalisasi oleh polisi dgn smua rekayasa hukum nya\\rHS\\t@YohanesTarigan9 saya ga habis pikir kenapa fanboy ahok bego bego ya pada ga ngerti sejarah. Gampang kejebak iklan. Maaf ya.\\rHS\\t@Zufrianto3 lebih baik pilih ahok drpd pilih yg se iman tp koruptor dn munafik !! Bodoh kau\\rHS\\tAhok si penghina Al - Qur\\'an dan Ulama ini selalu bersikap menjijikkan yaitu sok suci dan merasa paling benar https:\\\\/\\\\/t.co\\\\/bTkCeTNk0g\\rHS\\t\"Ayo umat Islam yg pinter, jgn percaya klo aksi 112 tdk ada hubungannya dgn pilkada, pihak AHY yg bayar anies yg untung \\\\ud83d\\\\ude01\"\\rHS\\t#DebatFinalPilkadaJKT mampuuuusssssss mpoK Silvy!!!!\\rHS\\tHidup china komunis ! https:\\\\/\\\\/t.co\\\\/b1RheVKrXl\\rHS\\tIni tuh kesalahan Jokowi dan Ahok si babi ateis. https:\\\\/\\\\/t.co\\\\/v2GRcUeStI\\rHS\\tKalo ahok menang pilkada bikin video sex bareng anaknya dong tan.? https:\\\\/\\\\/t.co\\\\/7msmThwwLK\\rHS\\tKeluarga Besar Kami Yang Berdomisili di Jakarta TIDAK PILIH AHOK!! https:\\\\/\\\\/t.co\\\\/GZKZFTpvCw Suara Ulama Bulat! #HaramPilihAhok #JanganGolput\\rHS\\tketutunan cina dari luar kota dan pulau mulai kejakarta mau coblos ahok dengan KTP aspal dari kamboja\\rHS\\tRT @indopoints: china babi... china maling...\\\\n#UsirChina https:\\\\/\\\\/t.co\\\\/9y4HIWHJp2\\rHS\\tRT @mosangada72: Masih mau memilih Agus-Sylvi???\\\\nAnaknya SBY dan Keluarga Koruptor\\\\n#BlusukanAhok\\\\n#BerjamaahCoblosPecinya\\\\u2026\\rHS\\ttangkap ahok dan klompok nya yg melakukan pemalsuan e KTP karna merupakan penghiyanat bagi bangsa dan negara\\rHS\\t\"Tangkap Ahok Sekarang Juga, Share Jika Setuju !!!\"\\rHS\\t\"Sayang sekali Bangsa ini Paling jago kalau merasa-rasa. Yg mendukung Pak Ahok merasa paling benar, yg mendukung Mas Anies merasa paling suci\"\\rHS\\tVideo Ahok Menghina Agama Kristen Agama Konyol #AhokPecahBelahBangsa\\rHS\\t\"Bukan Hanya Penista Agama, Bagi JPU Ahok Pemecah Belah Bangsa https:\\\\/\\\\/t.co\\\\/6qkIFCjqhq\"\\rHS\\tMbak Sylviana please Anda sehat? #DebatFinalPilkadaJKT #perjuanganbelumselesai\\rHS\\tNomor 1 sok tau lagi lansung di skak wkwkwk #DebatFinalPilkadaJKT\\rHS\\tRT @Gemacan70: Ayoo jaga keutuhan NKRI!!! Tangkap Penista Agama!!! #StopKriminalisasiUlama https:\\\\/\\\\/t.co\\\\/dxIDQ4ZQHV\\rHS\\t\"@Lupuz0503: Terlihat salah satu pendukung mafia koruptor dan penista agama, para gerombolan BANCI TITOT lakukan bidikan ke arah\"\\rHS\\ttobat yuk sebelum terlambat. biar gerombolan JIL aja yg kita doakan konsisten bela kekafiran hingga akhir hayat https:\\\\/\\\\/t.co\\\\/979uJ6ItrM\\rHS\\t\"RT @UstadTengku: Ya Allah Jika Mereka Menempuh Cara2 Curang utk Memenangkan Si Penista Agama, Engkau Kirimkanlah MALAIKAT MAUT Utk menyeles\\\\u2026\"\\rHS\\t;Kebanyakan fitnah nih mpok silvy #DebatFinalPilkadaJKT #Gue2\\rHS\\t\"FPI: Pendukung Ahok kalah jumlah, dengan izin Allah kita gusur Gubernur koruptor dan penista agama https:\\\\/\\\\/t.co\\\\/Jp7pGLRGiE\"\\rHS\\t#JakartaBanjir Pemimpinnya gak punya akhlak yg baik... PENISTA AGAMA. https:\\\\/\\\\/t.co\\\\/PNEGDJMPCH\\rHS\\t\"RT @felixsiauw: tapi twit begini asik lo, kita jadi tau yang mana akun-akun pro-penista agama, akun-akun buzzer yang kerjanya menghujat :)\"\\rHS\\t@DivHumasHansip: ahoker siap bela penista agama https:\\\\/\\\\/t.co\\\\/HxuU4rUDFX\\\\\\rHS\\tRT @alwinazar24: sepertinya CUCUnya DAJJAL telah hadir\\rHS\\t\"Mereka Siang MALAM Maki2 Ulama Kita, Nongkrongi Medsos Ulama2\\\\nBela PENISTA Agama yg SOMBONGNYA Minta AMPUN.\"\\rHS\\tRT @Jhonkosmik: Ada apa dengan mayoritas etnis China di DKI?\\\\nMengapa begitu solid mendukung penista agama Islam?\\\\n\\\\nDendam?\\\\nTidak nasionalis?\\rHS\\tMukanya mpo Silvy Asem bangett ngakak kena deh abis jahat sih #DebatFinalPilkadaJKT\\rHS\\tRT @GodinJ760478: @tempodotco gara2 belain terdakwa penista agama jadi remek semua. Sukurin\\rHS\\t\"RT @Chaeruddin_B: Sekumpulan Teman Penista Agama\\\\nTdk ada empati buat korban banjir, hanya koar2 memuji junjunganya https:\\\\/\\\\/t.co\\\\/XQFktDG74x\"\\rHS\\tRT @TerorisSocmed: PENJARAKAN PENISTA AGAMA !!! ATAU @jokowi TURUN !!! https:\\\\/\\\\/t.co\\\\/vqH0TNXaRz\\rHS\\t\"Si penista agama, Jaga mulut aja gabisa apalagi jaga jkt?\"\\rHS\\tAhok : program paslon no. 1 ini programnya ngambang | yaiyalah pakkk gak ada program diaa cma ada celaan #DebatFinalPilkadaJKT\\rHS\\tAkui saja Ahok dan Djarot kalian gagal atasi banjir.Orang kena banjir anda sibuk sidang kasus penista agama\\rHS\\tRT @87_julay: Iyaa... Ahog Ngak pantes jadi pemimpin.. Pantesnya penista agama dipenjarakan!!! https:\\\\/\\\\/t.co\\\\/YhhO40QWXS\\rHS\\tRT @wongawas: Overdosis @Metro_TV membela penista agama. https:\\\\/\\\\/t.co\\\\/i84RARpy5w\\rHS\\t\"Kaga masuk diakal kite kalo suara seorang penista agama yg dah dikutuk ame umat islam suara nye bisa tinggi, emang sengaja ditinggiin tuh\"\\rHS\\tRT @andreobz: Pantasan di pecat dr menteri...data2 aj ngawur dan memkasakan betul..hahaha #AhokPastiTumbang #paslon3 #pilgubdki\\rHS\\tRT @BangsaPenguasa: Penjarakan ahoax penista agama atau jokowi turun.#KonsolidasiDewanPKB https:\\\\/\\\\/t.co\\\\/XoW5eakIsk\\rHS\\t\"Napa dibiarin tim si penista agama maen curang maren, emang sengaja dibiarin biar ntar digaplok umat islam rame2 se jakarta tuh penista\"\\rHS\\tHahahahhahaa silvy ohh silvy cacingan amat loe ahhh wkwkwkwkwkk #DebatFinalPilkadaJKT\\rHS\\t\"RT @Rakyat_Angin: Ahok Taik. \\\\\"\"MENFITNAH\\\\\"\". Emang lu tukang caci maki perempuannn!! Asuuu #AhokPastiTumbang #DebatFinalPilkadaJKT\"\\rHS\\tRT @HasanArisandi: #AhokPastiTumbang fakta di bilang fitnah\\\\n#DebatFinalPilkadaJKT\\rHS\\t\"Shame on you silvy !! Ga malu fitnah?? Tuh rasain pak ahok panas, skak mat #DebatFinalPilkadaJKT\"\\rHS\\tBu silvi anti pns level rendah katanya #DebatFinalPilkadaJKT\\rHS\\tRT @AnnisaFYtr: Hanya Orang Islam Yang Bodoh dan Goblok Yang Memilik Ahok! #DebatFinalPilkadaJKT\\rHS\\t\"@DivHumasHansip: fitnah FPI pecah adalah ulah ahoker yg melihat elektabilitas ahok tinggal 10%,mereka kelojotan melihat MUI+NU+Muhammadi\"\\rHS\\tNorak banget iklan mantan mendikbud @aniesbaswedan ini. Tambah gak respech.. inilah tenun kebangsaan yg dia maksud.\\\\u2026 https:\\\\/\\\\/t.co\\\\/Ux7HEYkBLG\\rHS\\t\"RT @DivHumasHansip: yg nebar kebencian itu ahok mbak,masa mbak gak tau sih sampai dia jadi terdakwa loh @AnizzahGedrun\"\\rHS\\tpertanyaan dari Bu Sylvi gak mutu amat. #DebatFinalPilkadaJKT\\rHS\\tHuuu sylvi tak tahu apa-apa asal ngoceh #NobarAhokDjarot #DebatFinalPilkadaJKT\\rHS\\tSylvi keliatan bloonnya #DebatFinalPilkadaJKT\\rHS\\tRT @WanitaRevolusi: Ahoax penista agama kembali mengolok olok surat AL-MAIDAH 51. Cc @Dahnilanzar\\rHS\\t#JakartaBanjir Pemimpinnya gak punya akhlak yg baik... PENISTA AGAMA.\\rHS\\t#DebatFinalPilkadaJKT mati kau hok\\rHS\\tYg ga punya program bisanya cuma fitnah. Ciri Orang yg demen ngambil kjp kontan #DebatFinalPilkadaJKT\\rHS\\tMpok silvi nyinyir melulu pertanyaan nya tapi sayang sesat! Maklum sih dese emakemak! #DebatFinalDKI #DebatFinalPilkadaJKT\\rHS\\tRT @bajigurceleng: @jpnncom hahaha jelas2 buat pilkada dasar polisi made in cina pelindung penista agama\\rHS\\tKurangnya pemberdayaan wanita DKI Jakarta bisa dilihat dari telaknya perbedaan warna muka dan warna tangan mpok sylvi #DebatFinalPilkadaJKT\\rHS\\tAgus silvy Tukang Fitnah #DebatFinalPilkadaJKT\\rHS\\t#DebatFinalPilkadaJKT yaudah gus sini kalo ga sakit secara fisik daripada verbal gw gebukin lo rame2\\rHS\\tKeluarga kita gak ada yg maling coyy gak perlu trauma kaleeeee emang kluarga ente?\\rHS\\tJG KAITKAN JOKOWI DENGAN AHOK KATA JOHAN BUDI. KATA KAMI. SEBAB JOKOWI ANJING. SEDANGKAN AHOK BABI. YA JELAS BERBEDA. WALAUPUN OTAKNYA SAMA\\rHS\\tBajingan lu silvy #DebatFinalPilkadaJKT\\rHS\\t\"Hasil Akhir, Menyatakan @jokowi Melindungi Ahok TERDAKWA PENISTA AGAMA !!!\"\\rHS\\tRT @SiBonekaKayu: Selepas banjir Jakarta 212 Pendukung Ahok mengganti narasi doa. Semua demi keuntungan Sang Penista Agama\\rHS\\tTionghoa katanya kaya? Kok pada putus sekolah? Kebanyakan dugem?\\rHS\\tGusur Ahok demi Indonesia. Teladan buruk pembangkangan hukum dan anti kemanusiaan di Jakarta jgn tertular ke daerah. #CoblosPecinya\\rHS\\t\"BUAT AHOKER YANG TAKUT MATINYA GG DISHOLATIN , TENANG ADA ABU JANDA UST GADUNGAN YG SIAP SHOLATIN AHOKER & JOKOWER\"\\rHS\\tMampuuss ! Di tembak dalem banget silvyy .. lo urusin tuh dapurr ! Gak punya program demennya nyerang terus !!! #gue2 #DebatFinalPilkadaJKT\\rHS\\tAnjir baru kali ini lihat orang bego mau debat pilkada. Kerjanya nyerang karakter. Shame on you mpok silvy and agus. #DebatFinalPilkadaJKT\\rHS\\tUang Taipan tuh. Nanti dibayar dengan ratusan penggusuran biadab oleh Ahok.\\rHS\\tCINA ASU https:\\\\/\\\\/t.co\\\\/zM1BsjAIHA\\rHS\\t\"Ketika ngomong, Sylvi keliatan oke. Tapi begitu didebat Ahok, Sylvi langsung kekuatan goblok.\"\\rHS\\t\"Jangankan Banjir, Tuhan aja Dilawan Sama Ahok #JakartaBanjir Tapi Jakarta hari Ini Bukan Banjir, Hanya GENANGAN.\"\\rHS\\tADA PEMIMPIM PRIBUMI knp pilih PEMIMPIN IMPOR yg g BERADAB tukang BERBOHONG yuk PRIBUMIKAN DKI milik BANGSA IND @Gemacan70 @TerorisSocmed\\rHS\\tKarna dia ga punya program hanya modal bacot doang\\rHS\\tPendukung berarti dia bagian dr penista agama tersebut!!! Dukung gerakan ini 100%\\rHS\\tNarkoba yg paling berbahaya adalah ILUSI KESUCIAN AHOK SANG PENISTA.\\rHS\\t@tribunnews emang ahok siapa?? Orang penting?? Dia hanya penista agama!!\\rHS\\tcina mah duitnya dari hasil maling di Indonesia di balikin lgi berkedok invest plus bawa gembel2 & napi dari Cina negeri nenek moyang ahok\\rHS\\t\"Tangkap Ahok @basuki_btp skrng juga, koruptor reklamasi Jakarta dan penista Agama Islam.\"\\rHS\\tkeliatan banget bego nya mpok silvy and agus. #DebatFinalPilkadaJKT\\rHS\\t\"Yg Ahokers, Klo gak seneng ama cuitan gw silahkan unfollow krn gw Anti AHOK (Si Penista Agama Islam)\"\\rHS\\tAGAMA DI NISTAKAN! ULAMA DI LECEHKAN!! Ini Alasannya #HaramPemimpinKafir\\rHS\\tRT @FredyBastian3: Cara serang Ahok : Kafir galak\\rHS\\t@umnia77 @ruhutsitompul @sahal_as anjing2 ahok.kaum babi lo bnyk bacot.mnding duel sma gw.\\rHS\\tAhok memang verbalnya keras. Pelampiasan dan pelarian karena kelelakiannya lunak.\\rHS\\t\"yg maling itu kan china2 babi BLBI , korupsi nya triliunan , termasuk si AHok korupsi 2 triliun..\"\\rHS\\tMimpi djan farid jakarta lebih islami dari aceh jika ahok terpilih itu ibarat babi merindukan halal\\rHS\\t@KompasTV @ridwankamil ridwal kamil memang hebat dan top nggak kaya ahok tukang penista agama dan koruptor\\rHS\\t@TPK_RI ITULAH si ahok kutil babi\\rHS\\tDasar si Kutil babi ahok memang Tukang Bohong. selain Bohong ahok jg biasa Menyalahkan yg lain menutupi Kegagalan nya . contoh soal banjir\\rHS\\t@PonkEcha @Fahrihamzah Si Terdakwa Penista Agama Alias Si Ahok Babi Jamban tuh yang Morfotin Uang Rakyat Jakarta\\rHS\\t\"Om...Ahoknya...Mana Om,Katanya Si BABi Ahok Bisa Ngatasi Banjir...Om...BABi Jgn Membual Om...?!!?\"\\rHS\\tkenapa anak babi jalan nya nunduk???karena malu liat ulah bapak nya yang ngebelain ahok..\\rHS\\tPerilaku Si BABI @jokoanwar ini memang benci dgn hal berbau Islam. Cocok dgn Ahok. @SiBonekaKayu\\rHS\\t@budimandjatmiko ahok si kutil babi kembali ke rumah lembang kenapa jakarta jadi banjir bud?\\rHS\\t\"#jujur orang cerdas dan pintar pilih orang imam dan mampu memimpin ..bisa sholat...bisa ngaji..santun, sopan..tidak seperti babi kafir ahok\"\\rHS\\tTeman Ahok emank TAI. apalagi pemimpinnya kek BABI! @temanahok\\rHS\\t\"Mana para babi ahok yg ngejek onta, biar di injek2 ama onta\"\\rHS\\t@gotcancer2 bukannya stigma babi itu milik tuhan elu si ahok kafir\\rHS\\tKampungan ya pendukung AHY https:\\\\/\\\\/t.co\\\\/GmezpOYLsY\\rHS\\t\"@Ananda_harahaP udah lu jgn panik gitu. ahok si kutil babi bakal tumbang kok di putaran kedua. teruskan cuapcuap mu di sosmed, gak ngaruh.\"\\rHS\\t\"ahok tidak layak seperti manusia, dia lebih tepat seperti babi yg tidak punya akal pikiran dan jiwa manusiawi\"\\rHS\\t@haloJakarta Ahok (BTP) Basuki Tai Babi\\rHS\\t\"RT @diyahaudya: @yusuf_dumdum Yg ada, cacimaki penista agama tapi ternyata ketauan poligami ngumpet2. Apa mau digituin? Saya sih ogah.\"\\rHS\\t\"@adichandramang2 @CummaRachel @korban_gusur iya , trump memang penista agama atau anti islam emang hubungannya dgn anis apa?\"\\rHS\\t@adichandramang2\\\\nAda aseng KOPLO pembela si PENISTA AGAMA yg durjana nyuruh org lain ngaji!\\rHS\\t\"@bayprio Itulah kebodohan para penista agama, sudah saatnya pilih pemimpin yg mengerjakan shalat 5 waktu\"\\rHS\\t@iwanfals pilih Anis sandi doong..jgn pilih si penista agama pemecah NKRI\\rHS\\t\"@posmetroinfo Emang terdakwa penista agama, salahnya dimana coba, kl yg biasa bikin hoax metrotipu aman2 aja tuh dewan peres\"\\rHS\\t@RamadanMalka Pamor RK jadi seakan tak ada artinya jika parpol pengusungnya pendukung penista agama...\\rHS\\t@RestySeterah si ahok pantasnya dinobatkan sbgai Babi ngepret\\rHS\\t\"@roninpribumi @dewanpers yg salah itu mereka menulis TERDAKWA PENISTA AGAMA,coba klo ditulis BAGINDA YANG MULIA pasti ga masalah..cuih..\"\\rHS\\tFaktanya Cina2 parasit tuh ngotot belain si penista Agama @PradanaBhakti @IrianaPasirua @PutraSumedang18 @khoirulilham12 @ronavioleta\\rHS\\tjokowi ratu adil apaan..??? dia ga ada keturunan darah biruadanya DARAH KOTOR cina babi..!!! https://t.co/JtwFRRdLF4\\rHS\\tRT @RestySeterah: Keren nih apps kawal TPS .. Yuk gabung buat pastikan cagub terdakwa penista Agama lebih cepat diantar kehabitatnya\\rHS\\t\"Kalau lo gak tau apa-apa ya jangan berkoar sembarangan dong, keliatan banget kalau lo itu beneran bego :)) #FuckYou\"\\rHS\\t@AHMADDHANIPRAST ahmad dhani yang terhormat paling babi paling anjing aing kontol paling lonte tungu saat nya karier mu akan habis!!!!\\rHS\\t\"Kang @ridwankamil ,fakta hari ini,partai pendukung si penista agama sangat dibenci rakyat,termasuk rakyat Jabar. https://t.co/b2WetyvrbZ\"\\rHS\\t\"plis jangan sok kecantikan selalu pacarin artis2 yang lagi meletek, jijik gw liatnya\"\\rHS\\t\"paling mau muntah liat lagak nya @AHMADDHANIPRAST, jadi orang sok iye banget hoek\"\\rHS\\t@Metro_TV kalau boleh saya ngomong ingin saya katakan ahmad dhani monyet babi anjing. tapi itu tidak boleh\\rHS\\t\"perempuan kaya lo mending mati aja deh, jelek aja, gausa sok jadi make up artist!\"\\rHS\\t\"ahmad dhani itu borok, sampah, babi, anjing. Saya adalah orang pertama yg sangat muak liat muka dhani dan saya berbangga.\"\\rHS\\tLah emang sdh jelas2 si ahok terdakwa penista agama. Malu woy! https://t.co/2K0HlMpR9t\\rHS\\t\"Keputusan ERKA hari ini harus kita HORMATI, begitupun sebaliknya KAMI tidak akan memilih partai pendukung PENISTA AGAMA.\"\\rHS\\tLupakan @ridwankamil biarkan karam dg kapal munafiknya. kita bangun jabar dg kapal yg bersih. Delete partai pendukung penista agama dari hati\\rHS\\tMasalah dunia dan masalah nafsu ya kang @ridwankamil . Kata2 kok bersayap kayak burung hantu. https://t.co/mwClbkU4sT\\rHS\\tPenista Agama menjadi Santri Kehormatan.Yang kasih ini ke ahok otaknya perlu direparasi.Demi Pulkada nama Santri yg baik kailan jual belikan\\rHS\\t\"Payah banget @ridwankamil maju Jabar1 pakai partai Nasdem pendukung penista agama, ente lagi butuh uang ya kang? Payah loe!!\"\\rHS\\t\"polisi yg jadi imam sholat ini adalah seorang penista agama, bodoh, BERISLAM cuma ikut2an. COPOT KAPOLRES JAKBAR !! https://t.co/s2h2Ybrthm\"\\rHS\\t\"RT @ferdyfrodoo: @bayprio Itulah kebodohan para penista agama, sudah saatnya pilih pemimpin yg mengerjakan shalat 5 waktu\"\\rHS\\t\"RT @Ra_Ria_Rana: GAK HABIS PIKIR???\\\\n\\\\nTINGGAL NUNGGU ADZAB ALLAH NIH NEGERI,,,, PEMIMPINNYA SDH DZALIM https://t.co/UmZK4bTyi4\"\\rHS\\t\"Sini lu, kami enggak mau kampung kami didatangi sama penista agama, https://t.co/1z3MtHs9ck\"\\rHS\\t\"SETUJU SAYA,KLAU AHOK DAPAT GELAR SANTRI KEHORMATAN.... TAPI SANTRI KEHORMATAN BABI.... https://t.co/uD16d7Gwhd\"\\rHS\\tSenang dong ada yg fans mati sampai lupa kalau dia bego banget https://t.co/ctJFC5a8Zz\\rHS\\t@AHMADDHANIPRAST LO TUH BABI ANJING. Mampus kalah jatuh miskin deh #bekasisah\\rHS\\t@bayprio : Si AHOAK @basuki_btp CINA ANJING KAFIR PENISTA AGAMA ISLAM....!!!\\rHS\\t\"@AHMADDHANIPRAST aku katakan anjing kpd ahmad dani, boleh....aku katakan babi kpd ahmad dhani, boleh...\"\\rHS\\t\"@Bisniscom haha memaki untuk melawan mah harus, drpd ditindas pemimpin munafik melindungi penista agama, dll. Agama no 1 (islam), taubat rot\"\\rHS\\t\"@Anakran63208433 @5ec4a1e80d3c48c @aniesbaswedan pikiran anak bani kampret g beda jauh sma penista agama. Penfitnah, Penipu Dan Garong..\"\\rHS\\t@Gemacan70 itu yg cewe pake kerudung ngapain ya? Setiap kali konfrensi pers ada aja.. Pencitraan Islami kaliiii... Bwahaha..!!\\rHS\\t@republikaonline spt ahok dulu .. nasdem disusul dg cs nya .. yg mendukung paslon penista agama dan tukang caci maki tai tai ..\\rHS\\t@topan_julian1 kalo mecin jangan dijadiin cemilan mangkannya kang. Jadi begonya bego banget.\\rHS\\t@ulinyusron cm didoain kalau saya mah ketemu si penista agama langsung saya ceburin laut yg direklamasi ijin sembunyi2 buat tumbal reklamasi\\rHS\\t\"@ymerdeka33 @ach_qodr @basuki_btp cabe2an bisa nya hanya bbm.n facrbook.n!! Masalah politik mana tau doi, tau nya berita2 sampah pencitraan\"\\rHS\\tINI MANUSIA APA ANJING MATI-MATIAN RELA JADI MURTADZ DEMI BABI AHOK KAFIR. https://t.co/2XXN5CFdVM\\rHS\\t\"ini semua berawal dari AHOK JAMBAN yg dibela aparat, para kristen serta china kafir yang lain semakin berani menghi https://t.co/qUutkrlsP3\"\\rHS\\t\"Kami lebih resah anda jd presiden!!!! hidup anda penuh drama dan pencitraan, main FTV aja joko judulnya https://t.co/T2BUgLTnUO\"\\rHS\\t\"Mana bisa percya lagi,sdgkan induknya penista smp skrg lum ditahan tp malah dibela. https://t.co/Oc1vGdX0Z4\"\\rHS\\tMari seluruh Muslim CYBER Army mulai skrg ganti semua sebutan A....K menjadi Terdakwa Penista Agama !\\rHS\\t\"Orang Islam lebih suka si HOAX penista agama, menjaga lisan dan tindakan dari hal-hal yang merusak hubungan... https://t.co/FLhW31wXdU\"\\rHS\\tRT @izzah_pandeka: #Nomor2Koruptor negeri para korup diasuh cino babi https://t.co/wJXalyPxPn\\rHS\\tRT @Gemacan70: Hajar bleh hanya untuk bela #Nomor2Koruptor...cuihhhhhh https://t.co/o4nnZBkNYS\\rHS\\tRT @korban_gusur: @RakyatBiasa1945 Ada CEBONG GENDHENG NGAMUK2 belain si HOMO PENISTA AGAMA!! HAHAHA @OshMuslim @RebusKentang @m3g4\\rHS\\tRT @Ustadtengku1: @RizieqSyihabFPI tolol itu banyak yg bela penista agama walau sudah tersangka\\rHS\\tOrang punya saksi anjing dikasus babi.. Tolol https://t.co/ssePg5FCXm\\rHS\\tSi Ahok kampret emang gak becus kerja. Pencitraan mlulu tuh si Ahok kampret. https://t.co/yM5ViOFvpc\\rHS\\t\"Sini lu, kami enggak mau kampung kami didatangi sama penista agama, https://t.co/1z3MtHs9ck\"\\rHS\\t\"Tanda2 kiamat x yak, masih banyak aja orang muslim yg mengingkari Al-Quran dan pilih Penista Agama. #Nomor2Koruptor #Nomor2Koruptor\"\\rHS\\t\"#JanganMauDibohongiAhok sebab Ahok Sumber Kekacauan Politik, Ramaikan Aski 313 FIGHT!! https://t.co/WOBxlxvZnx\"\\rHS\\t#MataNajwaDebatJakarta Anies anda SADIS. Topengmu terbuka lebar malam ini. Biar warga DKI yg menilai...apa yg anda katakan adalah PENGECUT\\rHS\\tAnies congornya aja gede. Realisasinya gak ada. Janji terus dari awal bisanya paling korupsi. Balik jadi dosen aja bangsat.\\rHS\\t\"#MataNajwaDebatJakarta Hebatnya, Ahok masih mau salaman loh sm Pak Anies yang Amat terhormat. Idih gw sih ogah.\"\\rHS\\t#MataNajwaDebatJakarta kalau untuk urusan bacot memang anis nya juaranya..memang kita bakal makan bacot di jakarta..haha..paslon yg aneh gede bacot doang.\\rHS\\t#MataNajwaDebatJakarta pak anies banyak omdo dulu waktu jd menteri terobosannya apa?? skrg ngomong ky sok Jago bgt\\rHS\\t#MataNajwaDebatJakarta si Cina Babi ahok bloon banget. Sok pinter banget lagi. Asal bukan Ahok\\rHS\\t#MataNajwaDebatJakarta lucu banget jawaban ahok.. gak nyambung. Ditanya apa di jawab apa. Kena skak mat d pertanyaan isu agama tdi. Dasar cina tolol hahaha\\rHS\\t#MataNajwaDebatJakarta topeng anda hari ini fix terbuka @aniesbaswedan .. anda sama dgn yg mendukung anda.. BAU BUSUK\\rHS\\t\"#MataNajwaDebatJakarta Pak Anies suka nyinyir, suka memutar balik kan fakta, ga punya program yg jelas bisanya jelekkan kinerja pak Basuki\"\\rHS\\tBabi... iya memang si Ahok gak jauh kayak Babi..\\rHS\\tSi tengkuk babi sipit bangke agen dajjal mau jadi onta hahaha. Orang waras juga tau kasus ahok dipaksakan!!\\rHS\\titu kan kata ahok kafir..umat islam anti ahok karena ahok itu kafr ditambah ahok itu cina yg suka makan babi & bir\\rHS\\t\"gw harus bilang Babi Ahok apa dong selain kafir, gw hanya pengen gerombolannyA Babi Ahok merasakan bagaiamana klo di anjing2in, Bangsat2in\"\\rHS\\t\"sibabi china sangat biadab memperlakukan kaum PRIBUMI, dan para jongon2 spt banser & nu nusantara mendukung ketimpangan ini, biadabnya mrk!\"\\rHS\\tahok kafir takut debat dengan rakyat asli pribumi nelayan dan para pakar reklamasi dari rakyat.. ahok kafir bencong\\rHS\\tnampaknya sudah satu paket penyokong cina babi pasti juga sokong LGBT\\rHS\\tkebiadaban ahok cina kafir anak2 rakyat kecil pribumi dan ibu2 islam semua digusur dari rumahnya serta kehidupannya\\rHS\\t\"tim ahok yg otak wc otak tumpul justru anies itu sdh komit sekali dgn pancasila ,ahok kafir sgt tdk bs berpancasila\"\\rHS\\t\"#MataNajwaDebatJakarta Pak Anies sudah meninggalkan ketenangan dan ketulusannya dalam debat malam ini, mjd agitatif dan licik. semoga kalah kau anjing\"\\rHS\\t\"SELAMA PROSES #SidangAhok WASPADAI ULAMA2 KUBU AHOK..YAKNI ULAMA2 \"\"MUNAFIK\"\" YANG SESAT DAN MENYESATKAN..!!\"\\rHS\\tanies akan merangkul dua2nya untuk persatuan tidak spt ente dangkal & cekak intelektual hanya jadi budak ahok kafir.\\rHS\\t\"kebiadaban ahok cina kafir rakyat kecil yg jadi PKL & asongan2 digusur2 dan dianiaya spt teroris, ahok kafir biadab\"\\rHS\\tRT @LeonartoRabono: tapi kenyataanya jutaan rakyat kecil asli pribumi yg miskin justru semakin dimiskinkan oleh ahok cina kafir....\\rHS\\tItulah Indonesia. Yg dibully org yg bener.Yg salah dan binatang2 seperti nomor tiga dibiarin berkeliaran #matanajwadebatjakarta pak an https://t.co/jYSg6x1A\\rHS\\t\"#SidangAhok smg sipenista agama n ateknya matinya tdk wjar n jasadnya tdk dtrma tnh n dia tdk prnh mrs kn sorga,aamiin semoga tuhan setuju\"\\rHS\\t\"iya,kelasnya penista agama,bs nya cm ngebacot doang yg arogan sk blg taik\"\" nenek lu,oh ya sumber waras n nama d kasus E ktp apkabar?skakmat\"\\rHS\\tPenjarakan semua cina kafir dan ateis! Termasuk Ahok pemimpin babi tukang korupsi!\\rHS\\tKampanye rasis ngmg nya pihak ahok yg di untungkan.. Goblok kafir mana ada di untungkan.. Kalau pada di perkosa bunuh lu enak berduit\\rHS\\thahaha idiot bilang kpd orang2 kafir terurama para nasrani pendukung2 ahok kafir jangan memasuki wilayah2 syariat islam\\rHS\\tI HASIL MAKMAK KALIAN JUAL PUKINYA. BAGI KSLIAN YG BERPIHAK KEPADA PKI DAN SI AHOK ANAK CHINA ANJING KAFIR INI. SERTA NKRI BUKAN DIDAPAT\\rHS\\t\"Tim pendukung sakit jiwa, kehilangan akal sehat & ide #IklanAhokJahat\"\\rHS\\t#IklanAhokJahat Hati hati Mereka Mulai Prustasi dan Memainkan Cara cara Kasar !! Karena hasil dari berbagai survei si penista agama kalah!!\\rHS\\t\"HOOKK, masuk gorong\"\" aja loe #IklanAhokJahat\"\\rHS\\tKayak gini nih kampanye Tim AniesSandiUno ke kampung2 mengintimidasi masyarakat. Kampungan ye? #ASUtenan\\rHS\\tSI KUTIL BABI TELAH MELECEHKAN PRIBUMI DAN UMAT ISLAM #IklanAhokJahat\\rHS\\tNGOMONG AJA ENTE SAMA KACA! MEMECAH BELAH KERUKUNAN LAGI HOK ENTE BISANYA. NGACO! #IklanAhokJahat\\rHS\\t\"#iklanahokjahat Terorist nyata di Indonesia... Bukan wahabi, bukan Onta Tapi Babi Babi milik Cina Penebar Teror sesungguhnya....\"\\rHS\\t\"RT @TerorisSocmed: Sadarlah wahai anak Bangsa, Ibu Pertiwi Sedang Diporakporandakan Oleh Manusia BIADAB @basuki_btp Sebagai Aktor Utama\"\\rHS\\t\"Sepertinya gerombolan @basuki_btp rindu kerusuhan, hati2 dikabul Tuhan #IklanAhokJahat\"\\rHS\\tAhok and Bani serbet and wereng Coklat MEMANCING UMAT MUSLIM supaya marah? dengan #IklanAhokJahat. KALIAN ITU KUMPULAN ORANG SINTING\\rHS\\t\"#IklanAhokJahat baru ada direzim jokopret,setan,iblis,dajjal dibangkitkan dr kuburnya. Mereka gembira berpesta pora setelah lama dibelenggu\"\\rHS\\tYang anti cina & mau ganyang cina tuh siapaaaa..??? kami cuma anti AHOK sang Penista Agama! #kampanyeAhokJahat #IklanAhokJahat #kampanyeSARA\\rHS\\tUdah bingung kalik mau pakai cara apa untuk kampanye. Sampai2 bikin fitnah yang kayak begituan. Depresi ya takut kalah? #IklanAhokJahat\\rHS\\tTahukah Anda apa persamaan antara malin kundang dengan Ahok? mereka berdua sama-sam DURHAKA!!!!!!! #ASBAK #iklanahokjahat #kampanyeahokjahat\\rHS\\t\"HADUH KELAKUANMU HOK, SOK-SOKAN MENJAGA KEBERAGAMAN PADAHAL PROVOKATOR & RASIS!! #IklanAhokJahat\"\\rHS\\tRT @sarwandi_sr: #IklanAhokJahat bikin darah mendidih. bangsat penuh dengan propaganda. emang lo kira islam radikal ?Kalau kami mau\\rHS\\tKapolda Babi! Biadap dan Bodoh! Gak punya otak kali.\\rHS\\t\"Jangan2 lagi deh @basuki_btp hina islam, anda itu manusia hina dibandingkan agama yang mulia, anda bukan siapa2 & bukan apa2 #IklanAhokJahat\"\\rHS\\tAHOK KAFIR DAN BUDAK2NYA ATAU ANJING2 NYA HANYA SEBAGAI SAMPAH AGAMA ISLAM DAN SAMPAH MASYARAKAT\\rHS\\tumat agama islam dijakarta sangat haram dan sangat najis sekali dengan ahok kafir kristen...\\rHS\\t19 april CNN kibarkan bendera kuning atas kematian ahok-djarot....\\rHS\\titulah akibat ulah orang2 kafir nasrani persis seperti ahok kafir yg melarang jilbab kepada anak2 sekokah di jakarta....\\rHS\\tbaswedan pantas jadi gubernur jakarta dan komisioner KPK..... ahok kafir pantasnya jadi germo di alexis....\\rHS\\t\"RT @yudijannis: #IklanAhokJahat bagaimana klo kita ganyang beneran hok?itu sih maunya elo ya hok,adu domba pribumi dengan tionghoa!!jangan\"\\rHS\\tmasalahnya djarot tidak bisa memikirkan rakyat kecil pribumi bisanya hanya membabu kpd cina2 betul2 songong jongkok.\\rHS\\t\"otak wc otak babi yg menerima ahok kafir & kamu, ahok kafir bkn sekedar menghina sdh anggap islam itu sampah\"\\rHS\\t\"DALAM PUTARAN DUA NANTI JIKA SAMPAI AHOK KAFIR CURANG UMAT ISLAM SUDAH KOMITMEN JAKARTA AKAN DIJADIKAN LAUTAN API, SUDAH TIDAK MIKIR HUKUM\"\\rHS\\t#IKLANAHOKJAHAT AHOK MENCIPTAKAN BARA API ANTARA RAKYAT PRIBUMI DENGAN TIONGHOA YG DIBALUT DENGAN PHOBIA.... AHOK KAFIR RASIS...\\rHS\\tjangan heran pemerintahan jokowi sekarang ini budaknya kulinya cina2 ahok kafir dan 9 naga...\\rHS\\tYa itu namanya cawgub goblok gak ngerti peraturan debat....kelihatan bego dan liciknya itu sandiaga uno.\\rHS\\tBODOH jika para pendukung ahok yg Muslim tidak tersinggung sama sekali ! Tapi bisa aja sih Qur\\'an d hina saja mrka diam #IklanAhokJahat\\rHS\\tGubraaaaak!!!! Malu liatnya... Untung semalem debat ga kaya MATA NAJWA.. Coba kalo formatnya sama pasti Ringsek dah pasangan ASU...\\rHS\\tYG JELAS OTAK AHOK-DJAROT SUDAH SANGAT TUMPUL SANGAT LOYO DAN STRESS..... SUDAH JEBOL HARUS DICOPOT DAN DIGANTI.....\\rHS\\t\"AHOK KAFIR BUKAN HANYA MALING TAPI JUGA GARONG, LAHAN LAUT MILIK NELAYAN DIRAMPOK & DIRAMPAS UNTUK REKLAMASI YG MENGUNTUNGKAN CINA2 KAFIR..\"\\rHS\\tSumpah bego bgt sih kesel gue. Kenapa ada org yg vote makhluk kayak Sandiaga Uno coba. Oh agama\\rHS\\t\"responden2 yangg goblok2 belum faham & juga wartawan beritasatu juga goblok, nanti klo anies-sandy sudah memimpin sangat mudah\"\\rHS\\t\"FPI RENOVASI MASJID ITU SANGAT TEPAT, AHOK KAFIR KRISTEN NGAPAIN NGURUSI MASJID2 APA HUBUNGANNYA.....\"\\rHS\\tMENGAPA ahoker KRISTEN & MUNAFIK tidak berhenti mengolok2 GEREJA stiap hari? Apakah mereka memang dibriefing ahok untuk menghina si BUMI DATAR?\\rHS\\tuma surveynya si Botak yg menangkan Ahok. Karena apa? Karena dia Cina Kristen. Bukti kalo si Botak dukung sesama Cina Kristen\\rHS\\t\"AHOK PEMECAH BELAH UMMAT, AJARAN KRISTEN KONYOL, demi meraup suara muslim, JELAS AHOK INI RASIS, PKI TULEN\"\\rHS\\tWoy @aagym lu udah nonton yang ini? Fitnah? Pale lu peyang gym. https://t.co/U3QhuJpwg\\rHS\\t\"Ahok :memilih pemimpin Berdasarkan agama melanggar konstitusi. Sebaiknya BABI INI DI BUNGKUS aja, CONGORNYAPECAH BELAH UMAT BERAGAMA.\"\\rHS\\t\"Saya pribumi, Kristen dan mendukung Ahok. Tapi saya paling anti dengan manusia2 bodoh dan goblok seperti Steven Hadisurya Sulistyo.\"\\rHS\\t\"Maksudnya terbukti KORUPSI dan PENISTAAN agama nya ya om, Bangsat lo, TAIK LO, maaf gw pake Bahasa Babi Ahok.\"\\rHS\\t\"Ehh TAIK, Bangsat lo, Omongan elo kayak IwAn bopeng, yg MO potong leher TNI, Bangsat lo IwAn bopeng, baek2in TNI. TAIK LO,\"\\rHS\\t\"Ehh anak anjing Ahok, Kelan itu blon siuman, mending emut2 bool basuki lagi aja sana, kasih tau sama Babi yg lain, bool basuki wangi gitu\"\\rHS\\tCWE CAKEP TP BEGO.PANTES GK LAKU.SI AHOK CINA BAU TAI.MAKAN BUBUR ENCER.AHOK FAHAM KOMUNIS.MENISTA ISLAM & KRISTEN\\rHS\\t\"Dan ajeng pasti paham si Babi Ahok klo bicara santun, BANGSAT, TAIK, ANJING, SETAN LO, dngn intonasi yg familiar tuntuna\"\\rHS\\t\"Itu dia, BUNUH AJA YG DIDEPAN MATA, DIA MAFIA KORUPTOR NYA, PENISTA AGAMA PULA, PANGGILAN POPULAR NYA BABI AHOK\"\\rHS\\tGimana dgn Sumber waras.. Trans Jakarta ko jokowi diem ajah.... Harusnya si kutil babi ahok di ganyang\\rHS\\tMuka Si BABi Ahok Tuh Yg Mirip SERBET Lantai....@basuki_btp...\\rHS\\t\"Betul bang hancurkan merka bang, musnahkan china babi dibumi pertiwi indonesia, berkedok reklamasi itu ahok\"\\rHS\\t\"Sapa Yg bilang Ahok anti korupsi!?, klo grombolannyA NGOMONG gtu wajar, AHOK ITU MAFIA KORUPTOR SANG PENISTA AGAMA YG DILINDUNGI ISTANA PKI\"\\rHS\\t\"Gw juga ngimpi SENTILIN BIJI BABI AHOK, pcetar Pcetar, langsung kejang2 die, ngadu ke Jkw, Jkw: makanye sunat dulu, bru NGOMONG Almaidah.\"\\rHS\\tMudah2an gw ketemu sama SI BABI IWAN BOPENG DI TPS nya anjing Ahok'}"
            ]
          },
          "metadata": {
            "tags": []
          },
          "execution_count": 118
        }
      ]
    },
    {
      "cell_type": "code",
      "metadata": {
        "colab": {
          "base_uri": "https://localhost:8080/",
          "height": 415
        },
        "id": "UmwTZHghGM1x",
        "outputId": "0b80908d-7956-410c-c093-56057133f7a7"
      },
      "source": [
        "Df = pd.read_csv(\"IDHSD_RIO_unbalanced_713_2017.txt\",sep=\"\\t\")\n",
        "Df"
      ],
      "execution_count": 119,
      "outputs": [
        {
          "output_type": "execute_result",
          "data": {
            "text/html": [
              "<div>\n",
              "<style scoped>\n",
              "    .dataframe tbody tr th:only-of-type {\n",
              "        vertical-align: middle;\n",
              "    }\n",
              "\n",
              "    .dataframe tbody tr th {\n",
              "        vertical-align: top;\n",
              "    }\n",
              "\n",
              "    .dataframe thead th {\n",
              "        text-align: right;\n",
              "    }\n",
              "</style>\n",
              "<table border=\"1\" class=\"dataframe\">\n",
              "  <thead>\n",
              "    <tr style=\"text-align: right;\">\n",
              "      <th></th>\n",
              "      <th>Label</th>\n",
              "      <th>Tweet</th>\n",
              "    </tr>\n",
              "  </thead>\n",
              "  <tbody>\n",
              "    <tr>\n",
              "      <th>0</th>\n",
              "      <td>Non_HS</td>\n",
              "      <td>RT @spardaxyz: Fadli Zon Minta Mendagri Segera...</td>\n",
              "    </tr>\n",
              "    <tr>\n",
              "      <th>1</th>\n",
              "      <td>Non_HS</td>\n",
              "      <td>RT @baguscondromowo: Mereka terus melukai aksi...</td>\n",
              "    </tr>\n",
              "    <tr>\n",
              "      <th>2</th>\n",
              "      <td>Non_HS</td>\n",
              "      <td>Sylvi: bagaimana gurbernur melakukan kekerasan...</td>\n",
              "    </tr>\n",
              "    <tr>\n",
              "      <th>3</th>\n",
              "      <td>Non_HS</td>\n",
              "      <td>Ahmad Dhani Tak Puas Debat Pilkada, Masalah Ja...</td>\n",
              "    </tr>\n",
              "    <tr>\n",
              "      <th>4</th>\n",
              "      <td>Non_HS</td>\n",
              "      <td>RT @lisdaulay28: Waspada KTP palsu.....kawal P...</td>\n",
              "    </tr>\n",
              "    <tr>\n",
              "      <th>...</th>\n",
              "      <td>...</td>\n",
              "      <td>...</td>\n",
              "    </tr>\n",
              "    <tr>\n",
              "      <th>708</th>\n",
              "      <td>HS</td>\n",
              "      <td>Muka Si BABi Ahok Tuh Yg Mirip SERBET Lantai.....</td>\n",
              "    </tr>\n",
              "    <tr>\n",
              "      <th>709</th>\n",
              "      <td>HS</td>\n",
              "      <td>Betul bang hancurkan merka bang, musnahkan chi...</td>\n",
              "    </tr>\n",
              "    <tr>\n",
              "      <th>710</th>\n",
              "      <td>HS</td>\n",
              "      <td>Sapa Yg bilang Ahok anti korupsi!?, klo grombo...</td>\n",
              "    </tr>\n",
              "    <tr>\n",
              "      <th>711</th>\n",
              "      <td>HS</td>\n",
              "      <td>Gw juga ngimpi SENTILIN BIJI BABI AHOK, pcetar...</td>\n",
              "    </tr>\n",
              "    <tr>\n",
              "      <th>712</th>\n",
              "      <td>HS</td>\n",
              "      <td>Mudah2an gw ketemu sama SI BABI IWAN BOPENG DI...</td>\n",
              "    </tr>\n",
              "  </tbody>\n",
              "</table>\n",
              "<p>713 rows × 2 columns</p>\n",
              "</div>"
            ],
            "text/plain": [
              "      Label                                              Tweet\n",
              "0    Non_HS  RT @spardaxyz: Fadli Zon Minta Mendagri Segera...\n",
              "1    Non_HS  RT @baguscondromowo: Mereka terus melukai aksi...\n",
              "2    Non_HS  Sylvi: bagaimana gurbernur melakukan kekerasan...\n",
              "3    Non_HS  Ahmad Dhani Tak Puas Debat Pilkada, Masalah Ja...\n",
              "4    Non_HS  RT @lisdaulay28: Waspada KTP palsu.....kawal P...\n",
              "..      ...                                                ...\n",
              "708      HS  Muka Si BABi Ahok Tuh Yg Mirip SERBET Lantai.....\n",
              "709      HS  Betul bang hancurkan merka bang, musnahkan chi...\n",
              "710      HS  Sapa Yg bilang Ahok anti korupsi!?, klo grombo...\n",
              "711      HS  Gw juga ngimpi SENTILIN BIJI BABI AHOK, pcetar...\n",
              "712      HS  Mudah2an gw ketemu sama SI BABI IWAN BOPENG DI...\n",
              "\n",
              "[713 rows x 2 columns]"
            ]
          },
          "metadata": {
            "tags": []
          },
          "execution_count": 119
        }
      ]
    },
    {
      "cell_type": "markdown",
      "metadata": {
        "id": "cuCFOpjZZIh6"
      },
      "source": [
        "Replace \"Label\" attribute as shown below.\n",
        "> \n",
        "HS     -> 1 ; Non-HS -> 0\n",
        "\n"
      ]
    },
    {
      "cell_type": "code",
      "metadata": {
        "colab": {
          "base_uri": "https://localhost:8080/",
          "height": 415
        },
        "id": "S_vmzIt5GWyq",
        "outputId": "70847e29-b9a9-4e54-ddbc-7c9b7b3b2386"
      },
      "source": [
        "# Import Module\n",
        "from sklearn.preprocessing import OneHotEncoder\n",
        "\n",
        "# Encoder\n",
        "encoder = OneHotEncoder(sparse=False)\n",
        "\n",
        "# Replace Categotical Data with Encoded Data\n",
        "Df['Label'].replace('HS',1, inplace=True)\n",
        "Df['Label'].replace('Non_HS',0, inplace=True)\n",
        "\n",
        "df_encoded= pd.concat([Df], axis=1)\n",
        "\n",
        "# Show Encoded Dataframe\n",
        "df_encoded"
      ],
      "execution_count": 120,
      "outputs": [
        {
          "output_type": "execute_result",
          "data": {
            "text/html": [
              "<div>\n",
              "<style scoped>\n",
              "    .dataframe tbody tr th:only-of-type {\n",
              "        vertical-align: middle;\n",
              "    }\n",
              "\n",
              "    .dataframe tbody tr th {\n",
              "        vertical-align: top;\n",
              "    }\n",
              "\n",
              "    .dataframe thead th {\n",
              "        text-align: right;\n",
              "    }\n",
              "</style>\n",
              "<table border=\"1\" class=\"dataframe\">\n",
              "  <thead>\n",
              "    <tr style=\"text-align: right;\">\n",
              "      <th></th>\n",
              "      <th>Label</th>\n",
              "      <th>Tweet</th>\n",
              "    </tr>\n",
              "  </thead>\n",
              "  <tbody>\n",
              "    <tr>\n",
              "      <th>0</th>\n",
              "      <td>0</td>\n",
              "      <td>RT @spardaxyz: Fadli Zon Minta Mendagri Segera...</td>\n",
              "    </tr>\n",
              "    <tr>\n",
              "      <th>1</th>\n",
              "      <td>0</td>\n",
              "      <td>RT @baguscondromowo: Mereka terus melukai aksi...</td>\n",
              "    </tr>\n",
              "    <tr>\n",
              "      <th>2</th>\n",
              "      <td>0</td>\n",
              "      <td>Sylvi: bagaimana gurbernur melakukan kekerasan...</td>\n",
              "    </tr>\n",
              "    <tr>\n",
              "      <th>3</th>\n",
              "      <td>0</td>\n",
              "      <td>Ahmad Dhani Tak Puas Debat Pilkada, Masalah Ja...</td>\n",
              "    </tr>\n",
              "    <tr>\n",
              "      <th>4</th>\n",
              "      <td>0</td>\n",
              "      <td>RT @lisdaulay28: Waspada KTP palsu.....kawal P...</td>\n",
              "    </tr>\n",
              "    <tr>\n",
              "      <th>...</th>\n",
              "      <td>...</td>\n",
              "      <td>...</td>\n",
              "    </tr>\n",
              "    <tr>\n",
              "      <th>708</th>\n",
              "      <td>1</td>\n",
              "      <td>Muka Si BABi Ahok Tuh Yg Mirip SERBET Lantai.....</td>\n",
              "    </tr>\n",
              "    <tr>\n",
              "      <th>709</th>\n",
              "      <td>1</td>\n",
              "      <td>Betul bang hancurkan merka bang, musnahkan chi...</td>\n",
              "    </tr>\n",
              "    <tr>\n",
              "      <th>710</th>\n",
              "      <td>1</td>\n",
              "      <td>Sapa Yg bilang Ahok anti korupsi!?, klo grombo...</td>\n",
              "    </tr>\n",
              "    <tr>\n",
              "      <th>711</th>\n",
              "      <td>1</td>\n",
              "      <td>Gw juga ngimpi SENTILIN BIJI BABI AHOK, pcetar...</td>\n",
              "    </tr>\n",
              "    <tr>\n",
              "      <th>712</th>\n",
              "      <td>1</td>\n",
              "      <td>Mudah2an gw ketemu sama SI BABI IWAN BOPENG DI...</td>\n",
              "    </tr>\n",
              "  </tbody>\n",
              "</table>\n",
              "<p>713 rows × 2 columns</p>\n",
              "</div>"
            ],
            "text/plain": [
              "     Label                                              Tweet\n",
              "0        0  RT @spardaxyz: Fadli Zon Minta Mendagri Segera...\n",
              "1        0  RT @baguscondromowo: Mereka terus melukai aksi...\n",
              "2        0  Sylvi: bagaimana gurbernur melakukan kekerasan...\n",
              "3        0  Ahmad Dhani Tak Puas Debat Pilkada, Masalah Ja...\n",
              "4        0  RT @lisdaulay28: Waspada KTP palsu.....kawal P...\n",
              "..     ...                                                ...\n",
              "708      1  Muka Si BABi Ahok Tuh Yg Mirip SERBET Lantai.....\n",
              "709      1  Betul bang hancurkan merka bang, musnahkan chi...\n",
              "710      1  Sapa Yg bilang Ahok anti korupsi!?, klo grombo...\n",
              "711      1  Gw juga ngimpi SENTILIN BIJI BABI AHOK, pcetar...\n",
              "712      1  Mudah2an gw ketemu sama SI BABI IWAN BOPENG DI...\n",
              "\n",
              "[713 rows x 2 columns]"
            ]
          },
          "metadata": {
            "tags": []
          },
          "execution_count": 120
        }
      ]
    },
    {
      "cell_type": "code",
      "metadata": {
        "colab": {
          "base_uri": "https://localhost:8080/"
        },
        "id": "ERXkkjmvGdtF",
        "outputId": "dbf8858f-8853-4c2c-c4c6-8a4f70d0d238"
      },
      "source": [
        "count = Df['Label'].value_counts()\n",
        "print(count)"
      ],
      "execution_count": 121,
      "outputs": [
        {
          "output_type": "stream",
          "text": [
            "0    453\n",
            "1    260\n",
            "Name: Label, dtype: int64\n"
          ],
          "name": "stdout"
        }
      ]
    },
    {
      "cell_type": "markdown",
      "metadata": {
        "id": "f14ZjSdBZSkd"
      },
      "source": [
        "From the output as shown above we can see that the number of hate speech tweets is 260 and the number of Non-Hate Speech is 453."
      ]
    },
    {
      "cell_type": "code",
      "metadata": {
        "colab": {
          "base_uri": "https://localhost:8080/"
        },
        "id": "h83O7LGPGijW",
        "outputId": "a570ea65-74ef-4419-f076-7b93268736ef"
      },
      "source": [
        "# Adding text-length as a field in the dataset\n",
        "Df['text length'] = Df['Tweet'].apply(len)\n",
        "print(Df.head())"
      ],
      "execution_count": 122,
      "outputs": [
        {
          "output_type": "stream",
          "text": [
            "   Label                                              Tweet  text length\n",
            "0      0  RT @spardaxyz: Fadli Zon Minta Mendagri Segera...          110\n",
            "1      0  RT @baguscondromowo: Mereka terus melukai aksi...          108\n",
            "2      0  Sylvi: bagaimana gurbernur melakukan kekerasan...          116\n",
            "3      0  Ahmad Dhani Tak Puas Debat Pilkada, Masalah Ja...          115\n",
            "4      0  RT @lisdaulay28: Waspada KTP palsu.....kawal P...           79\n"
          ],
          "name": "stdout"
        }
      ]
    },
    {
      "cell_type": "markdown",
      "metadata": {
        "id": "hR9sUs9bZXhL"
      },
      "source": [
        "**Check Missing Values**\n",
        "\n",
        "Before processing the data, make sure that there are no missing values ​​in the dataset."
      ]
    },
    {
      "cell_type": "code",
      "metadata": {
        "colab": {
          "base_uri": "https://localhost:8080/"
        },
        "id": "9FruI7_fGoa2",
        "outputId": "7a4198c2-168c-48dd-bd8b-d5fe9dab420f"
      },
      "source": [
        "Df.isnull().sum()"
      ],
      "execution_count": 123,
      "outputs": [
        {
          "output_type": "execute_result",
          "data": {
            "text/plain": [
              "Label          0\n",
              "Tweet          0\n",
              "text length    0\n",
              "dtype: int64"
            ]
          },
          "metadata": {
            "tags": []
          },
          "execution_count": 123
        }
      ]
    },
    {
      "cell_type": "code",
      "metadata": {
        "colab": {
          "base_uri": "https://localhost:8080/",
          "height": 415
        },
        "id": "KouUjkXKGtOm",
        "outputId": "28cd8a7f-15fa-4208-eb39-2529f2d80f05"
      },
      "source": [
        "#Finding words with # attached to it\n",
        "Df['#'] = Df['Tweet'].apply(lambda x : ' '.join([word for word in x.split() if word.startswith('#')]))\n",
        "Df"
      ],
      "execution_count": 124,
      "outputs": [
        {
          "output_type": "execute_result",
          "data": {
            "text/html": [
              "<div>\n",
              "<style scoped>\n",
              "    .dataframe tbody tr th:only-of-type {\n",
              "        vertical-align: middle;\n",
              "    }\n",
              "\n",
              "    .dataframe tbody tr th {\n",
              "        vertical-align: top;\n",
              "    }\n",
              "\n",
              "    .dataframe thead th {\n",
              "        text-align: right;\n",
              "    }\n",
              "</style>\n",
              "<table border=\"1\" class=\"dataframe\">\n",
              "  <thead>\n",
              "    <tr style=\"text-align: right;\">\n",
              "      <th></th>\n",
              "      <th>Label</th>\n",
              "      <th>Tweet</th>\n",
              "      <th>text length</th>\n",
              "      <th>#</th>\n",
              "    </tr>\n",
              "  </thead>\n",
              "  <tbody>\n",
              "    <tr>\n",
              "      <th>0</th>\n",
              "      <td>0</td>\n",
              "      <td>RT @spardaxyz: Fadli Zon Minta Mendagri Segera...</td>\n",
              "      <td>110</td>\n",
              "      <td></td>\n",
              "    </tr>\n",
              "    <tr>\n",
              "      <th>1</th>\n",
              "      <td>0</td>\n",
              "      <td>RT @baguscondromowo: Mereka terus melukai aksi...</td>\n",
              "      <td>108</td>\n",
              "      <td></td>\n",
              "    </tr>\n",
              "    <tr>\n",
              "      <th>2</th>\n",
              "      <td>0</td>\n",
              "      <td>Sylvi: bagaimana gurbernur melakukan kekerasan...</td>\n",
              "      <td>116</td>\n",
              "      <td>#DebatFinalPilkadaJKT</td>\n",
              "    </tr>\n",
              "    <tr>\n",
              "      <th>3</th>\n",
              "      <td>0</td>\n",
              "      <td>Ahmad Dhani Tak Puas Debat Pilkada, Masalah Ja...</td>\n",
              "      <td>115</td>\n",
              "      <td></td>\n",
              "    </tr>\n",
              "    <tr>\n",
              "      <th>4</th>\n",
              "      <td>0</td>\n",
              "      <td>RT @lisdaulay28: Waspada KTP palsu.....kawal P...</td>\n",
              "      <td>79</td>\n",
              "      <td></td>\n",
              "    </tr>\n",
              "    <tr>\n",
              "      <th>...</th>\n",
              "      <td>...</td>\n",
              "      <td>...</td>\n",
              "      <td>...</td>\n",
              "      <td>...</td>\n",
              "    </tr>\n",
              "    <tr>\n",
              "      <th>708</th>\n",
              "      <td>1</td>\n",
              "      <td>Muka Si BABi Ahok Tuh Yg Mirip SERBET Lantai.....</td>\n",
              "      <td>62</td>\n",
              "      <td></td>\n",
              "    </tr>\n",
              "    <tr>\n",
              "      <th>709</th>\n",
              "      <td>1</td>\n",
              "      <td>Betul bang hancurkan merka bang, musnahkan chi...</td>\n",
              "      <td>107</td>\n",
              "      <td></td>\n",
              "    </tr>\n",
              "    <tr>\n",
              "      <th>710</th>\n",
              "      <td>1</td>\n",
              "      <td>Sapa Yg bilang Ahok anti korupsi!?, klo grombo...</td>\n",
              "      <td>139</td>\n",
              "      <td></td>\n",
              "    </tr>\n",
              "    <tr>\n",
              "      <th>711</th>\n",
              "      <td>1</td>\n",
              "      <td>Gw juga ngimpi SENTILIN BIJI BABI AHOK, pcetar...</td>\n",
              "      <td>137</td>\n",
              "      <td></td>\n",
              "    </tr>\n",
              "    <tr>\n",
              "      <th>712</th>\n",
              "      <td>1</td>\n",
              "      <td>Mudah2an gw ketemu sama SI BABI IWAN BOPENG DI...</td>\n",
              "      <td>66</td>\n",
              "      <td></td>\n",
              "    </tr>\n",
              "  </tbody>\n",
              "</table>\n",
              "<p>713 rows × 4 columns</p>\n",
              "</div>"
            ],
            "text/plain": [
              "     Label  ...                      #\n",
              "0        0  ...                       \n",
              "1        0  ...                       \n",
              "2        0  ...  #DebatFinalPilkadaJKT\n",
              "3        0  ...                       \n",
              "4        0  ...                       \n",
              "..     ...  ...                    ...\n",
              "708      1  ...                       \n",
              "709      1  ...                       \n",
              "710      1  ...                       \n",
              "711      1  ...                       \n",
              "712      1  ...                       \n",
              "\n",
              "[713 rows x 4 columns]"
            ]
          },
          "metadata": {
            "tags": []
          },
          "execution_count": 124
        }
      ]
    },
    {
      "cell_type": "markdown",
      "metadata": {
        "id": "0O-eGA4PbJEq"
      },
      "source": [
        "Column showing whether the corresponding tweet has a hash tagged word or not"
      ]
    },
    {
      "cell_type": "code",
      "metadata": {
        "colab": {
          "base_uri": "https://localhost:8080/",
          "height": 415
        },
        "id": "2-DVgyAwH0Fo",
        "outputId": "3776e62d-4439-42f4-a697-7da02ecc4942"
      },
      "source": [
        "frame = Df['#']\n",
        "frame = pd.DataFrame(frame)\n",
        "frame = frame.rename({'#':'Count(#)'},axis = 'columns')\n",
        "frame[frame['Count(#)'] == ''] = 'No hashtags'\n",
        "\n",
        "data_frame = pd.concat([Df,frame],axis = 1)\n",
        "data_frame.drop('#',axis = 1,inplace = True)\n",
        "data_frame.head(10)\n",
        "\n",
        "data_frame = data_frame.rename({'Count(#)':'Hash words'},axis = 'columns')\n",
        "data_frame"
      ],
      "execution_count": 125,
      "outputs": [
        {
          "output_type": "execute_result",
          "data": {
            "text/html": [
              "<div>\n",
              "<style scoped>\n",
              "    .dataframe tbody tr th:only-of-type {\n",
              "        vertical-align: middle;\n",
              "    }\n",
              "\n",
              "    .dataframe tbody tr th {\n",
              "        vertical-align: top;\n",
              "    }\n",
              "\n",
              "    .dataframe thead th {\n",
              "        text-align: right;\n",
              "    }\n",
              "</style>\n",
              "<table border=\"1\" class=\"dataframe\">\n",
              "  <thead>\n",
              "    <tr style=\"text-align: right;\">\n",
              "      <th></th>\n",
              "      <th>Label</th>\n",
              "      <th>Tweet</th>\n",
              "      <th>text length</th>\n",
              "      <th>Hash words</th>\n",
              "    </tr>\n",
              "  </thead>\n",
              "  <tbody>\n",
              "    <tr>\n",
              "      <th>0</th>\n",
              "      <td>0</td>\n",
              "      <td>RT @spardaxyz: Fadli Zon Minta Mendagri Segera...</td>\n",
              "      <td>110</td>\n",
              "      <td>No hashtags</td>\n",
              "    </tr>\n",
              "    <tr>\n",
              "      <th>1</th>\n",
              "      <td>0</td>\n",
              "      <td>RT @baguscondromowo: Mereka terus melukai aksi...</td>\n",
              "      <td>108</td>\n",
              "      <td>No hashtags</td>\n",
              "    </tr>\n",
              "    <tr>\n",
              "      <th>2</th>\n",
              "      <td>0</td>\n",
              "      <td>Sylvi: bagaimana gurbernur melakukan kekerasan...</td>\n",
              "      <td>116</td>\n",
              "      <td>#DebatFinalPilkadaJKT</td>\n",
              "    </tr>\n",
              "    <tr>\n",
              "      <th>3</th>\n",
              "      <td>0</td>\n",
              "      <td>Ahmad Dhani Tak Puas Debat Pilkada, Masalah Ja...</td>\n",
              "      <td>115</td>\n",
              "      <td>No hashtags</td>\n",
              "    </tr>\n",
              "    <tr>\n",
              "      <th>4</th>\n",
              "      <td>0</td>\n",
              "      <td>RT @lisdaulay28: Waspada KTP palsu.....kawal P...</td>\n",
              "      <td>79</td>\n",
              "      <td>No hashtags</td>\n",
              "    </tr>\n",
              "    <tr>\n",
              "      <th>...</th>\n",
              "      <td>...</td>\n",
              "      <td>...</td>\n",
              "      <td>...</td>\n",
              "      <td>...</td>\n",
              "    </tr>\n",
              "    <tr>\n",
              "      <th>708</th>\n",
              "      <td>1</td>\n",
              "      <td>Muka Si BABi Ahok Tuh Yg Mirip SERBET Lantai.....</td>\n",
              "      <td>62</td>\n",
              "      <td>No hashtags</td>\n",
              "    </tr>\n",
              "    <tr>\n",
              "      <th>709</th>\n",
              "      <td>1</td>\n",
              "      <td>Betul bang hancurkan merka bang, musnahkan chi...</td>\n",
              "      <td>107</td>\n",
              "      <td>No hashtags</td>\n",
              "    </tr>\n",
              "    <tr>\n",
              "      <th>710</th>\n",
              "      <td>1</td>\n",
              "      <td>Sapa Yg bilang Ahok anti korupsi!?, klo grombo...</td>\n",
              "      <td>139</td>\n",
              "      <td>No hashtags</td>\n",
              "    </tr>\n",
              "    <tr>\n",
              "      <th>711</th>\n",
              "      <td>1</td>\n",
              "      <td>Gw juga ngimpi SENTILIN BIJI BABI AHOK, pcetar...</td>\n",
              "      <td>137</td>\n",
              "      <td>No hashtags</td>\n",
              "    </tr>\n",
              "    <tr>\n",
              "      <th>712</th>\n",
              "      <td>1</td>\n",
              "      <td>Mudah2an gw ketemu sama SI BABI IWAN BOPENG DI...</td>\n",
              "      <td>66</td>\n",
              "      <td>No hashtags</td>\n",
              "    </tr>\n",
              "  </tbody>\n",
              "</table>\n",
              "<p>713 rows × 4 columns</p>\n",
              "</div>"
            ],
            "text/plain": [
              "     Label  ...             Hash words\n",
              "0        0  ...            No hashtags\n",
              "1        0  ...            No hashtags\n",
              "2        0  ...  #DebatFinalPilkadaJKT\n",
              "3        0  ...            No hashtags\n",
              "4        0  ...            No hashtags\n",
              "..     ...  ...                    ...\n",
              "708      1  ...            No hashtags\n",
              "709      1  ...            No hashtags\n",
              "710      1  ...            No hashtags\n",
              "711      1  ...            No hashtags\n",
              "712      1  ...            No hashtags\n",
              "\n",
              "[713 rows x 4 columns]"
            ]
          },
          "metadata": {
            "tags": []
          },
          "execution_count": 125
        }
      ]
    },
    {
      "cell_type": "code",
      "metadata": {
        "id": "7Zx867qFIuZ1"
      },
      "source": [
        "# collecting only the tweets from the txt file into a variable name tweet\n",
        "tweet=Df.Tweet"
      ],
      "execution_count": 126,
      "outputs": []
    },
    {
      "cell_type": "code",
      "metadata": {
        "colab": {
          "base_uri": "https://localhost:8080/"
        },
        "id": "laT1bBi6Izvu",
        "outputId": "c5ae7f67-c87c-443c-adfe-3c4cb2e160af"
      },
      "source": [
        "import nltk\n",
        "nltk.download('stopwords')\n",
        "import nltk\n",
        "nltk.download('wordnet')\n",
        "import nltk\n",
        "nltk.download('punkt')"
      ],
      "execution_count": 127,
      "outputs": [
        {
          "output_type": "stream",
          "text": [
            "[nltk_data] Downloading package stopwords to /root/nltk_data...\n",
            "[nltk_data]   Package stopwords is already up-to-date!\n",
            "[nltk_data] Downloading package wordnet to /root/nltk_data...\n",
            "[nltk_data]   Package wordnet is already up-to-date!\n",
            "[nltk_data] Downloading package punkt to /root/nltk_data...\n",
            "[nltk_data]   Package punkt is already up-to-date!\n"
          ],
          "name": "stdout"
        },
        {
          "output_type": "execute_result",
          "data": {
            "text/plain": [
              "True"
            ]
          },
          "metadata": {
            "tags": []
          },
          "execution_count": 127
        }
      ]
    },
    {
      "cell_type": "markdown",
      "metadata": {
        "id": "UY0eskwXbVHQ"
      },
      "source": [
        "**Text Cleaning**\n",
        "\n",
        "We will remove exstra spaces, @username, links, punctuations and numbers, whitespace with a single space, leading and trailing whitespace and removal capitalization."
      ]
    },
    {
      "cell_type": "code",
      "metadata": {
        "colab": {
          "base_uri": "https://localhost:8080/"
        },
        "id": "0VlKj4q4I7GE",
        "outputId": "4627bd18-87a8-4c46-b751-c1bc0d293f8c"
      },
      "source": [
        "import re\n",
        "\n",
        "def preprocess(tweet):  \n",
        "    \n",
        "    # removal of extra spaces\n",
        "    regex_pat = re.compile(r'\\s+')\n",
        "    tweet_space = tweet.str.replace(regex_pat, ' ')\n",
        "\n",
        "    # removal of @name[mention]\n",
        "    regex_pat = re.compile(r'@[\\w\\-]+')\n",
        "    tweet_name = tweet_space.str.replace(regex_pat, '')\n",
        "\n",
        "    # removal of links[https://abc.com]\n",
        "    giant_url_regex =  re.compile('http[s]?://(?:[a-zA-Z]|[0-9]|[$-_@.&+]|'\n",
        "            '[!*\\(\\),]|(?:%[0-9a-fA-F][0-9a-fA-F]))+')\n",
        "    tweets = tweet_name.str.replace(giant_url_regex, '')\n",
        "    \n",
        "    # removal of punctuations and numbers\n",
        "    punc_remove = tweets.str.replace(\"[^a-zA-Z]\", \" \")\n",
        "\n",
        "    # remove whitespace with a single space\n",
        "    newtweet=punc_remove.str.replace(r'\\s+', ' ')\n",
        "\n",
        "    # remove leading and trailing whitespace\n",
        "    newtweet=newtweet.str.replace(r'^\\s+|\\s+?$','')\n",
        "\n",
        "    # replace normal numbers with numbr\n",
        "    newtweet=newtweet.str.replace(r'\\d+(\\.\\d+)?','numbr')\n",
        "\n",
        "    # removal of capitalization\n",
        "    tweet_lower = newtweet.str.lower()\n",
        "\n",
        "    New_tweet = tweet_lower.apply(lambda x: x.split())\n",
        "    \n",
        "    for i in range(len(New_tweet)):\n",
        "        New_tweet[i] = ' '.join(New_tweet[i])\n",
        "        tweets_p= New_tweet\n",
        "    \n",
        "    return tweets_p\n",
        "\n",
        "processed_tweets = preprocess(tweet)\n",
        "\n",
        "Df['processed_tweets'] = processed_tweets\n",
        "print(Df[[\"Tweet\",\"processed_tweets\"]].head(10))"
      ],
      "execution_count": 128,
      "outputs": [
        {
          "output_type": "stream",
          "text": [
            "                                               Tweet                                   processed_tweets\n",
            "0  RT @spardaxyz: Fadli Zon Minta Mendagri Segera...  rt fadli zon minta mendagri segera menonaktifk...\n",
            "1  RT @baguscondromowo: Mereka terus melukai aksi...  rt mereka terus melukai aksi dalam rangka meme...\n",
            "2  Sylvi: bagaimana gurbernur melakukan kekerasan...  sylvi bagaimana gurbernur melakukan kekerasan ...\n",
            "3  Ahmad Dhani Tak Puas Debat Pilkada, Masalah Ja...  ahmad dhani tak puas debat pilkada masalah jal...\n",
            "4  RT @lisdaulay28: Waspada KTP palsu.....kawal P...  rt waspada ktp palsu kawal pilkada https t co ...\n",
            "5  @felixsiauw masih bnyak hal agamis yg bisa dib...  masih bnyak hal agamis yg bisa dibahas kenapa ...\n",
            "6  @saidaqil apa maksud pernyataan. Anda? Apa and...  apa maksud pernyataan anda apa anda mengaminka...\n",
            "7  Ahok Akan Integrasikan Transportasi Publik den...  ahok akan integrasikan transportasi publik den...\n",
            "8  Ahok mampu melawan korupsi di ibukota, bangun ...  ahok mampu melawan korupsi di ibukota bangun i...\n",
            "9  Awasi Kecurangan Pilkada, Agus - Sylvi Pakai A...  awasi kecurangan pilkada agus sylvi pakai apli...\n"
          ],
          "name": "stdout"
        }
      ]
    },
    {
      "cell_type": "markdown",
      "metadata": {
        "id": "t3yTTdAbcR3P"
      },
      "source": [
        "**Tokenization**"
      ]
    },
    {
      "cell_type": "code",
      "metadata": {
        "colab": {
          "base_uri": "https://localhost:8080/",
          "height": 306
        },
        "id": "MLfZbkXBJpqp",
        "outputId": "bed80954-cff7-4002-84c8-381c07502ec9"
      },
      "source": [
        "from nltk.tokenize import RegexpTokenizer\n",
        "\n",
        "def tokenizeWords(s, remove_punctuation=True):\n",
        "    if remove_punctuation == True:\n",
        "        tokenizer = RegexpTokenizer('\\w+|\\$[\\d\\.]+|\\S+')\n",
        "        clean_words = tokenizer.tokenize(s)\n",
        "    else:\n",
        "        clean_words = nltk.word_tokenize(s)\n",
        "    return clean_words\n",
        "\n",
        "Df['tweet_token'] = Df['processed_tweets'].apply(tokenizeWords)\n",
        "Df.head()"
      ],
      "execution_count": 129,
      "outputs": [
        {
          "output_type": "execute_result",
          "data": {
            "text/html": [
              "<div>\n",
              "<style scoped>\n",
              "    .dataframe tbody tr th:only-of-type {\n",
              "        vertical-align: middle;\n",
              "    }\n",
              "\n",
              "    .dataframe tbody tr th {\n",
              "        vertical-align: top;\n",
              "    }\n",
              "\n",
              "    .dataframe thead th {\n",
              "        text-align: right;\n",
              "    }\n",
              "</style>\n",
              "<table border=\"1\" class=\"dataframe\">\n",
              "  <thead>\n",
              "    <tr style=\"text-align: right;\">\n",
              "      <th></th>\n",
              "      <th>Label</th>\n",
              "      <th>Tweet</th>\n",
              "      <th>text length</th>\n",
              "      <th>#</th>\n",
              "      <th>processed_tweets</th>\n",
              "      <th>tweet_token</th>\n",
              "    </tr>\n",
              "  </thead>\n",
              "  <tbody>\n",
              "    <tr>\n",
              "      <th>0</th>\n",
              "      <td>0</td>\n",
              "      <td>RT @spardaxyz: Fadli Zon Minta Mendagri Segera...</td>\n",
              "      <td>110</td>\n",
              "      <td></td>\n",
              "      <td>rt fadli zon minta mendagri segera menonaktifk...</td>\n",
              "      <td>[rt, fadli, zon, minta, mendagri, segera, meno...</td>\n",
              "    </tr>\n",
              "    <tr>\n",
              "      <th>1</th>\n",
              "      <td>0</td>\n",
              "      <td>RT @baguscondromowo: Mereka terus melukai aksi...</td>\n",
              "      <td>108</td>\n",
              "      <td></td>\n",
              "      <td>rt mereka terus melukai aksi dalam rangka meme...</td>\n",
              "      <td>[rt, mereka, terus, melukai, aksi, dalam, rang...</td>\n",
              "    </tr>\n",
              "    <tr>\n",
              "      <th>2</th>\n",
              "      <td>0</td>\n",
              "      <td>Sylvi: bagaimana gurbernur melakukan kekerasan...</td>\n",
              "      <td>116</td>\n",
              "      <td>#DebatFinalPilkadaJKT</td>\n",
              "      <td>sylvi bagaimana gurbernur melakukan kekerasan ...</td>\n",
              "      <td>[sylvi, bagaimana, gurbernur, melakukan, keker...</td>\n",
              "    </tr>\n",
              "    <tr>\n",
              "      <th>3</th>\n",
              "      <td>0</td>\n",
              "      <td>Ahmad Dhani Tak Puas Debat Pilkada, Masalah Ja...</td>\n",
              "      <td>115</td>\n",
              "      <td></td>\n",
              "      <td>ahmad dhani tak puas debat pilkada masalah jal...</td>\n",
              "      <td>[ahmad, dhani, tak, puas, debat, pilkada, masa...</td>\n",
              "    </tr>\n",
              "    <tr>\n",
              "      <th>4</th>\n",
              "      <td>0</td>\n",
              "      <td>RT @lisdaulay28: Waspada KTP palsu.....kawal P...</td>\n",
              "      <td>79</td>\n",
              "      <td></td>\n",
              "      <td>rt waspada ktp palsu kawal pilkada https t co ...</td>\n",
              "      <td>[rt, waspada, ktp, palsu, kawal, pilkada, http...</td>\n",
              "    </tr>\n",
              "  </tbody>\n",
              "</table>\n",
              "</div>"
            ],
            "text/plain": [
              "   Label  ...                                        tweet_token\n",
              "0      0  ...  [rt, fadli, zon, minta, mendagri, segera, meno...\n",
              "1      0  ...  [rt, mereka, terus, melukai, aksi, dalam, rang...\n",
              "2      0  ...  [sylvi, bagaimana, gurbernur, melakukan, keker...\n",
              "3      0  ...  [ahmad, dhani, tak, puas, debat, pilkada, masa...\n",
              "4      0  ...  [rt, waspada, ktp, palsu, kawal, pilkada, http...\n",
              "\n",
              "[5 rows x 6 columns]"
            ]
          },
          "metadata": {
            "tags": []
          },
          "execution_count": 129
        }
      ]
    },
    {
      "cell_type": "markdown",
      "metadata": {
        "id": "s_238VP3cZgC"
      },
      "source": [
        "**Stemming**"
      ]
    },
    {
      "cell_type": "code",
      "metadata": {
        "colab": {
          "base_uri": "https://localhost:8080/",
          "height": 323
        },
        "id": "4AgjmYvpJwNH",
        "outputId": "39497b3e-dc51-4893-b4ca-a8ac3755a995"
      },
      "source": [
        "!pip install Sastrawi\n",
        "from Sastrawi.Stemmer.StemmerFactory import StemmerFactory\n",
        "\n",
        "factory = StemmerFactory()\n",
        "stemmer = factory.create_stemmer()\n",
        "Df['tweet_stem'] = Df['tweet_token'].apply(lambda x: [stemmer.stem(y) for y in x])\n",
        "Df.head()"
      ],
      "execution_count": 130,
      "outputs": [
        {
          "output_type": "stream",
          "text": [
            "Requirement already satisfied: Sastrawi in /usr/local/lib/python3.6/dist-packages (1.0.1)\n"
          ],
          "name": "stdout"
        },
        {
          "output_type": "execute_result",
          "data": {
            "text/html": [
              "<div>\n",
              "<style scoped>\n",
              "    .dataframe tbody tr th:only-of-type {\n",
              "        vertical-align: middle;\n",
              "    }\n",
              "\n",
              "    .dataframe tbody tr th {\n",
              "        vertical-align: top;\n",
              "    }\n",
              "\n",
              "    .dataframe thead th {\n",
              "        text-align: right;\n",
              "    }\n",
              "</style>\n",
              "<table border=\"1\" class=\"dataframe\">\n",
              "  <thead>\n",
              "    <tr style=\"text-align: right;\">\n",
              "      <th></th>\n",
              "      <th>Label</th>\n",
              "      <th>Tweet</th>\n",
              "      <th>text length</th>\n",
              "      <th>#</th>\n",
              "      <th>processed_tweets</th>\n",
              "      <th>tweet_token</th>\n",
              "      <th>tweet_stem</th>\n",
              "    </tr>\n",
              "  </thead>\n",
              "  <tbody>\n",
              "    <tr>\n",
              "      <th>0</th>\n",
              "      <td>0</td>\n",
              "      <td>RT @spardaxyz: Fadli Zon Minta Mendagri Segera...</td>\n",
              "      <td>110</td>\n",
              "      <td></td>\n",
              "      <td>rt fadli zon minta mendagri segera menonaktifk...</td>\n",
              "      <td>[rt, fadli, zon, minta, mendagri, segera, meno...</td>\n",
              "      <td>[rt, fadli, zon, minta, mendagri, segera, nona...</td>\n",
              "    </tr>\n",
              "    <tr>\n",
              "      <th>1</th>\n",
              "      <td>0</td>\n",
              "      <td>RT @baguscondromowo: Mereka terus melukai aksi...</td>\n",
              "      <td>108</td>\n",
              "      <td></td>\n",
              "      <td>rt mereka terus melukai aksi dalam rangka meme...</td>\n",
              "      <td>[rt, mereka, terus, melukai, aksi, dalam, rang...</td>\n",
              "      <td>[rt, mereka, terus, luka, aksi, dalam, rangka,...</td>\n",
              "    </tr>\n",
              "    <tr>\n",
              "      <th>2</th>\n",
              "      <td>0</td>\n",
              "      <td>Sylvi: bagaimana gurbernur melakukan kekerasan...</td>\n",
              "      <td>116</td>\n",
              "      <td>#DebatFinalPilkadaJKT</td>\n",
              "      <td>sylvi bagaimana gurbernur melakukan kekerasan ...</td>\n",
              "      <td>[sylvi, bagaimana, gurbernur, melakukan, keker...</td>\n",
              "      <td>[sylvi, bagaimana, gurbernur, laku, keras, per...</td>\n",
              "    </tr>\n",
              "    <tr>\n",
              "      <th>3</th>\n",
              "      <td>0</td>\n",
              "      <td>Ahmad Dhani Tak Puas Debat Pilkada, Masalah Ja...</td>\n",
              "      <td>115</td>\n",
              "      <td></td>\n",
              "      <td>ahmad dhani tak puas debat pilkada masalah jal...</td>\n",
              "      <td>[ahmad, dhani, tak, puas, debat, pilkada, masa...</td>\n",
              "      <td>[ahmad, dhani, tak, puas, debat, pilkada, masa...</td>\n",
              "    </tr>\n",
              "    <tr>\n",
              "      <th>4</th>\n",
              "      <td>0</td>\n",
              "      <td>RT @lisdaulay28: Waspada KTP palsu.....kawal P...</td>\n",
              "      <td>79</td>\n",
              "      <td></td>\n",
              "      <td>rt waspada ktp palsu kawal pilkada https t co ...</td>\n",
              "      <td>[rt, waspada, ktp, palsu, kawal, pilkada, http...</td>\n",
              "      <td>[rt, waspada, ktp, palsu, kawal, pilkada, http...</td>\n",
              "    </tr>\n",
              "  </tbody>\n",
              "</table>\n",
              "</div>"
            ],
            "text/plain": [
              "   Label  ...                                         tweet_stem\n",
              "0      0  ...  [rt, fadli, zon, minta, mendagri, segera, nona...\n",
              "1      0  ...  [rt, mereka, terus, luka, aksi, dalam, rangka,...\n",
              "2      0  ...  [sylvi, bagaimana, gurbernur, laku, keras, per...\n",
              "3      0  ...  [ahmad, dhani, tak, puas, debat, pilkada, masa...\n",
              "4      0  ...  [rt, waspada, ktp, palsu, kawal, pilkada, http...\n",
              "\n",
              "[5 rows x 7 columns]"
            ]
          },
          "metadata": {
            "tags": []
          },
          "execution_count": 130
        }
      ]
    },
    {
      "cell_type": "markdown",
      "metadata": {
        "id": "wcA-x_8ockE3"
      },
      "source": [
        "**Removing stopwords**"
      ]
    },
    {
      "cell_type": "code",
      "metadata": {
        "colab": {
          "base_uri": "https://localhost:8080/",
          "height": 393
        },
        "id": "554SwsuUK7iO",
        "outputId": "7fd9cfa2-fb81-4a17-830f-24d70e6022ba"
      },
      "source": [
        "stopwords = nltk.corpus.stopwords.words(\"indonesian\")\n",
        "\n",
        "#Extending the stopwords to include other words used in twitter such as retweet(rt) etc.\n",
        "other_exclusions = ['rt','dalam','atau','di','yg','ke','terus','apa','jg','dg','dengan','dan','gak','ga','aku','kamu','noh','aja','pdh','kan','deh','para','jadi','nya','dong','lho']\n",
        "stopwords.extend(other_exclusions)\n",
        "\n",
        "#Removing stopwords\n",
        "Df['tweet_stop'] = Df['tweet_stem'].apply(lambda x: [item for item in x if item not in stopwords])\n",
        "Df.head()\n"
      ],
      "execution_count": 131,
      "outputs": [
        {
          "output_type": "execute_result",
          "data": {
            "text/html": [
              "<div>\n",
              "<style scoped>\n",
              "    .dataframe tbody tr th:only-of-type {\n",
              "        vertical-align: middle;\n",
              "    }\n",
              "\n",
              "    .dataframe tbody tr th {\n",
              "        vertical-align: top;\n",
              "    }\n",
              "\n",
              "    .dataframe thead th {\n",
              "        text-align: right;\n",
              "    }\n",
              "</style>\n",
              "<table border=\"1\" class=\"dataframe\">\n",
              "  <thead>\n",
              "    <tr style=\"text-align: right;\">\n",
              "      <th></th>\n",
              "      <th>Label</th>\n",
              "      <th>Tweet</th>\n",
              "      <th>text length</th>\n",
              "      <th>#</th>\n",
              "      <th>processed_tweets</th>\n",
              "      <th>tweet_token</th>\n",
              "      <th>tweet_stem</th>\n",
              "      <th>tweet_stop</th>\n",
              "    </tr>\n",
              "  </thead>\n",
              "  <tbody>\n",
              "    <tr>\n",
              "      <th>0</th>\n",
              "      <td>0</td>\n",
              "      <td>RT @spardaxyz: Fadli Zon Minta Mendagri Segera...</td>\n",
              "      <td>110</td>\n",
              "      <td></td>\n",
              "      <td>rt fadli zon minta mendagri segera menonaktifk...</td>\n",
              "      <td>[rt, fadli, zon, minta, mendagri, segera, meno...</td>\n",
              "      <td>[rt, fadli, zon, minta, mendagri, segera, nona...</td>\n",
              "      <td>[fadli, zon, mendagri, nonaktif, ahok, gubernu...</td>\n",
              "    </tr>\n",
              "    <tr>\n",
              "      <th>1</th>\n",
              "      <td>0</td>\n",
              "      <td>RT @baguscondromowo: Mereka terus melukai aksi...</td>\n",
              "      <td>108</td>\n",
              "      <td></td>\n",
              "      <td>rt mereka terus melukai aksi dalam rangka meme...</td>\n",
              "      <td>[rt, mereka, terus, melukai, aksi, dalam, rang...</td>\n",
              "      <td>[rt, mereka, terus, luka, aksi, dalam, rangka,...</td>\n",
              "      <td>[luka, aksi, rangka, penjara, ahok, ahok, gaga...</td>\n",
              "    </tr>\n",
              "    <tr>\n",
              "      <th>2</th>\n",
              "      <td>0</td>\n",
              "      <td>Sylvi: bagaimana gurbernur melakukan kekerasan...</td>\n",
              "      <td>116</td>\n",
              "      <td>#DebatFinalPilkadaJKT</td>\n",
              "      <td>sylvi bagaimana gurbernur melakukan kekerasan ...</td>\n",
              "      <td>[sylvi, bagaimana, gurbernur, melakukan, keker...</td>\n",
              "      <td>[sylvi, bagaimana, gurbernur, laku, keras, per...</td>\n",
              "      <td>[sylvi, gurbernur, laku, keras, perempuan, buk...</td>\n",
              "    </tr>\n",
              "    <tr>\n",
              "      <th>3</th>\n",
              "      <td>0</td>\n",
              "      <td>Ahmad Dhani Tak Puas Debat Pilkada, Masalah Ja...</td>\n",
              "      <td>115</td>\n",
              "      <td></td>\n",
              "      <td>ahmad dhani tak puas debat pilkada masalah jal...</td>\n",
              "      <td>[ahmad, dhani, tak, puas, debat, pilkada, masa...</td>\n",
              "      <td>[ahmad, dhani, tak, puas, debat, pilkada, masa...</td>\n",
              "      <td>[ahmad, dhani, puas, debat, pilkada, jalan, be...</td>\n",
              "    </tr>\n",
              "    <tr>\n",
              "      <th>4</th>\n",
              "      <td>0</td>\n",
              "      <td>RT @lisdaulay28: Waspada KTP palsu.....kawal P...</td>\n",
              "      <td>79</td>\n",
              "      <td></td>\n",
              "      <td>rt waspada ktp palsu kawal pilkada https t co ...</td>\n",
              "      <td>[rt, waspada, ktp, palsu, kawal, pilkada, http...</td>\n",
              "      <td>[rt, waspada, ktp, palsu, kawal, pilkada, http...</td>\n",
              "      <td>[waspada, ktp, palsu, kawal, pilkada, https, t...</td>\n",
              "    </tr>\n",
              "  </tbody>\n",
              "</table>\n",
              "</div>"
            ],
            "text/plain": [
              "   Label  ...                                         tweet_stop\n",
              "0      0  ...  [fadli, zon, mendagri, nonaktif, ahok, gubernu...\n",
              "1      0  ...  [luka, aksi, rangka, penjara, ahok, ahok, gaga...\n",
              "2      0  ...  [sylvi, gurbernur, laku, keras, perempuan, buk...\n",
              "3      0  ...  [ahmad, dhani, puas, debat, pilkada, jalan, be...\n",
              "4      0  ...  [waspada, ktp, palsu, kawal, pilkada, https, t...\n",
              "\n",
              "[5 rows x 8 columns]"
            ]
          },
          "metadata": {
            "tags": []
          },
          "execution_count": 131
        }
      ]
    },
    {
      "cell_type": "markdown",
      "metadata": {
        "id": "xu2B2yHScxxj"
      },
      "source": [
        "**Lemmitization**"
      ]
    },
    {
      "cell_type": "code",
      "metadata": {
        "colab": {
          "base_uri": "https://localhost:8080/",
          "height": 427
        },
        "id": "z8QqajigNHTx",
        "outputId": "0ce7580e-9e48-4b0e-daba-c319a531556a"
      },
      "source": [
        "from nltk.stem import WordNetLemmatizer\n",
        "\n",
        "lemmatizer = WordNetLemmatizer()\n",
        "Df['tweet_lemma'] = Df['tweet_stop'].apply(lambda x : ' '.join([lemmatizer.lemmatize(word) for word in x]))\n",
        "Df.head()"
      ],
      "execution_count": 132,
      "outputs": [
        {
          "output_type": "execute_result",
          "data": {
            "text/html": [
              "<div>\n",
              "<style scoped>\n",
              "    .dataframe tbody tr th:only-of-type {\n",
              "        vertical-align: middle;\n",
              "    }\n",
              "\n",
              "    .dataframe tbody tr th {\n",
              "        vertical-align: top;\n",
              "    }\n",
              "\n",
              "    .dataframe thead th {\n",
              "        text-align: right;\n",
              "    }\n",
              "</style>\n",
              "<table border=\"1\" class=\"dataframe\">\n",
              "  <thead>\n",
              "    <tr style=\"text-align: right;\">\n",
              "      <th></th>\n",
              "      <th>Label</th>\n",
              "      <th>Tweet</th>\n",
              "      <th>text length</th>\n",
              "      <th>#</th>\n",
              "      <th>processed_tweets</th>\n",
              "      <th>tweet_token</th>\n",
              "      <th>tweet_stem</th>\n",
              "      <th>tweet_stop</th>\n",
              "      <th>tweet_lemma</th>\n",
              "    </tr>\n",
              "  </thead>\n",
              "  <tbody>\n",
              "    <tr>\n",
              "      <th>0</th>\n",
              "      <td>0</td>\n",
              "      <td>RT @spardaxyz: Fadli Zon Minta Mendagri Segera...</td>\n",
              "      <td>110</td>\n",
              "      <td></td>\n",
              "      <td>rt fadli zon minta mendagri segera menonaktifk...</td>\n",
              "      <td>[rt, fadli, zon, minta, mendagri, segera, meno...</td>\n",
              "      <td>[rt, fadli, zon, minta, mendagri, segera, nona...</td>\n",
              "      <td>[fadli, zon, mendagri, nonaktif, ahok, gubernu...</td>\n",
              "      <td>fadli zon mendagri nonaktif ahok gubernur dki ...</td>\n",
              "    </tr>\n",
              "    <tr>\n",
              "      <th>1</th>\n",
              "      <td>0</td>\n",
              "      <td>RT @baguscondromowo: Mereka terus melukai aksi...</td>\n",
              "      <td>108</td>\n",
              "      <td></td>\n",
              "      <td>rt mereka terus melukai aksi dalam rangka meme...</td>\n",
              "      <td>[rt, mereka, terus, melukai, aksi, dalam, rang...</td>\n",
              "      <td>[rt, mereka, terus, luka, aksi, dalam, rangka,...</td>\n",
              "      <td>[luka, aksi, rangka, penjara, ahok, ahok, gaga...</td>\n",
              "      <td>luka aksi rangka penjara ahok ahok gagal pilkada</td>\n",
              "    </tr>\n",
              "    <tr>\n",
              "      <th>2</th>\n",
              "      <td>0</td>\n",
              "      <td>Sylvi: bagaimana gurbernur melakukan kekerasan...</td>\n",
              "      <td>116</td>\n",
              "      <td>#DebatFinalPilkadaJKT</td>\n",
              "      <td>sylvi bagaimana gurbernur melakukan kekerasan ...</td>\n",
              "      <td>[sylvi, bagaimana, gurbernur, melakukan, keker...</td>\n",
              "      <td>[sylvi, bagaimana, gurbernur, laku, keras, per...</td>\n",
              "      <td>[sylvi, gurbernur, laku, keras, perempuan, buk...</td>\n",
              "      <td>sylvi gurbernur laku kera perempuan bukti foto...</td>\n",
              "    </tr>\n",
              "    <tr>\n",
              "      <th>3</th>\n",
              "      <td>0</td>\n",
              "      <td>Ahmad Dhani Tak Puas Debat Pilkada, Masalah Ja...</td>\n",
              "      <td>115</td>\n",
              "      <td></td>\n",
              "      <td>ahmad dhani tak puas debat pilkada masalah jal...</td>\n",
              "      <td>[ahmad, dhani, tak, puas, debat, pilkada, masa...</td>\n",
              "      <td>[ahmad, dhani, tak, puas, debat, pilkada, masa...</td>\n",
              "      <td>[ahmad, dhani, puas, debat, pilkada, jalan, be...</td>\n",
              "      <td>ahmad dhani puas debat pilkada jalan bekas htt...</td>\n",
              "    </tr>\n",
              "    <tr>\n",
              "      <th>4</th>\n",
              "      <td>0</td>\n",
              "      <td>RT @lisdaulay28: Waspada KTP palsu.....kawal P...</td>\n",
              "      <td>79</td>\n",
              "      <td></td>\n",
              "      <td>rt waspada ktp palsu kawal pilkada https t co ...</td>\n",
              "      <td>[rt, waspada, ktp, palsu, kawal, pilkada, http...</td>\n",
              "      <td>[rt, waspada, ktp, palsu, kawal, pilkada, http...</td>\n",
              "      <td>[waspada, ktp, palsu, kawal, pilkada, https, t...</td>\n",
              "      <td>waspada ktp palsu kawal pilkada http t co oooe...</td>\n",
              "    </tr>\n",
              "  </tbody>\n",
              "</table>\n",
              "</div>"
            ],
            "text/plain": [
              "   Label  ...                                        tweet_lemma\n",
              "0      0  ...  fadli zon mendagri nonaktif ahok gubernur dki ...\n",
              "1      0  ...   luka aksi rangka penjara ahok ahok gagal pilkada\n",
              "2      0  ...  sylvi gurbernur laku kera perempuan bukti foto...\n",
              "3      0  ...  ahmad dhani puas debat pilkada jalan bekas htt...\n",
              "4      0  ...  waspada ktp palsu kawal pilkada http t co oooe...\n",
              "\n",
              "[5 rows x 9 columns]"
            ]
          },
          "metadata": {
            "tags": []
          },
          "execution_count": 132
        }
      ]
    },
    {
      "cell_type": "markdown",
      "metadata": {
        "id": "aIA9QrljdXPT"
      },
      "source": [
        "**Visualizations**\n",
        "\n",
        "Visualizing which of the word is most commonly used in the twitter dataset."
      ]
    },
    {
      "cell_type": "code",
      "metadata": {
        "colab": {
          "base_uri": "https://localhost:8080/",
          "height": 536
        },
        "id": "m3DkV-xANsch",
        "outputId": "0c23c2ec-1032-4448-bfae-442d28b1e002"
      },
      "source": [
        "!pip install wordcloud\n",
        "from wordcloud import WordCloud\n",
        "import matplotlib.pyplot as plt\n",
        "\n",
        "value_list = Df['tweet_lemma']\n",
        "values = ','.join(str(v) for v in value_list)\n",
        "wordcloud = WordCloud(width = 800, height = 500, max_font_size = 110,max_words = 100).generate(values)\n",
        "print('Normal words')\n",
        "plt.figure(figsize= (12,8))\n",
        "plt.imshow(wordcloud, interpolation = 'bilinear',cmap='viridis')\n",
        "plt.axis('off')"
      ],
      "execution_count": 133,
      "outputs": [
        {
          "output_type": "stream",
          "text": [
            "Requirement already satisfied: wordcloud in /usr/local/lib/python3.6/dist-packages (1.5.0)\n",
            "Requirement already satisfied: numpy>=1.6.1 in /usr/local/lib/python3.6/dist-packages (from wordcloud) (1.18.5)\n",
            "Requirement already satisfied: pillow in /usr/local/lib/python3.6/dist-packages (from wordcloud) (7.0.0)\n",
            "Normal words\n"
          ],
          "name": "stdout"
        },
        {
          "output_type": "execute_result",
          "data": {
            "text/plain": [
              "(-0.5, 799.5, 499.5, -0.5)"
            ]
          },
          "metadata": {
            "tags": []
          },
          "execution_count": 133
        },
        {
          "output_type": "display_data",
          "data": {
            "image/png": "[encoded data removed]",
            "text/plain": [
              "<Figure size 864x576 with 1 Axes>"
            ]
          },
          "metadata": {
            "tags": [],
            "needs_background": "light"
          }
        }
      ]
    },
    {
      "cell_type": "code",
      "metadata": {
        "id": "J1SDtZv3N-H9"
      },
      "source": [
        "#Collecting hashtags\n",
        "\n",
        "hash_positive = []\n",
        "hash_negative = []"
      ],
      "execution_count": 134,
      "outputs": []
    },
    {
      "cell_type": "code",
      "metadata": {
        "id": "ugp2KCGZOBHa"
      },
      "source": [
        "def hashtag_extract(x):\n",
        "    hashtags = []\n",
        "    # Loop over the words in the tweet\n",
        "    for i in x:\n",
        "        ht = re.findall(r\"#(\\w+)\", i)\n",
        "        hashtags.append(ht)\n",
        "\n",
        "    return hashtags"
      ],
      "execution_count": 135,
      "outputs": []
    },
    {
      "cell_type": "code",
      "metadata": {
        "id": "2dEbJnVsOEpB"
      },
      "source": [
        "hash_positive = hashtag_extract(Df['Tweet'][Df['Label'] == 0])\n",
        "\n",
        "# extracting hashtags from racist/sexist tweets\n",
        "hash_negative = hashtag_extract(Df['Tweet'][Df['Label'] == 1])\n",
        "\n",
        "# Converting a multidimensional list to a 1-D list\n",
        "hash_positive = sum(hash_positive,[])\n",
        "hash_negative = sum(hash_negative,[])"
      ],
      "execution_count": 136,
      "outputs": []
    },
    {
      "cell_type": "code",
      "metadata": {
        "id": "a8t3_-JeOKBy"
      },
      "source": [
        "from collections import Counter\n",
        "\n",
        "q = Counter(hash_positive)\n",
        "q = dict(q.most_common())"
      ],
      "execution_count": 137,
      "outputs": []
    },
    {
      "cell_type": "code",
      "metadata": {
        "colab": {
          "base_uri": "https://localhost:8080/"
        },
        "id": "6NFES0iFOW1w",
        "outputId": "b4a52a3c-8009-4553-9d33-8f3625dc6306"
      },
      "source": [
        "l_positive_count = list(q.values())\n",
        "l_positive_count[0:4]"
      ],
      "execution_count": 138,
      "outputs": [
        {
          "output_type": "execute_result",
          "data": {
            "text/plain": [
              "[76, 39, 9, 8]"
            ]
          },
          "metadata": {
            "tags": []
          },
          "execution_count": 138
        }
      ]
    },
    {
      "cell_type": "code",
      "metadata": {
        "colab": {
          "base_uri": "https://localhost:8080/"
        },
        "id": "Aq7karCqPR7p",
        "outputId": "9d01ed0a-28ab-423b-9019-049144cbb06f"
      },
      "source": [
        "l_positive_values = list(q.keys())\n",
        "l_positive_values[0:4]"
      ],
      "execution_count": 139,
      "outputs": [
        {
          "output_type": "execute_result",
          "data": {
            "text/plain": [
              "['DebatFinalPilkadaJKT',\n",
              " 'MataNajwaDebatJakarta',\n",
              " 'IklanAhokJahat',\n",
              " 'SidangAhok']"
            ]
          },
          "metadata": {
            "tags": []
          },
          "execution_count": 139
        }
      ]
    },
    {
      "cell_type": "code",
      "metadata": {
        "id": "e0mu3iqAOaoh"
      },
      "source": [
        "r = Counter(hash_negative)\n",
        "r = dict(r.most_common())"
      ],
      "execution_count": 140,
      "outputs": []
    },
    {
      "cell_type": "code",
      "metadata": {
        "colab": {
          "base_uri": "https://localhost:8080/"
        },
        "id": "3uaf89HoPxKY",
        "outputId": "70d4a9af-098a-41c7-b31c-a77367865928"
      },
      "source": [
        "l_negative_count = list(r.values())\n",
        "l_negative_count[0:4]"
      ],
      "execution_count": 141,
      "outputs": [
        {
          "output_type": "execute_result",
          "data": {
            "text/plain": [
              "[25, 15, 9, 4]"
            ]
          },
          "metadata": {
            "tags": []
          },
          "execution_count": 141
        }
      ]
    },
    {
      "cell_type": "code",
      "metadata": {
        "colab": {
          "base_uri": "https://localhost:8080/"
        },
        "id": "6txCKwrDQKkM",
        "outputId": "ed8d3845-a01f-4a3b-c249-ce9defd67e2e"
      },
      "source": [
        "l_negative_values = list(r.keys())\n",
        "l_negative_values[0:4]"
      ],
      "execution_count": 142,
      "outputs": [
        {
          "output_type": "execute_result",
          "data": {
            "text/plain": [
              "['DebatFinalPilkadaJKT',\n",
              " 'IklanAhokJahat',\n",
              " 'MataNajwaDebatJakarta',\n",
              " 'JakartaBanjir']"
            ]
          },
          "metadata": {
            "tags": []
          },
          "execution_count": 142
        }
      ]
    },
    {
      "cell_type": "code",
      "metadata": {
        "colab": {
          "base_uri": "https://localhost:8080/",
          "height": 662
        },
        "id": "zt4tUVUOQX_u",
        "outputId": "93450d46-7efe-4e71-f138-5a7e5d0bd085"
      },
      "source": [
        "#Creating a dataframe to represent top 20 positive and negative hash words\n",
        "l1 = pd.DataFrame(l_positive_values[0:20],columns = ['Positive_Words'])\n",
        "l2 = pd.DataFrame(l_positive_count[0:20],columns = ['Positive_Count'])\n",
        "l3 = pd.DataFrame(l_negative_values[0:20],columns = ['Negative_Words'])\n",
        "l4 = pd.DataFrame(l_negative_count[0:20],columns = ['Negative_Count'])\n",
        "z = pd.concat([l1,l2,l3,l4],axis = 1)\n",
        "z"
      ],
      "execution_count": 143,
      "outputs": [
        {
          "output_type": "execute_result",
          "data": {
            "text/html": [
              "<div>\n",
              "<style scoped>\n",
              "    .dataframe tbody tr th:only-of-type {\n",
              "        vertical-align: middle;\n",
              "    }\n",
              "\n",
              "    .dataframe tbody tr th {\n",
              "        vertical-align: top;\n",
              "    }\n",
              "\n",
              "    .dataframe thead th {\n",
              "        text-align: right;\n",
              "    }\n",
              "</style>\n",
              "<table border=\"1\" class=\"dataframe\">\n",
              "  <thead>\n",
              "    <tr style=\"text-align: right;\">\n",
              "      <th></th>\n",
              "      <th>Positive_Words</th>\n",
              "      <th>Positive_Count</th>\n",
              "      <th>Negative_Words</th>\n",
              "      <th>Negative_Count</th>\n",
              "    </tr>\n",
              "  </thead>\n",
              "  <tbody>\n",
              "    <tr>\n",
              "      <th>0</th>\n",
              "      <td>DebatFinalPilkadaJKT</td>\n",
              "      <td>76</td>\n",
              "      <td>DebatFinalPilkadaJKT</td>\n",
              "      <td>25</td>\n",
              "    </tr>\n",
              "    <tr>\n",
              "      <th>1</th>\n",
              "      <td>MataNajwaDebatJakarta</td>\n",
              "      <td>39</td>\n",
              "      <td>IklanAhokJahat</td>\n",
              "      <td>15</td>\n",
              "    </tr>\n",
              "    <tr>\n",
              "      <th>2</th>\n",
              "      <td>IklanAhokJahat</td>\n",
              "      <td>9</td>\n",
              "      <td>MataNajwaDebatJakarta</td>\n",
              "      <td>9</td>\n",
              "    </tr>\n",
              "    <tr>\n",
              "      <th>3</th>\n",
              "      <td>SidangAhok</td>\n",
              "      <td>8</td>\n",
              "      <td>JakartaBanjir</td>\n",
              "      <td>4</td>\n",
              "    </tr>\n",
              "    <tr>\n",
              "      <th>4</th>\n",
              "      <td>FreeAhok</td>\n",
              "      <td>7</td>\n",
              "      <td>Nomor2Koruptor</td>\n",
              "      <td>4</td>\n",
              "    </tr>\n",
              "    <tr>\n",
              "      <th>5</th>\n",
              "      <td>TetapAhok</td>\n",
              "      <td>6</td>\n",
              "      <td>AhokPastiTumbang</td>\n",
              "      <td>3</td>\n",
              "    </tr>\n",
              "    <tr>\n",
              "      <th>6</th>\n",
              "      <td>AniesSandi</td>\n",
              "      <td>5</td>\n",
              "      <td>HaramPemimpinKafir</td>\n",
              "      <td>2</td>\n",
              "    </tr>\n",
              "    <tr>\n",
              "      <th>7</th>\n",
              "      <td>debatfinalpilkadadki</td>\n",
              "      <td>4</td>\n",
              "      <td>SidangAhok</td>\n",
              "      <td>2</td>\n",
              "    </tr>\n",
              "    <tr>\n",
              "      <th>8</th>\n",
              "      <td>DebatFinalDKI</td>\n",
              "      <td>3</td>\n",
              "      <td>iklanahokjahat</td>\n",
              "      <td>2</td>\n",
              "    </tr>\n",
              "    <tr>\n",
              "      <th>9</th>\n",
              "      <td>tetapahok</td>\n",
              "      <td>3</td>\n",
              "      <td>HaramPilihAhok</td>\n",
              "      <td>1</td>\n",
              "    </tr>\n",
              "    <tr>\n",
              "      <th>10</th>\n",
              "      <td>BadjaPastimenang</td>\n",
              "      <td>2</td>\n",
              "      <td>JanganGolput</td>\n",
              "      <td>1</td>\n",
              "    </tr>\n",
              "    <tr>\n",
              "      <th>11</th>\n",
              "      <td>Debat3PilkadaDKI</td>\n",
              "      <td>2</td>\n",
              "      <td>UsirChina</td>\n",
              "      <td>1</td>\n",
              "    </tr>\n",
              "    <tr>\n",
              "      <th>12</th>\n",
              "      <td>Tetap3</td>\n",
              "      <td>2</td>\n",
              "      <td>BlusukanAhok</td>\n",
              "      <td>1</td>\n",
              "    </tr>\n",
              "    <tr>\n",
              "      <th>13</th>\n",
              "      <td>JKTBeragam</td>\n",
              "      <td>2</td>\n",
              "      <td>BerjamaahCoblosPecinya</td>\n",
              "      <td>1</td>\n",
              "    </tr>\n",
              "    <tr>\n",
              "      <th>14</th>\n",
              "      <td>matanajwadebatjakarta</td>\n",
              "      <td>2</td>\n",
              "      <td>AhokPecahBelahBangsa</td>\n",
              "      <td>1</td>\n",
              "    </tr>\n",
              "    <tr>\n",
              "      <th>15</th>\n",
              "      <td>important</td>\n",
              "      <td>2</td>\n",
              "      <td>perjuanganbelumselesai</td>\n",
              "      <td>1</td>\n",
              "    </tr>\n",
              "    <tr>\n",
              "      <th>16</th>\n",
              "      <td>AhokDjarot</td>\n",
              "      <td>2</td>\n",
              "      <td>StopKriminalisasiUlama</td>\n",
              "      <td>1</td>\n",
              "    </tr>\n",
              "    <tr>\n",
              "      <th>17</th>\n",
              "      <td>NETPilkada</td>\n",
              "      <td>2</td>\n",
              "      <td>Gue2</td>\n",
              "      <td>1</td>\n",
              "    </tr>\n",
              "    <tr>\n",
              "      <th>18</th>\n",
              "      <td>LunchBreak</td>\n",
              "      <td>2</td>\n",
              "      <td>paslon3</td>\n",
              "      <td>1</td>\n",
              "    </tr>\n",
              "    <tr>\n",
              "      <th>19</th>\n",
              "      <td>infoTribun</td>\n",
              "      <td>1</td>\n",
              "      <td>pilgubdki</td>\n",
              "      <td>1</td>\n",
              "    </tr>\n",
              "  </tbody>\n",
              "</table>\n",
              "</div>"
            ],
            "text/plain": [
              "           Positive_Words  ...  Negative_Count\n",
              "0    DebatFinalPilkadaJKT  ...              25\n",
              "1   MataNajwaDebatJakarta  ...              15\n",
              "2          IklanAhokJahat  ...               9\n",
              "3              SidangAhok  ...               4\n",
              "4                FreeAhok  ...               4\n",
              "5               TetapAhok  ...               3\n",
              "6              AniesSandi  ...               2\n",
              "7    debatfinalpilkadadki  ...               2\n",
              "8           DebatFinalDKI  ...               2\n",
              "9               tetapahok  ...               1\n",
              "10       BadjaPastimenang  ...               1\n",
              "11       Debat3PilkadaDKI  ...               1\n",
              "12                 Tetap3  ...               1\n",
              "13             JKTBeragam  ...               1\n",
              "14  matanajwadebatjakarta  ...               1\n",
              "15              important  ...               1\n",
              "16             AhokDjarot  ...               1\n",
              "17             NETPilkada  ...               1\n",
              "18             LunchBreak  ...               1\n",
              "19             infoTribun  ...               1\n",
              "\n",
              "[20 rows x 4 columns]"
            ]
          },
          "metadata": {
            "tags": []
          },
          "execution_count": 143
        }
      ]
    },
    {
      "cell_type": "code",
      "metadata": {
        "colab": {
          "base_uri": "https://localhost:8080/",
          "height": 542
        },
        "id": "8B5vypbAQsU1",
        "outputId": "f3034be9-0658-47c8-b0ee-8ae0683b75eb"
      },
      "source": [
        "import plotly.express as px\n",
        "\n",
        "#Normal histogram of positive words\n",
        "fig = px.bar(z, x=\"Positive_Words\", y=\"Positive_Count\",\n",
        "            hover_name=\"Positive_Words\",color = 'Positive_Count')\n",
        "fig.show()"
      ],
      "execution_count": 144,
      "outputs": [
        {
          "output_type": "display_data",
          "data": {
            "text/html": [
              "<html>\n",
              "<head><meta charset=\"utf-8\" /></head>\n",
              "<body>\n",
              "    <div>\n",
              "            <script src=\"https://cdnjs.cloudflare.com/ajax/libs/mathjax/2.7.5/MathJax.js?config=TeX-AMS-MML_SVG\"></script><script type=\"text/javascript\">if (window.MathJax) {MathJax.Hub.Config({SVG: {font: \"STIX-Web\"}});}</script>\n",
              "                <script type=\"text/javascript\">window.PlotlyConfig = {MathJaxConfig: 'local'};</script>\n",
              "        <script src=\"https://cdn.plot.ly/plotly-latest.min.js\"></script>    \n",
              "            <div id=\"7934d6ee-46d8-4b5f-bb18-3697c2015bd8\" class=\"plotly-graph-div\" style=\"height:525px; width:100%;\"></div>\n",
              "            <script type=\"text/javascript\">\n",
              "                \n",
              "                    window.PLOTLYENV=window.PLOTLYENV || {};\n",
              "                    \n",
              "                if (document.getElementById(\"7934d6ee-46d8-4b5f-bb18-3697c2015bd8\")) {\n",
              "                    Plotly.newPlot(\n",
              "                        '7934d6ee-46d8-4b5f-bb18-3697c2015bd8',\n",
              "                        [{\"alignmentgroup\": \"True\", \"hoverlabel\": {\"namelength\": 0}, \"hovertemplate\": \"<b>%{hovertext}</b><br><br>Positive_Words=%{x}<br>Positive_Count=%{marker.color}\", \"hovertext\": [\"DebatFinalPilkadaJKT\", \"MataNajwaDebatJakarta\", \"IklanAhokJahat\", \"SidangAhok\", \"FreeAhok\", \"TetapAhok\", \"AniesSandi\", \"debatfinalpilkadadki\", \"DebatFinalDKI\", \"tetapahok\", \"BadjaPastimenang\", \"Debat3PilkadaDKI\", \"Tetap3\", \"JKTBeragam\", \"matanajwadebatjakarta\", \"important\", \"AhokDjarot\", \"NETPilkada\", \"LunchBreak\", \"infoTribun\"], \"legendgroup\": \"\", \"marker\": {\"color\": [76, 39, 9, 8, 7, 6, 5, 4, 3, 3, 2, 2, 2, 2, 2, 2, 2, 2, 2, 1], \"coloraxis\": \"coloraxis\"}, \"name\": \"\", \"offsetgroup\": \"\", \"orientation\": \"v\", \"showlegend\": false, \"textposition\": \"auto\", \"type\": \"bar\", \"x\": [\"DebatFinalPilkadaJKT\", \"MataNajwaDebatJakarta\", \"IklanAhokJahat\", \"SidangAhok\", \"FreeAhok\", \"TetapAhok\", \"AniesSandi\", \"debatfinalpilkadadki\", \"DebatFinalDKI\", \"tetapahok\", \"BadjaPastimenang\", \"Debat3PilkadaDKI\", \"Tetap3\", \"JKTBeragam\", \"matanajwadebatjakarta\", \"important\", \"AhokDjarot\", \"NETPilkada\", \"LunchBreak\", \"infoTribun\"], \"xaxis\": \"x\", \"y\": [76, 39, 9, 8, 7, 6, 5, 4, 3, 3, 2, 2, 2, 2, 2, 2, 2, 2, 2, 1], \"yaxis\": \"y\"}],\n",
              "                        {\"barmode\": \"relative\", \"coloraxis\": {\"colorbar\": {\"title\": {\"text\": \"Positive_Count\"}}, \"colorscale\": [[0.0, \"#0d0887\"], [0.1111111111111111, \"#46039f\"], [0.2222222222222222, \"#7201a8\"], [0.3333333333333333, \"#9c179e\"], [0.4444444444444444, \"#bd3786\"], [0.5555555555555556, \"#d8576b\"], [0.6666666666666666, \"#ed7953\"], [0.7777777777777778, \"#fb9f3a\"], [0.8888888888888888, \"#fdca26\"], [1.0, \"#f0f921\"]]}, \"legend\": {\"tracegroupgap\": 0}, \"margin\": {\"t\": 60}, \"template\": {\"data\": {\"bar\": [{\"error_x\": {\"color\": \"#2a3f5f\"}, \"error_y\": {\"color\": \"#2a3f5f\"}, \"marker\": {\"line\": {\"color\": \"#E5ECF6\", \"width\": 0.5}}, \"type\": \"bar\"}], \"barpolar\": [{\"marker\": {\"line\": {\"color\": \"#E5ECF6\", \"width\": 0.5}}, \"type\": \"barpolar\"}], \"carpet\": [{\"aaxis\": {\"endlinecolor\": \"#2a3f5f\", \"gridcolor\": \"white\", \"linecolor\": \"white\", \"minorgridcolor\": \"white\", \"startlinecolor\": \"#2a3f5f\"}, \"baxis\": {\"endlinecolor\": \"#2a3f5f\", \"gridcolor\": \"white\", \"linecolor\": \"white\", \"minorgridcolor\": \"white\", \"startlinecolor\": \"#2a3f5f\"}, \"type\": \"carpet\"}], \"choropleth\": [{\"colorbar\": {\"outlinewidth\": 0, \"ticks\": \"\"}, \"type\": \"choropleth\"}], \"contour\": [{\"colorbar\": {\"outlinewidth\": 0, \"ticks\": \"\"}, \"colorscale\": [[0.0, \"#0d0887\"], [0.1111111111111111, \"#46039f\"], [0.2222222222222222, \"#7201a8\"], [0.3333333333333333, \"#9c179e\"], [0.4444444444444444, \"#bd3786\"], [0.5555555555555556, \"#d8576b\"], [0.6666666666666666, \"#ed7953\"], [0.7777777777777778, \"#fb9f3a\"], [0.8888888888888888, \"#fdca26\"], [1.0, \"#f0f921\"]], \"type\": \"contour\"}], \"contourcarpet\": [{\"colorbar\": {\"outlinewidth\": 0, \"ticks\": \"\"}, \"type\": \"contourcarpet\"}], \"heatmap\": [{\"colorbar\": {\"outlinewidth\": 0, \"ticks\": \"\"}, \"colorscale\": [[0.0, \"#0d0887\"], [0.1111111111111111, \"#46039f\"], [0.2222222222222222, \"#7201a8\"], [0.3333333333333333, \"#9c179e\"], [0.4444444444444444, \"#bd3786\"], [0.5555555555555556, \"#d8576b\"], [0.6666666666666666, \"#ed7953\"], [0.7777777777777778, \"#fb9f3a\"], [0.8888888888888888, \"#fdca26\"], [1.0, \"#f0f921\"]], \"type\": \"heatmap\"}], \"heatmapgl\": [{\"colorbar\": {\"outlinewidth\": 0, \"ticks\": \"\"}, \"colorscale\": [[0.0, \"#0d0887\"], [0.1111111111111111, \"#46039f\"], [0.2222222222222222, \"#7201a8\"], [0.3333333333333333, \"#9c179e\"], [0.4444444444444444, \"#bd3786\"], [0.5555555555555556, \"#d8576b\"], [0.6666666666666666, \"#ed7953\"], [0.7777777777777778, \"#fb9f3a\"], [0.8888888888888888, \"#fdca26\"], [1.0, \"#f0f921\"]], \"type\": \"heatmapgl\"}], \"histogram\": [{\"marker\": {\"colorbar\": {\"outlinewidth\": 0, \"ticks\": \"\"}}, \"type\": \"histogram\"}], \"histogram2d\": [{\"colorbar\": {\"outlinewidth\": 0, \"ticks\": \"\"}, \"colorscale\": [[0.0, \"#0d0887\"], [0.1111111111111111, \"#46039f\"], [0.2222222222222222, \"#7201a8\"], [0.3333333333333333, \"#9c179e\"], [0.4444444444444444, \"#bd3786\"], [0.5555555555555556, \"#d8576b\"], [0.6666666666666666, \"#ed7953\"], [0.7777777777777778, \"#fb9f3a\"], [0.8888888888888888, \"#fdca26\"], [1.0, \"#f0f921\"]], \"type\": \"histogram2d\"}], \"histogram2dcontour\": [{\"colorbar\": {\"outlinewidth\": 0, \"ticks\": \"\"}, \"colorscale\": [[0.0, \"#0d0887\"], [0.1111111111111111, \"#46039f\"], [0.2222222222222222, \"#7201a8\"], [0.3333333333333333, \"#9c179e\"], [0.4444444444444444, \"#bd3786\"], [0.5555555555555556, \"#d8576b\"], [0.6666666666666666, \"#ed7953\"], [0.7777777777777778, \"#fb9f3a\"], [0.8888888888888888, \"#fdca26\"], [1.0, \"#f0f921\"]], \"type\": \"histogram2dcontour\"}], \"mesh3d\": [{\"colorbar\": {\"outlinewidth\": 0, \"ticks\": \"\"}, \"type\": \"mesh3d\"}], \"parcoords\": [{\"line\": {\"colorbar\": {\"outlinewidth\": 0, \"ticks\": \"\"}}, \"type\": \"parcoords\"}], \"pie\": [{\"automargin\": true, \"type\": \"pie\"}], \"scatter\": [{\"marker\": {\"colorbar\": {\"outlinewidth\": 0, \"ticks\": \"\"}}, \"type\": \"scatter\"}], \"scatter3d\": [{\"line\": {\"colorbar\": {\"outlinewidth\": 0, \"ticks\": \"\"}}, \"marker\": {\"colorbar\": {\"outlinewidth\": 0, \"ticks\": \"\"}}, \"type\": \"scatter3d\"}], \"scattercarpet\": [{\"marker\": {\"colorbar\": {\"outlinewidth\": 0, \"ticks\": \"\"}}, \"type\": \"scattercarpet\"}], \"scattergeo\": [{\"marker\": {\"colorbar\": {\"outlinewidth\": 0, \"ticks\": \"\"}}, \"type\": \"scattergeo\"}], \"scattergl\": [{\"marker\": {\"colorbar\": {\"outlinewidth\": 0, \"ticks\": \"\"}}, \"type\": \"scattergl\"}], \"scattermapbox\": [{\"marker\": {\"colorbar\": {\"outlinewidth\": 0, \"ticks\": \"\"}}, \"type\": \"scattermapbox\"}], \"scatterpolar\": [{\"marker\": {\"colorbar\": {\"outlinewidth\": 0, \"ticks\": \"\"}}, \"type\": \"scatterpolar\"}], \"scatterpolargl\": [{\"marker\": {\"colorbar\": {\"outlinewidth\": 0, \"ticks\": \"\"}}, \"type\": \"scatterpolargl\"}], \"scatterternary\": [{\"marker\": {\"colorbar\": {\"outlinewidth\": 0, \"ticks\": \"\"}}, \"type\": \"scatterternary\"}], \"surface\": [{\"colorbar\": {\"outlinewidth\": 0, \"ticks\": \"\"}, \"colorscale\": [[0.0, \"#0d0887\"], [0.1111111111111111, \"#46039f\"], [0.2222222222222222, \"#7201a8\"], [0.3333333333333333, \"#9c179e\"], [0.4444444444444444, \"#bd3786\"], [0.5555555555555556, \"#d8576b\"], [0.6666666666666666, \"#ed7953\"], [0.7777777777777778, \"#fb9f3a\"], [0.8888888888888888, \"#fdca26\"], [1.0, \"#f0f921\"]], \"type\": \"surface\"}], \"table\": [{\"cells\": {\"fill\": {\"color\": \"#EBF0F8\"}, \"line\": {\"color\": \"white\"}}, \"header\": {\"fill\": {\"color\": \"#C8D4E3\"}, \"line\": {\"color\": \"white\"}}, \"type\": \"table\"}]}, \"layout\": {\"annotationdefaults\": {\"arrowcolor\": \"#2a3f5f\", \"arrowhead\": 0, \"arrowwidth\": 1}, \"coloraxis\": {\"colorbar\": {\"outlinewidth\": 0, \"ticks\": \"\"}}, \"colorscale\": {\"diverging\": [[0, \"#8e0152\"], [0.1, \"#c51b7d\"], [0.2, \"#de77ae\"], [0.3, \"#f1b6da\"], [0.4, \"#fde0ef\"], [0.5, \"#f7f7f7\"], [0.6, \"#e6f5d0\"], [0.7, \"#b8e186\"], [0.8, \"#7fbc41\"], [0.9, \"#4d9221\"], [1, \"#276419\"]], \"sequential\": [[0.0, \"#0d0887\"], [0.1111111111111111, \"#46039f\"], [0.2222222222222222, \"#7201a8\"], [0.3333333333333333, \"#9c179e\"], [0.4444444444444444, \"#bd3786\"], [0.5555555555555556, \"#d8576b\"], [0.6666666666666666, \"#ed7953\"], [0.7777777777777778, \"#fb9f3a\"], [0.8888888888888888, \"#fdca26\"], [1.0, \"#f0f921\"]], \"sequentialminus\": [[0.0, \"#0d0887\"], [0.1111111111111111, \"#46039f\"], [0.2222222222222222, \"#7201a8\"], [0.3333333333333333, \"#9c179e\"], [0.4444444444444444, \"#bd3786\"], [0.5555555555555556, \"#d8576b\"], [0.6666666666666666, \"#ed7953\"], [0.7777777777777778, \"#fb9f3a\"], [0.8888888888888888, \"#fdca26\"], [1.0, \"#f0f921\"]]}, \"colorway\": [\"#636efa\", \"#EF553B\", \"#00cc96\", \"#ab63fa\", \"#FFA15A\", \"#19d3f3\", \"#FF6692\", \"#B6E880\", \"#FF97FF\", \"#FECB52\"], \"font\": {\"color\": \"#2a3f5f\"}, \"geo\": {\"bgcolor\": \"white\", \"lakecolor\": \"white\", \"landcolor\": \"#E5ECF6\", \"showlakes\": true, \"showland\": true, \"subunitcolor\": \"white\"}, \"hoverlabel\": {\"align\": \"left\"}, \"hovermode\": \"closest\", \"mapbox\": {\"style\": \"light\"}, \"paper_bgcolor\": \"white\", \"plot_bgcolor\": \"#E5ECF6\", \"polar\": {\"angularaxis\": {\"gridcolor\": \"white\", \"linecolor\": \"white\", \"ticks\": \"\"}, \"bgcolor\": \"#E5ECF6\", \"radialaxis\": {\"gridcolor\": \"white\", \"linecolor\": \"white\", \"ticks\": \"\"}}, \"scene\": {\"xaxis\": {\"backgroundcolor\": \"#E5ECF6\", \"gridcolor\": \"white\", \"gridwidth\": 2, \"linecolor\": \"white\", \"showbackground\": true, \"ticks\": \"\", \"zerolinecolor\": \"white\"}, \"yaxis\": {\"backgroundcolor\": \"#E5ECF6\", \"gridcolor\": \"white\", \"gridwidth\": 2, \"linecolor\": \"white\", \"showbackground\": true, \"ticks\": \"\", \"zerolinecolor\": \"white\"}, \"zaxis\": {\"backgroundcolor\": \"#E5ECF6\", \"gridcolor\": \"white\", \"gridwidth\": 2, \"linecolor\": \"white\", \"showbackground\": true, \"ticks\": \"\", \"zerolinecolor\": \"white\"}}, \"shapedefaults\": {\"line\": {\"color\": \"#2a3f5f\"}}, \"ternary\": {\"aaxis\": {\"gridcolor\": \"white\", \"linecolor\": \"white\", \"ticks\": \"\"}, \"baxis\": {\"gridcolor\": \"white\", \"linecolor\": \"white\", \"ticks\": \"\"}, \"bgcolor\": \"#E5ECF6\", \"caxis\": {\"gridcolor\": \"white\", \"linecolor\": \"white\", \"ticks\": \"\"}}, \"title\": {\"x\": 0.05}, \"xaxis\": {\"automargin\": true, \"gridcolor\": \"white\", \"linecolor\": \"white\", \"ticks\": \"\", \"title\": {\"standoff\": 15}, \"zerolinecolor\": \"white\", \"zerolinewidth\": 2}, \"yaxis\": {\"automargin\": true, \"gridcolor\": \"white\", \"linecolor\": \"white\", \"ticks\": \"\", \"title\": {\"standoff\": 15}, \"zerolinecolor\": \"white\", \"zerolinewidth\": 2}}}, \"xaxis\": {\"anchor\": \"y\", \"domain\": [0.0, 1.0], \"title\": {\"text\": \"Positive_Words\"}}, \"yaxis\": {\"anchor\": \"x\", \"domain\": [0.0, 1.0], \"title\": {\"text\": \"Positive_Count\"}}},\n",
              "                        {\"responsive\": true}\n",
              "                    ).then(function(){\n",
              "                            \n",
              "var gd = document.getElementById('7934d6ee-46d8-4b5f-bb18-3697c2015bd8');\n",
              "var x = new MutationObserver(function (mutations, observer) {{\n",
              "        var display = window.getComputedStyle(gd).display;\n",
              "        if (!display || display === 'none') {{\n",
              "            console.log([gd, 'removed!']);\n",
              "            Plotly.purge(gd);\n",
              "            observer.disconnect();\n",
              "        }}\n",
              "}});\n",
              "\n",
              "// Listen for the removal of the full notebook cells\n",
              "var notebookContainer = gd.closest('#notebook-container');\n",
              "if (notebookContainer) {{\n",
              "    x.observe(notebookContainer, {childList: true});\n",
              "}}\n",
              "\n",
              "// Listen for the clearing of the current output cell\n",
              "var outputEl = gd.closest('.output');\n",
              "if (outputEl) {{\n",
              "    x.observe(outputEl, {childList: true});\n",
              "}}\n",
              "\n",
              "                        })\n",
              "                };\n",
              "                \n",
              "            </script>\n",
              "        </div>\n",
              "</body>\n",
              "</html>"
            ]
          },
          "metadata": {
            "tags": []
          }
        }
      ]
    },
    {
      "cell_type": "code",
      "metadata": {
        "colab": {
          "base_uri": "https://localhost:8080/",
          "height": 542
        },
        "id": "X1Q2X98oRAtZ",
        "outputId": "06932eef-b5b3-4ebd-8643-f1f56fcd2903"
      },
      "source": [
        "#Normal histogram of negative words\n",
        "fig = px.bar(z, x=\"Negative_Words\", y=\"Negative_Count\",\n",
        "            hover_name=\"Negative_Words\",color= 'Negative_Count')\n",
        "fig.show()"
      ],
      "execution_count": 145,
      "outputs": [
        {
          "output_type": "display_data",
          "data": {
            "text/html": [
              "<html>\n",
              "<head><meta charset=\"utf-8\" /></head>\n",
              "<body>\n",
              "    <div>\n",
              "            <script src=\"https://cdnjs.cloudflare.com/ajax/libs/mathjax/2.7.5/MathJax.js?config=TeX-AMS-MML_SVG\"></script><script type=\"text/javascript\">if (window.MathJax) {MathJax.Hub.Config({SVG: {font: \"STIX-Web\"}});}</script>\n",
              "                <script type=\"text/javascript\">window.PlotlyConfig = {MathJaxConfig: 'local'};</script>\n",
              "        <script src=\"https://cdn.plot.ly/plotly-latest.min.js\"></script>    \n",
              "            <div id=\"e44e1cac-cdac-4ba1-9505-e1559e84672a\" class=\"plotly-graph-div\" style=\"height:525px; width:100%;\"></div>\n",
              "            <script type=\"text/javascript\">\n",
              "                \n",
              "                    window.PLOTLYENV=window.PLOTLYENV || {};\n",
              "                    \n",
              "                if (document.getElementById(\"e44e1cac-cdac-4ba1-9505-e1559e84672a\")) {\n",
              "                    Plotly.newPlot(\n",
              "                        'e44e1cac-cdac-4ba1-9505-e1559e84672a',\n",
              "                        [{\"alignmentgroup\": \"True\", \"hoverlabel\": {\"namelength\": 0}, \"hovertemplate\": \"<b>%{hovertext}</b><br><br>Negative_Words=%{x}<br>Negative_Count=%{marker.color}\", \"hovertext\": [\"DebatFinalPilkadaJKT\", \"IklanAhokJahat\", \"MataNajwaDebatJakarta\", \"JakartaBanjir\", \"Nomor2Koruptor\", \"AhokPastiTumbang\", \"HaramPemimpinKafir\", \"SidangAhok\", \"iklanahokjahat\", \"HaramPilihAhok\", \"JanganGolput\", \"UsirChina\", \"BlusukanAhok\", \"BerjamaahCoblosPecinya\", \"AhokPecahBelahBangsa\", \"perjuanganbelumselesai\", \"StopKriminalisasiUlama\", \"Gue2\", \"paslon3\", \"pilgubdki\"], \"legendgroup\": \"\", \"marker\": {\"color\": [25, 15, 9, 4, 4, 3, 2, 2, 2, 1, 1, 1, 1, 1, 1, 1, 1, 1, 1, 1], \"coloraxis\": \"coloraxis\"}, \"name\": \"\", \"offsetgroup\": \"\", \"orientation\": \"v\", \"showlegend\": false, \"textposition\": \"auto\", \"type\": \"bar\", \"x\": [\"DebatFinalPilkadaJKT\", \"IklanAhokJahat\", \"MataNajwaDebatJakarta\", \"JakartaBanjir\", \"Nomor2Koruptor\", \"AhokPastiTumbang\", \"HaramPemimpinKafir\", \"SidangAhok\", \"iklanahokjahat\", \"HaramPilihAhok\", \"JanganGolput\", \"UsirChina\", \"BlusukanAhok\", \"BerjamaahCoblosPecinya\", \"AhokPecahBelahBangsa\", \"perjuanganbelumselesai\", \"StopKriminalisasiUlama\", \"Gue2\", \"paslon3\", \"pilgubdki\"], \"xaxis\": \"x\", \"y\": [25, 15, 9, 4, 4, 3, 2, 2, 2, 1, 1, 1, 1, 1, 1, 1, 1, 1, 1, 1], \"yaxis\": \"y\"}],\n",
              "                        {\"barmode\": \"relative\", \"coloraxis\": {\"colorbar\": {\"title\": {\"text\": \"Negative_Count\"}}, \"colorscale\": [[0.0, \"#0d0887\"], [0.1111111111111111, \"#46039f\"], [0.2222222222222222, \"#7201a8\"], [0.3333333333333333, \"#9c179e\"], [0.4444444444444444, \"#bd3786\"], [0.5555555555555556, \"#d8576b\"], [0.6666666666666666, \"#ed7953\"], [0.7777777777777778, \"#fb9f3a\"], [0.8888888888888888, \"#fdca26\"], [1.0, \"#f0f921\"]]}, \"legend\": {\"tracegroupgap\": 0}, \"margin\": {\"t\": 60}, \"template\": {\"data\": {\"bar\": [{\"error_x\": {\"color\": \"#2a3f5f\"}, \"error_y\": {\"color\": \"#2a3f5f\"}, \"marker\": {\"line\": {\"color\": \"#E5ECF6\", \"width\": 0.5}}, \"type\": \"bar\"}], \"barpolar\": [{\"marker\": {\"line\": {\"color\": \"#E5ECF6\", \"width\": 0.5}}, \"type\": \"barpolar\"}], \"carpet\": [{\"aaxis\": {\"endlinecolor\": \"#2a3f5f\", \"gridcolor\": \"white\", \"linecolor\": \"white\", \"minorgridcolor\": \"white\", \"startlinecolor\": \"#2a3f5f\"}, \"baxis\": {\"endlinecolor\": \"#2a3f5f\", \"gridcolor\": \"white\", \"linecolor\": \"white\", \"minorgridcolor\": \"white\", \"startlinecolor\": \"#2a3f5f\"}, \"type\": \"carpet\"}], \"choropleth\": [{\"colorbar\": {\"outlinewidth\": 0, \"ticks\": \"\"}, \"type\": \"choropleth\"}], \"contour\": [{\"colorbar\": {\"outlinewidth\": 0, \"ticks\": \"\"}, \"colorscale\": [[0.0, \"#0d0887\"], [0.1111111111111111, \"#46039f\"], [0.2222222222222222, \"#7201a8\"], [0.3333333333333333, \"#9c179e\"], [0.4444444444444444, \"#bd3786\"], [0.5555555555555556, \"#d8576b\"], [0.6666666666666666, \"#ed7953\"], [0.7777777777777778, \"#fb9f3a\"], [0.8888888888888888, \"#fdca26\"], [1.0, \"#f0f921\"]], \"type\": \"contour\"}], \"contourcarpet\": [{\"colorbar\": {\"outlinewidth\": 0, \"ticks\": \"\"}, \"type\": \"contourcarpet\"}], \"heatmap\": [{\"colorbar\": {\"outlinewidth\": 0, \"ticks\": \"\"}, \"colorscale\": [[0.0, \"#0d0887\"], [0.1111111111111111, \"#46039f\"], [0.2222222222222222, \"#7201a8\"], [0.3333333333333333, \"#9c179e\"], [0.4444444444444444, \"#bd3786\"], [0.5555555555555556, \"#d8576b\"], [0.6666666666666666, \"#ed7953\"], [0.7777777777777778, \"#fb9f3a\"], [0.8888888888888888, \"#fdca26\"], [1.0, \"#f0f921\"]], \"type\": \"heatmap\"}], \"heatmapgl\": [{\"colorbar\": {\"outlinewidth\": 0, \"ticks\": \"\"}, \"colorscale\": [[0.0, \"#0d0887\"], [0.1111111111111111, \"#46039f\"], [0.2222222222222222, \"#7201a8\"], [0.3333333333333333, \"#9c179e\"], [0.4444444444444444, \"#bd3786\"], [0.5555555555555556, \"#d8576b\"], [0.6666666666666666, \"#ed7953\"], [0.7777777777777778, \"#fb9f3a\"], [0.8888888888888888, \"#fdca26\"], [1.0, \"#f0f921\"]], \"type\": \"heatmapgl\"}], \"histogram\": [{\"marker\": {\"colorbar\": {\"outlinewidth\": 0, \"ticks\": \"\"}}, \"type\": \"histogram\"}], \"histogram2d\": [{\"colorbar\": {\"outlinewidth\": 0, \"ticks\": \"\"}, \"colorscale\": [[0.0, \"#0d0887\"], [0.1111111111111111, \"#46039f\"], [0.2222222222222222, \"#7201a8\"], [0.3333333333333333, \"#9c179e\"], [0.4444444444444444, \"#bd3786\"], [0.5555555555555556, \"#d8576b\"], [0.6666666666666666, \"#ed7953\"], [0.7777777777777778, \"#fb9f3a\"], [0.8888888888888888, \"#fdca26\"], [1.0, \"#f0f921\"]], \"type\": \"histogram2d\"}], \"histogram2dcontour\": [{\"colorbar\": {\"outlinewidth\": 0, \"ticks\": \"\"}, \"colorscale\": [[0.0, \"#0d0887\"], [0.1111111111111111, \"#46039f\"], [0.2222222222222222, \"#7201a8\"], [0.3333333333333333, \"#9c179e\"], [0.4444444444444444, \"#bd3786\"], [0.5555555555555556, \"#d8576b\"], [0.6666666666666666, \"#ed7953\"], [0.7777777777777778, \"#fb9f3a\"], [0.8888888888888888, \"#fdca26\"], [1.0, \"#f0f921\"]], \"type\": \"histogram2dcontour\"}], \"mesh3d\": [{\"colorbar\": {\"outlinewidth\": 0, \"ticks\": \"\"}, \"type\": \"mesh3d\"}], \"parcoords\": [{\"line\": {\"colorbar\": {\"outlinewidth\": 0, \"ticks\": \"\"}}, \"type\": \"parcoords\"}], \"pie\": [{\"automargin\": true, \"type\": \"pie\"}], \"scatter\": [{\"marker\": {\"colorbar\": {\"outlinewidth\": 0, \"ticks\": \"\"}}, \"type\": \"scatter\"}], \"scatter3d\": [{\"line\": {\"colorbar\": {\"outlinewidth\": 0, \"ticks\": \"\"}}, \"marker\": {\"colorbar\": {\"outlinewidth\": 0, \"ticks\": \"\"}}, \"type\": \"scatter3d\"}], \"scattercarpet\": [{\"marker\": {\"colorbar\": {\"outlinewidth\": 0, \"ticks\": \"\"}}, \"type\": \"scattercarpet\"}], \"scattergeo\": [{\"marker\": {\"colorbar\": {\"outlinewidth\": 0, \"ticks\": \"\"}}, \"type\": \"scattergeo\"}], \"scattergl\": [{\"marker\": {\"colorbar\": {\"outlinewidth\": 0, \"ticks\": \"\"}}, \"type\": \"scattergl\"}], \"scattermapbox\": [{\"marker\": {\"colorbar\": {\"outlinewidth\": 0, \"ticks\": \"\"}}, \"type\": \"scattermapbox\"}], \"scatterpolar\": [{\"marker\": {\"colorbar\": {\"outlinewidth\": 0, \"ticks\": \"\"}}, \"type\": \"scatterpolar\"}], \"scatterpolargl\": [{\"marker\": {\"colorbar\": {\"outlinewidth\": 0, \"ticks\": \"\"}}, \"type\": \"scatterpolargl\"}], \"scatterternary\": [{\"marker\": {\"colorbar\": {\"outlinewidth\": 0, \"ticks\": \"\"}}, \"type\": \"scatterternary\"}], \"surface\": [{\"colorbar\": {\"outlinewidth\": 0, \"ticks\": \"\"}, \"colorscale\": [[0.0, \"#0d0887\"], [0.1111111111111111, \"#46039f\"], [0.2222222222222222, \"#7201a8\"], [0.3333333333333333, \"#9c179e\"], [0.4444444444444444, \"#bd3786\"], [0.5555555555555556, \"#d8576b\"], [0.6666666666666666, \"#ed7953\"], [0.7777777777777778, \"#fb9f3a\"], [0.8888888888888888, \"#fdca26\"], [1.0, \"#f0f921\"]], \"type\": \"surface\"}], \"table\": [{\"cells\": {\"fill\": {\"color\": \"#EBF0F8\"}, \"line\": {\"color\": \"white\"}}, \"header\": {\"fill\": {\"color\": \"#C8D4E3\"}, \"line\": {\"color\": \"white\"}}, \"type\": \"table\"}]}, \"layout\": {\"annotationdefaults\": {\"arrowcolor\": \"#2a3f5f\", \"arrowhead\": 0, \"arrowwidth\": 1}, \"coloraxis\": {\"colorbar\": {\"outlinewidth\": 0, \"ticks\": \"\"}}, \"colorscale\": {\"diverging\": [[0, \"#8e0152\"], [0.1, \"#c51b7d\"], [0.2, \"#de77ae\"], [0.3, \"#f1b6da\"], [0.4, \"#fde0ef\"], [0.5, \"#f7f7f7\"], [0.6, \"#e6f5d0\"], [0.7, \"#b8e186\"], [0.8, \"#7fbc41\"], [0.9, \"#4d9221\"], [1, \"#276419\"]], \"sequential\": [[0.0, \"#0d0887\"], [0.1111111111111111, \"#46039f\"], [0.2222222222222222, \"#7201a8\"], [0.3333333333333333, \"#9c179e\"], [0.4444444444444444, \"#bd3786\"], [0.5555555555555556, \"#d8576b\"], [0.6666666666666666, \"#ed7953\"], [0.7777777777777778, \"#fb9f3a\"], [0.8888888888888888, \"#fdca26\"], [1.0, \"#f0f921\"]], \"sequentialminus\": [[0.0, \"#0d0887\"], [0.1111111111111111, \"#46039f\"], [0.2222222222222222, \"#7201a8\"], [0.3333333333333333, \"#9c179e\"], [0.4444444444444444, \"#bd3786\"], [0.5555555555555556, \"#d8576b\"], [0.6666666666666666, \"#ed7953\"], [0.7777777777777778, \"#fb9f3a\"], [0.8888888888888888, \"#fdca26\"], [1.0, \"#f0f921\"]]}, \"colorway\": [\"#636efa\", \"#EF553B\", \"#00cc96\", \"#ab63fa\", \"#FFA15A\", \"#19d3f3\", \"#FF6692\", \"#B6E880\", \"#FF97FF\", \"#FECB52\"], \"font\": {\"color\": \"#2a3f5f\"}, \"geo\": {\"bgcolor\": \"white\", \"lakecolor\": \"white\", \"landcolor\": \"#E5ECF6\", \"showlakes\": true, \"showland\": true, \"subunitcolor\": \"white\"}, \"hoverlabel\": {\"align\": \"left\"}, \"hovermode\": \"closest\", \"mapbox\": {\"style\": \"light\"}, \"paper_bgcolor\": \"white\", \"plot_bgcolor\": \"#E5ECF6\", \"polar\": {\"angularaxis\": {\"gridcolor\": \"white\", \"linecolor\": \"white\", \"ticks\": \"\"}, \"bgcolor\": \"#E5ECF6\", \"radialaxis\": {\"gridcolor\": \"white\", \"linecolor\": \"white\", \"ticks\": \"\"}}, \"scene\": {\"xaxis\": {\"backgroundcolor\": \"#E5ECF6\", \"gridcolor\": \"white\", \"gridwidth\": 2, \"linecolor\": \"white\", \"showbackground\": true, \"ticks\": \"\", \"zerolinecolor\": \"white\"}, \"yaxis\": {\"backgroundcolor\": \"#E5ECF6\", \"gridcolor\": \"white\", \"gridwidth\": 2, \"linecolor\": \"white\", \"showbackground\": true, \"ticks\": \"\", \"zerolinecolor\": \"white\"}, \"zaxis\": {\"backgroundcolor\": \"#E5ECF6\", \"gridcolor\": \"white\", \"gridwidth\": 2, \"linecolor\": \"white\", \"showbackground\": true, \"ticks\": \"\", \"zerolinecolor\": \"white\"}}, \"shapedefaults\": {\"line\": {\"color\": \"#2a3f5f\"}}, \"ternary\": {\"aaxis\": {\"gridcolor\": \"white\", \"linecolor\": \"white\", \"ticks\": \"\"}, \"baxis\": {\"gridcolor\": \"white\", \"linecolor\": \"white\", \"ticks\": \"\"}, \"bgcolor\": \"#E5ECF6\", \"caxis\": {\"gridcolor\": \"white\", \"linecolor\": \"white\", \"ticks\": \"\"}}, \"title\": {\"x\": 0.05}, \"xaxis\": {\"automargin\": true, \"gridcolor\": \"white\", \"linecolor\": \"white\", \"ticks\": \"\", \"title\": {\"standoff\": 15}, \"zerolinecolor\": \"white\", \"zerolinewidth\": 2}, \"yaxis\": {\"automargin\": true, \"gridcolor\": \"white\", \"linecolor\": \"white\", \"ticks\": \"\", \"title\": {\"standoff\": 15}, \"zerolinecolor\": \"white\", \"zerolinewidth\": 2}}}, \"xaxis\": {\"anchor\": \"y\", \"domain\": [0.0, 1.0], \"title\": {\"text\": \"Negative_Words\"}}, \"yaxis\": {\"anchor\": \"x\", \"domain\": [0.0, 1.0], \"title\": {\"text\": \"Negative_Count\"}}},\n",
              "                        {\"responsive\": true}\n",
              "                    ).then(function(){\n",
              "                            \n",
              "var gd = document.getElementById('e44e1cac-cdac-4ba1-9505-e1559e84672a');\n",
              "var x = new MutationObserver(function (mutations, observer) {{\n",
              "        var display = window.getComputedStyle(gd).display;\n",
              "        if (!display || display === 'none') {{\n",
              "            console.log([gd, 'removed!']);\n",
              "            Plotly.purge(gd);\n",
              "            observer.disconnect();\n",
              "        }}\n",
              "}});\n",
              "\n",
              "// Listen for the removal of the full notebook cells\n",
              "var notebookContainer = gd.closest('#notebook-container');\n",
              "if (notebookContainer) {{\n",
              "    x.observe(notebookContainer, {childList: true});\n",
              "}}\n",
              "\n",
              "// Listen for the clearing of the current output cell\n",
              "var outputEl = gd.closest('.output');\n",
              "if (outputEl) {{\n",
              "    x.observe(outputEl, {childList: true});\n",
              "}}\n",
              "\n",
              "                        })\n",
              "                };\n",
              "                \n",
              "            </script>\n",
              "        </div>\n",
              "</body>\n",
              "</html>"
            ]
          },
          "metadata": {
            "tags": []
          }
        }
      ]
    },
    {
      "cell_type": "markdown",
      "metadata": {
        "id": "FoyrnVvSeW0i"
      },
      "source": [
        "**Feature Engineering**"
      ]
    },
    {
      "cell_type": "code",
      "metadata": {
        "colab": {
          "base_uri": "https://localhost:8080/"
        },
        "id": "cdsItwzgR15o",
        "outputId": "1c3d97a5-1c25-4290-fb4f-40f132e67eb2"
      },
      "source": [
        "#TF-IDF Features-F1\n",
        "tfidf_vectorizer = TfidfVectorizer(ngram_range=(1, 2),max_df=0.75, min_df=5, max_features=10000)\n",
        "\n",
        "# TF-IDF feature matrix\n",
        "tfidf = tfidf_vectorizer.fit_transform(Df['tweet_lemma'] )\n",
        "tfidf"
      ],
      "execution_count": 146,
      "outputs": [
        {
          "output_type": "execute_result",
          "data": {
            "text/plain": [
              "<713x287 sparse matrix of type '<class 'numpy.float64'>'\n",
              "\twith 3886 stored elements in Compressed Sparse Row format>"
            ]
          },
          "metadata": {
            "tags": []
          },
          "execution_count": 146
        }
      ]
    },
    {
      "cell_type": "markdown",
      "metadata": {
        "id": "sfcL8zQQfbJQ"
      },
      "source": [
        "**Running various model Using TFIDF without additional features**"
      ]
    },
    {
      "cell_type": "code",
      "metadata": {
        "colab": {
          "base_uri": "https://localhost:8080/"
        },
        "id": "1aIr0uU2RU5m",
        "outputId": "987d3549-ebed-4dc6-adca-ea6883dc5106"
      },
      "source": [
        "X = tfidf\n",
        "y = Df['Label'].astype(int)\n",
        "X_train_tfidf, X_test_tfidf, y_train, y_test = train_test_split(X, y, random_state=42, test_size=0.2)\n",
        "model = LogisticRegression().fit(X_train_tfidf,y_train)\n",
        "y_preds = model.predict(X_test_tfidf)\n",
        "report = classification_report( y_test, y_preds )\n",
        "print(report)\n",
        "acc=accuracy_score(y_test,y_preds)\n",
        "print(\"Logistic Regression, Accuracy Score:\" , acc)"
      ],
      "execution_count": 147,
      "outputs": [
        {
          "output_type": "stream",
          "text": [
            "              precision    recall  f1-score   support\n",
            "\n",
            "           0       0.90      0.95      0.93        98\n",
            "           1       0.88      0.78      0.82        45\n",
            "\n",
            "    accuracy                           0.90       143\n",
            "   macro avg       0.89      0.86      0.87       143\n",
            "weighted avg       0.89      0.90      0.89       143\n",
            "\n",
            "Logistic Regression, Accuracy Score: 0.8951048951048951\n"
          ],
          "name": "stdout"
        }
      ]
    },
    {
      "cell_type": "code",
      "metadata": {
        "colab": {
          "base_uri": "https://localhost:8080/"
        },
        "id": "fvEczDY-SRuJ",
        "outputId": "585a316f-1ebd-4cc8-cc46-14d96c6f62e8"
      },
      "source": [
        "X_train_tfidf, X_test_tfidf, y_train, y_test = train_test_split(X, y, random_state=42, test_size=0.2)\n",
        "rf=RandomForestClassifier()\n",
        "rf.fit(X_train_tfidf,y_train)\n",
        "y_preds = rf.predict(X_test_tfidf)\n",
        "acc1=accuracy_score(y_test,y_preds)\n",
        "report = classification_report( y_test, y_preds )\n",
        "print(report)\n",
        "print(\"Random Forest, Accuracy Score:\",acc1)"
      ],
      "execution_count": 148,
      "outputs": [
        {
          "output_type": "stream",
          "text": [
            "              precision    recall  f1-score   support\n",
            "\n",
            "           0       0.90      0.90      0.90        98\n",
            "           1       0.78      0.78      0.78        45\n",
            "\n",
            "    accuracy                           0.86       143\n",
            "   macro avg       0.84      0.84      0.84       143\n",
            "weighted avg       0.86      0.86      0.86       143\n",
            "\n",
            "Random Forest, Accuracy Score: 0.8601398601398601\n"
          ],
          "name": "stdout"
        }
      ]
    },
    {
      "cell_type": "code",
      "metadata": {
        "colab": {
          "base_uri": "https://localhost:8080/"
        },
        "id": "Gd_WUBy4SYUh",
        "outputId": "442949be-3654-4111-dec5-579450216be6"
      },
      "source": [
        "X_train_tfidf, X_test_tfidf, y_train, y_test = train_test_split(X.toarray(), y, random_state=42, test_size=0.2)\n",
        "nb=GaussianNB()\n",
        "nb.fit(X_train_tfidf,y_train)\n",
        "y_preds = nb.predict(X_test_tfidf)\n",
        "acc2=accuracy_score(y_test,y_preds)\n",
        "report = classification_report( y_test, y_preds )\n",
        "print(report)\n",
        "print(\"Naive Bayes, Accuracy Score:\",acc2)"
      ],
      "execution_count": 149,
      "outputs": [
        {
          "output_type": "stream",
          "text": [
            "              precision    recall  f1-score   support\n",
            "\n",
            "           0       0.90      0.84      0.87        98\n",
            "           1       0.69      0.80      0.74        45\n",
            "\n",
            "    accuracy                           0.83       143\n",
            "   macro avg       0.80      0.82      0.80       143\n",
            "weighted avg       0.84      0.83      0.83       143\n",
            "\n",
            "Naive Bayes, Accuracy Score: 0.8251748251748252\n"
          ],
          "name": "stdout"
        }
      ]
    },
    {
      "cell_type": "code",
      "metadata": {
        "colab": {
          "base_uri": "https://localhost:8080/"
        },
        "id": "G1qM-8m5Se1S",
        "outputId": "45403657-30d4-4e97-a825-105c7fe2da4e"
      },
      "source": [
        "support =LinearSVC(random_state=20)\n",
        "support.fit(X_train_tfidf,y_train)\n",
        "y_preds = support.predict(X_test_tfidf)\n",
        "acc3=accuracy_score(y_test,y_preds)\n",
        "report = classification_report( y_test, y_preds )\n",
        "print(report)\n",
        "print(\"SVM, Accuracy Score:\" , acc3)"
      ],
      "execution_count": 150,
      "outputs": [
        {
          "output_type": "stream",
          "text": [
            "              precision    recall  f1-score   support\n",
            "\n",
            "           0       0.92      0.89      0.90        98\n",
            "           1       0.77      0.82      0.80        45\n",
            "\n",
            "    accuracy                           0.87       143\n",
            "   macro avg       0.84      0.85      0.85       143\n",
            "weighted avg       0.87      0.87      0.87       143\n",
            "\n",
            "SVM, Accuracy Score: 0.8671328671328671\n"
          ],
          "name": "stdout"
        }
      ]
    },
    {
      "cell_type": "code",
      "metadata": {
        "colab": {
          "base_uri": "https://localhost:8080/",
          "height": 282
        },
        "id": "smb7RzgnSlC5",
        "outputId": "429aebfe-6f50-4da6-e7ee-9c86905c1ec9"
      },
      "source": [
        "objects = ('Logistic', 'RandomForest', 'Naive_bayes', 'SVM')\n",
        "y_pos = np.arange(len(objects))\n",
        "performance = [acc,acc1,acc2,acc3]\n",
        "plt.bar(y_pos, performance, align='center', alpha=0.5)\n",
        "plt.xticks(y_pos, objects)\n",
        "plt.ylabel('Accuracy')\n",
        "plt.title('Algorithm Comparision for F1')\n",
        "plt.show()"
      ],
      "execution_count": 151,
      "outputs": [
        {
          "output_type": "display_data",
          "data": {
            "image/png": "[encoded data removed]",
            "text/plain": [
              "<Figure size 432x288 with 1 Axes>"
            ]
          },
          "metadata": {
            "tags": [],
            "needs_background": "light"
          }
        }
      ]
    }
  ]
}